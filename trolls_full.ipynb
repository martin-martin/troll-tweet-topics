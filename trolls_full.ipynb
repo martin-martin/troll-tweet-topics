{
 "cells": [
  {
   "cell_type": "markdown",
   "metadata": {},
   "source": [
    "# Topic Modeling on English-language 'Russian Troll Tweets'\n",
    "\n",
    "Does topic modeling using LDA make sense on short-form data such as tweets?\n",
    "[Maybe yes](https://www.researchgate.net/post/What_is_a_good_way_to_perform_topic_modeling_on_short_text). Let's try."
   ]
  },
  {
   "cell_type": "code",
   "execution_count": 13,
   "metadata": {},
   "outputs": [],
   "source": [
    "import os\n",
    "# suppress the numerous deprecation warnings\n",
    "import warnings\n",
    "warnings.filterwarnings(\"ignore\",category=DeprecationWarning)\n",
    "\n",
    "# text preprocessing\n",
    "import re\n",
    "import string\n",
    "import pandas as pd\n",
    "from nltk.tokenize.casual import TweetTokenizer\n",
    "from nltk.corpus import stopwords\n",
    "from nltk.stem.wordnet import WordNetLemmatizer\n",
    "\n",
    "# topic modeling\n",
    "from gensim.corpora import Dictionary\n",
    "from gensim.models import LdaModel, Phrases, phrases\n",
    "import gensim.corpora as corpora\n",
    "from gensim.utils import simple_preprocess\n",
    "from gensim.models import CoherenceModel\n",
    "\n",
    "# visualization\n",
    "import pyLDAvis\n",
    "from pyLDAvis import gensim\n",
    "import matplotlib.pyplot as plt\n",
    "%matplotlib inline"
   ]
  },
  {
   "cell_type": "code",
   "execution_count": 3,
   "metadata": {},
   "outputs": [],
   "source": [
    "# displaying the vis right in our notebook\n",
    "pyLDAvis.enable_notebook()"
   ]
  },
  {
   "cell_type": "markdown",
   "metadata": {},
   "source": [
    "## Import what we'll work with"
   ]
  },
  {
   "cell_type": "code",
   "execution_count": 4,
   "metadata": {},
   "outputs": [],
   "source": [
    "data_dir = 'data'\n",
    "files = os.listdir(data_dir)"
   ]
  },
  {
   "cell_type": "code",
   "execution_count": 5,
   "metadata": {},
   "outputs": [
    {
     "name": "stdout",
     "output_type": "stream",
     "text": [
      "CPU times: user 2.18 s, sys: 371 ms, total: 2.55 s\n",
      "Wall time: 2.84 s\n"
     ]
    }
   ],
   "source": [
    "# change to loop over all of them\n",
    "%time df = pd.read_csv(f\"{data_dir}/{files[0]}\")"
   ]
  },
  {
   "cell_type": "markdown",
   "metadata": {},
   "source": [
    "## Inspect the data quickly"
   ]
  },
  {
   "cell_type": "code",
   "execution_count": 6,
   "metadata": {},
   "outputs": [
    {
     "data": {
      "text/html": [
       "<div>\n",
       "<style scoped>\n",
       "    .dataframe tbody tr th:only-of-type {\n",
       "        vertical-align: middle;\n",
       "    }\n",
       "\n",
       "    .dataframe tbody tr th {\n",
       "        vertical-align: top;\n",
       "    }\n",
       "\n",
       "    .dataframe thead th {\n",
       "        text-align: right;\n",
       "    }\n",
       "</style>\n",
       "<table border=\"1\" class=\"dataframe\">\n",
       "  <thead>\n",
       "    <tr style=\"text-align: right;\">\n",
       "      <th></th>\n",
       "      <th>external_author_id</th>\n",
       "      <th>author</th>\n",
       "      <th>content</th>\n",
       "      <th>region</th>\n",
       "      <th>language</th>\n",
       "      <th>publish_date</th>\n",
       "      <th>harvested_date</th>\n",
       "      <th>following</th>\n",
       "      <th>followers</th>\n",
       "      <th>updates</th>\n",
       "      <th>post_type</th>\n",
       "      <th>account_type</th>\n",
       "      <th>new_june_2018</th>\n",
       "      <th>retweet</th>\n",
       "      <th>account_category</th>\n",
       "    </tr>\n",
       "  </thead>\n",
       "  <tbody>\n",
       "    <tr>\n",
       "      <th>0</th>\n",
       "      <td>1.674084e+09</td>\n",
       "      <td>GAB1ALDANA</td>\n",
       "      <td>People are too toxic. I think I have people po...</td>\n",
       "      <td>United States</td>\n",
       "      <td>English</td>\n",
       "      <td>7/30/2016 20:15</td>\n",
       "      <td>7/30/2016 20:15</td>\n",
       "      <td>3395</td>\n",
       "      <td>2014</td>\n",
       "      <td>2150</td>\n",
       "      <td>RETWEET</td>\n",
       "      <td>Hashtager</td>\n",
       "      <td>0</td>\n",
       "      <td>1</td>\n",
       "      <td>HashtagGamer</td>\n",
       "    </tr>\n",
       "    <tr>\n",
       "      <th>1</th>\n",
       "      <td>1.674084e+09</td>\n",
       "      <td>GAB1ALDANA</td>\n",
       "      <td>#NowPlaying Don't Shoot (I'm a Man) by @DEVO -...</td>\n",
       "      <td>United States</td>\n",
       "      <td>English</td>\n",
       "      <td>7/30/2016 20:15</td>\n",
       "      <td>7/30/2016 20:15</td>\n",
       "      <td>3395</td>\n",
       "      <td>2014</td>\n",
       "      <td>2146</td>\n",
       "      <td>RETWEET</td>\n",
       "      <td>Hashtager</td>\n",
       "      <td>0</td>\n",
       "      <td>1</td>\n",
       "      <td>HashtagGamer</td>\n",
       "    </tr>\n",
       "    <tr>\n",
       "      <th>2</th>\n",
       "      <td>1.674084e+09</td>\n",
       "      <td>GAB1ALDANA</td>\n",
       "      <td>the 'I'm the most boring person in the world' ...</td>\n",
       "      <td>United States</td>\n",
       "      <td>English</td>\n",
       "      <td>7/30/2016 20:16</td>\n",
       "      <td>7/30/2016 20:16</td>\n",
       "      <td>3395</td>\n",
       "      <td>2013</td>\n",
       "      <td>2159</td>\n",
       "      <td>RETWEET</td>\n",
       "      <td>Hashtager</td>\n",
       "      <td>0</td>\n",
       "      <td>1</td>\n",
       "      <td>HashtagGamer</td>\n",
       "    </tr>\n",
       "    <tr>\n",
       "      <th>3</th>\n",
       "      <td>1.674084e+09</td>\n",
       "      <td>GAB1ALDANA</td>\n",
       "      <td>#MyAchillesHeel slippery floors https://t.co/R...</td>\n",
       "      <td>United States</td>\n",
       "      <td>Norwegian</td>\n",
       "      <td>7/30/2016 20:16</td>\n",
       "      <td>7/30/2016 20:16</td>\n",
       "      <td>3395</td>\n",
       "      <td>2013</td>\n",
       "      <td>2160</td>\n",
       "      <td>RETWEET</td>\n",
       "      <td>Hashtager</td>\n",
       "      <td>0</td>\n",
       "      <td>1</td>\n",
       "      <td>HashtagGamer</td>\n",
       "    </tr>\n",
       "    <tr>\n",
       "      <th>4</th>\n",
       "      <td>1.674084e+09</td>\n",
       "      <td>GAB1ALDANA</td>\n",
       "      <td>#MyAchillesHeel Boring narcissists.....nothing...</td>\n",
       "      <td>United States</td>\n",
       "      <td>English</td>\n",
       "      <td>7/30/2016 20:16</td>\n",
       "      <td>7/30/2016 20:16</td>\n",
       "      <td>3395</td>\n",
       "      <td>2013</td>\n",
       "      <td>2158</td>\n",
       "      <td>RETWEET</td>\n",
       "      <td>Hashtager</td>\n",
       "      <td>0</td>\n",
       "      <td>1</td>\n",
       "      <td>HashtagGamer</td>\n",
       "    </tr>\n",
       "  </tbody>\n",
       "</table>\n",
       "</div>"
      ],
      "text/plain": [
       "   external_author_id      author  \\\n",
       "0        1.674084e+09  GAB1ALDANA   \n",
       "1        1.674084e+09  GAB1ALDANA   \n",
       "2        1.674084e+09  GAB1ALDANA   \n",
       "3        1.674084e+09  GAB1ALDANA   \n",
       "4        1.674084e+09  GAB1ALDANA   \n",
       "\n",
       "                                             content         region  \\\n",
       "0  People are too toxic. I think I have people po...  United States   \n",
       "1  #NowPlaying Don't Shoot (I'm a Man) by @DEVO -...  United States   \n",
       "2  the 'I'm the most boring person in the world' ...  United States   \n",
       "3  #MyAchillesHeel slippery floors https://t.co/R...  United States   \n",
       "4  #MyAchillesHeel Boring narcissists.....nothing...  United States   \n",
       "\n",
       "    language     publish_date   harvested_date  following  followers  updates  \\\n",
       "0    English  7/30/2016 20:15  7/30/2016 20:15       3395       2014     2150   \n",
       "1    English  7/30/2016 20:15  7/30/2016 20:15       3395       2014     2146   \n",
       "2    English  7/30/2016 20:16  7/30/2016 20:16       3395       2013     2159   \n",
       "3  Norwegian  7/30/2016 20:16  7/30/2016 20:16       3395       2013     2160   \n",
       "4    English  7/30/2016 20:16  7/30/2016 20:16       3395       2013     2158   \n",
       "\n",
       "  post_type account_type  new_june_2018  retweet account_category  \n",
       "0   RETWEET    Hashtager              0        1     HashtagGamer  \n",
       "1   RETWEET    Hashtager              0        1     HashtagGamer  \n",
       "2   RETWEET    Hashtager              0        1     HashtagGamer  \n",
       "3   RETWEET    Hashtager              0        1     HashtagGamer  \n",
       "4   RETWEET    Hashtager              0        1     HashtagGamer  "
      ]
     },
     "execution_count": 6,
     "metadata": {},
     "output_type": "execute_result"
    }
   ],
   "source": [
    "df.head()"
   ]
  },
  {
   "cell_type": "markdown",
   "metadata": {},
   "source": [
    "## Filter for English language tweets\n",
    "\n",
    "We want to look at \"Russians covertly posing as English-speakers\", therefore we'll only look at tweets that have `English` as a `language`.\n",
    "\n",
    "Another option would be to search for `region` and select only those coming from `United States`, but IMO the previous filter would be more interesting."
   ]
  },
  {
   "cell_type": "code",
   "execution_count": 7,
   "metadata": {},
   "outputs": [],
   "source": [
    "en_df = df[df.language == 'English']"
   ]
  },
  {
   "cell_type": "markdown",
   "metadata": {},
   "source": [
    "## Text preprocessing and data cleaning\n",
    "\n",
    "Lesson learned from yesterday, let's only pull out what we really don't want to happen inside the function!"
   ]
  },
  {
   "cell_type": "code",
   "execution_count": 8,
   "metadata": {},
   "outputs": [],
   "source": [
    "# instantiating our multi-use tokenizer\n",
    "tknzr = TweetTokenizer()\n",
    "\n",
    "# creating the punctuation list we want to exclude\n",
    "punct = string.punctuation\n",
    "# adding additional common punctuation chars of the texts\n",
    "add_punct = \"\"\n",
    "punct += add_punct\n",
    "    \n",
    "# our extended stopwords list\n",
    "stpw = stopwords.words('english')\n",
    "add_stopwords = ['http', 'https']\n",
    "stpw.extend(add_stopwords)"
   ]
  },
  {
   "cell_type": "markdown",
   "metadata": {},
   "source": [
    "Finally it's time to introduce RegExp to boost our matching :)"
   ]
  },
  {
   "cell_type": "code",
   "execution_count": 9,
   "metadata": {},
   "outputs": [],
   "source": [
    "# matches two or more alpha characters\n",
    "# thus it should exclude things such as 's or numbers, or any single-letters floating around\n",
    "# however, there will still be a match if we run it on e.g. #usa\n",
    "# play here: https://regexr.com/\n",
    "regexp = re.compile(r'[a-z]{2,}')"
   ]
  },
  {
   "cell_type": "code",
   "execution_count": 10,
   "metadata": {},
   "outputs": [],
   "source": [
    "def preprocess(tweet, tokenizer, regexp, punct, stpw):\n",
    "    # remove capitalization\n",
    "    tweet = tweet.lower()\n",
    "    # tokenize\n",
    "    tokens = tokenizer.tokenize(tweet)\n",
    "    # remove punctuation ('t' stands for 'token' - we're looping over all tokens)\n",
    "    no_punct = (t for t in tokens if not t in punct)\n",
    "    # remove stopwords\n",
    "    no_stpw = (t for t in no_punct if not t in stpw)\n",
    "    # remove other strange character-letter-punctuation combinations\n",
    "    # NOTE: this will filter out things such as emojis and text-based emoticons\n",
    "    # TODO: adapt the RegExp above to keep matching those!\n",
    "    no_weirds = (t for t in no_stpw if re.search(regexp, t))\n",
    "    # lemmatize remaining tokens\n",
    "    lem = WordNetLemmatizer()\n",
    "    lem_tokens = [lem.lemmatize(t) for t in no_weirds]\n",
    "    return lem_tokens"
   ]
  },
  {
   "cell_type": "code",
   "execution_count": 11,
   "metadata": {},
   "outputs": [
    {
     "name": "stdout",
     "output_type": "stream",
     "text": [
      "CPU times: user 1min 23s, sys: 1.33 s, total: 1min 24s\n",
      "Wall time: 1min 28s\n"
     ]
    }
   ],
   "source": [
    "%time tweet_corpus = [preprocess(tweet, tknzr, regexp, punct, stpw) for tweet in iter(df.content) if type(tweet) == str]"
   ]
  },
  {
   "cell_type": "markdown",
   "metadata": {},
   "source": [
    "# Creating Bigrams and Trigrams\n",
    "\n",
    "Should work with a collection of texts."
   ]
  },
  {
   "cell_type": "code",
   "execution_count": 25,
   "metadata": {},
   "outputs": [
    {
     "name": "stderr",
     "output_type": "stream",
     "text": [
      "/Users/martin/Documents/codingnomads/nlpython/big_projects/troll_tweets/env/lib/python3.6/site-packages/gensim/models/phrases.py:598: UserWarning: For a faster implementation, use the gensim.models.phrases.Phraser class\n",
      "  warnings.warn(\"For a faster implementation, use the gensim.models.phrases.Phraser class\")\n"
     ]
    },
    {
     "name": "stdout",
     "output_type": "stream",
     "text": [
      "['people', 'toxic', 'think', 'people', 'poisoning']\n"
     ]
    }
   ],
   "source": [
    "# Build the bigram and trigram models\n",
    "bigram = Phrases(tweet_corpus, min_count=10, threshold=200) # higher threshold fewer phrases.\n",
    "trigram = Phrases(bigram[tweet_corpus], threshold=100)  \n",
    "\n",
    "# Faster way to get a sentence clubbed as a trigram/bigram\n",
    "bigram_mod = phrases.Phraser(bigram)\n",
    "trigram_mod = phrases.Phraser(trigram)\n",
    "\n",
    "# See trigram example\n",
    "print(trigram_mod[bigram_mod[tweet_corpus[0]]])"
   ]
  },
  {
   "cell_type": "code",
   "execution_count": 26,
   "metadata": {},
   "outputs": [],
   "source": [
    "def make_bigrams(texts):\n",
    "    return [bigram_mod[doc] for doc in texts]\n",
    "\n",
    "def make_trigrams(texts):\n",
    "    return [trigram_mod[bigram_mod[doc]] for doc in texts]"
   ]
  },
  {
   "cell_type": "code",
   "execution_count": 27,
   "metadata": {},
   "outputs": [
    {
     "name": "stdout",
     "output_type": "stream",
     "text": [
      "CPU times: user 31.3 s, sys: 10.8 s, total: 42.1 s\n",
      "Wall time: 1min 46s\n"
     ]
    }
   ],
   "source": [
    "# Form Bigrams\n",
    "%time data_words_bigrams = make_bigrams(tweet_corpus)"
   ]
  },
  {
   "cell_type": "code",
   "execution_count": 28,
   "metadata": {},
   "outputs": [
    {
     "name": "stdout",
     "output_type": "stream",
     "text": [
      "[['people', 'toxic', 'think', 'people', 'poisoning'], ['#nowplaying', 'shoot', 'man', '@devo', 'https://t.co/9ildvpexkb', 'buy', 'https://t.co/6gkovvcur0'], ['boring', 'person', 'world', 'starterpack', '#pokemongo', 'https://t.co/u8woa1s3j7'], ['#myachillesheel', 'slippery', 'floor', 'https://t.co/r8nqnxnx4l'], ['#myachillesheel', 'boring', 'narcissist', 'nothing', 'wrong', 'narcissism', 'boring', 'dare'], ['opinion', 'hillary', 'really', 'matter', 'non-american', 'https://t.co/tze6denkr0'], ['#myachillesheel', 'lilith', 'frasier'], ['come', 'find', 'u', 'national', 'mall', '#dc', '#pokewalk', 'treat', 'thanks', '@kindsnacks', '@drinkbai', '#pokemon', 'https://t.co/teofzdwm66'], ['#myachillesheel', 'trolling', 'celebrity', 'blocked', 'wil', 'wheathead', 'explain', '#nra', 'caused', \"earth's\", 'evil'], ['#myachillesheel', 'morbid', 'comedy'], ['#myachillesheel', 'yo', 'momma', 'beyonce', 'costume'], ['#myachillesheel', 'woman', 'heel', 'https://t.co/ycggu01btv'], ['sometimes', 'seeing', 'thing', 'black', 'white', '#myachillesheel', 'https://t.co/mygz1ycsjk'], ['making', 'horrible', 'joke', 'people', 'find', 'funny', '#myachillesheel'], ['came', 'back', 'stop', 'horrific', 'graham', 'v', \"o'malley\", 'election', 'ended', 'trump', 'v', 'hillary', 'whoop', '#mybad', '#timetravelerproblems'], ['leave', 'car', 'take', 'whole', 'new', 'meaning', '#timetravelerproblems', '@midnight'], ['#nameyournaughtybits', 'business', 'front', 'party', 'back'], ['#howyouwonthemover', 'declared', 'thumb', 'war', 'dropped', 'clothes', 'ah', 'memory'], ['hungry', 'men', '#splifffilms'], ['#timetravelerproblems', 'jurassic', 'atmosphere', 'oxygen', 'rich', 'get', 'really', 'high', 'bleed', 'death', 'giant', 'mosquito', 'bite']]\n"
     ]
    }
   ],
   "source": [
    "print(data_words_bigrams[:20])"
   ]
  },
  {
   "cell_type": "code",
   "execution_count": 29,
   "metadata": {},
   "outputs": [],
   "source": [
    "bigrams = []\n",
    "\n",
    "for word_li in data_words_bigrams:\n",
    "    for w in word_li:\n",
    "        if \"_\" in w:\n",
    "            bigrams.append(w)"
   ]
  },
  {
   "cell_type": "code",
   "execution_count": 30,
   "metadata": {},
   "outputs": [],
   "source": [
    "# bigrams[:30]  # old_fashioned"
   ]
  },
  {
   "cell_type": "code",
   "execution_count": 31,
   "metadata": {},
   "outputs": [
    {
     "data": {
      "text/plain": [
       "7669"
      ]
     },
     "execution_count": 31,
     "metadata": {},
     "output_type": "execute_result"
    }
   ],
   "source": [
    "len(set(bigrams))"
   ]
  },
  {
   "cell_type": "markdown",
   "metadata": {},
   "source": [
    "## Topic modeling with `gensim`"
   ]
  },
  {
   "cell_type": "code",
   "execution_count": 35,
   "metadata": {},
   "outputs": [
    {
     "name": "stdout",
     "output_type": "stream",
     "text": [
      "CPU times: user 9.45 s, sys: 628 ms, total: 10.1 s\n",
      "Wall time: 10.5 s\n"
     ]
    }
   ],
   "source": [
    "%time dictionary = Dictionary(tweet_corpus)"
   ]
  },
  {
   "cell_type": "code",
   "execution_count": 36,
   "metadata": {},
   "outputs": [
    {
     "name": "stdout",
     "output_type": "stream",
     "text": [
      "CPU times: user 7.91 s, sys: 2.27 s, total: 10.2 s\n",
      "Wall time: 13.2 s\n"
     ]
    }
   ],
   "source": [
    "%time gen_corpus = [dictionary.doc2bow(tweet) for tweet in tweet_corpus]"
   ]
  },
  {
   "cell_type": "markdown",
   "metadata": {},
   "source": [
    "After timing the different cell execution times with `%time`, it becomes clear that the main time-eater here is building the LDA model. We can't really speed that up without having a good understanding of the internal workings of `gensim`."
   ]
  },
  {
   "cell_type": "code",
   "execution_count": 37,
   "metadata": {},
   "outputs": [
    {
     "name": "stdout",
     "output_type": "stream",
     "text": [
      "CPU times: user 4min 55s, sys: 15.9 s, total: 5min 10s\n",
      "Wall time: 5min 25s\n"
     ]
    }
   ],
   "source": [
    "warnings.filterwarnings(\"ignore\")\n",
    "%time ldamodel = LdaModel(corpus=gen_corpus, num_topics=10, id2word=dictionary)"
   ]
  },
  {
   "cell_type": "code",
   "execution_count": 38,
   "metadata": {},
   "outputs": [
    {
     "data": {
      "text/plain": [
       "[(0,\n",
       "  '0.015*\"#pjnet\" + 0.012*\"#tcot\" + 0.009*\"obama\" + 0.008*\"u\" + 0.007*\"like\" + 0.006*\"medium\" + 0.006*\"help\" + 0.006*\"people\" + 0.006*\"say\" + 0.005*\"report\"'),\n",
       " (1,\n",
       "  '0.008*\"rt\" + 0.008*\"killing\" + 0.008*\"missing\" + 0.008*\"cruz\" + 0.007*\"texas\" + 0.007*\"terror\" + 0.006*\"return\" + 0.006*\"die\" + 0.006*\"driver\" + 0.006*\"district\"'),\n",
       " (2,\n",
       "  '0.042*\"#news\" + 0.034*\"police\" + 0.018*\"man\" + 0.012*\"shooting\" + 0.009*\"school\" + 0.009*\"officer\" + 0.007*\"suspect\" + 0.007*\"shot\" + 0.007*\"arrested\" + 0.007*\"topeka\"'),\n",
       " (3,\n",
       "  '0.007*\"supreme\" + 0.007*\"sentenced\" + 0.007*\"congress\" + 0.006*\"mother\" + 0.005*\"air\" + 0.005*\"train\" + 0.005*\"#job\" + 0.005*\"oklahoma\" + 0.005*\"protect\" + 0.004*\"east\"'),\n",
       " (4,\n",
       "  '0.054*\"kansa\" + 0.035*\"#news\" + 0.015*\"american\" + 0.010*\"county\" + 0.010*\"city\" + 0.010*\"death\" + 0.008*\"new\" + 0.008*\"tax\" + 0.006*\"charged\" + 0.006*\"missouri\"'),\n",
       " (5,\n",
       "  '0.019*\"gun\" + 0.008*\"#isis\" + 0.006*\"control\" + 0.006*\"targeted\" + 0.006*\"freedom\" + 0.006*\"islam\" + 0.006*\"#opiceisis\" + 0.006*\"looking\" + 0.006*\"#targets\" + 0.006*\"#iceisis\"'),\n",
       " (6,\n",
       "  '0.018*\"#news\" + 0.014*\"trump\" + 0.010*\"man\" + 0.009*\"woman\" + 0.009*\"killed\" + 0.009*\"house\" + 0.008*\"wichita\" + 0.008*\"people\" + 0.008*\"america\" + 0.007*\"black\"'),\n",
       " (7,\n",
       "  '0.039*\"trump\" + 0.025*\"clinton\" + 0.020*\"hillary\" + 0.016*\"#politics\" + 0.011*\"mt\" + 0.010*\"bill\" + 0.009*\"call\" + 0.007*\"campaign\" + 0.006*\"dy\" + 0.006*\"donald\"'),\n",
       " (8,\n",
       "  '0.069*\"#news\" + 0.014*\"new\" + 0.011*\"crash\" + 0.010*\"state\" + 0.009*\"attack\" + 0.008*\"court\" + 0.008*\"obama\" + 0.008*\"fire\" + 0.007*\"#politics\" + 0.007*\"case\"'),\n",
       " (9,\n",
       "  '0.010*\"every\" + 0.009*\"weather\" + 0.008*\"accused\" + 0.006*\"rain\" + 0.005*\"recall\" + 0.005*\"local\" + 0.005*\"center\" + 0.004*\"outside\" + 0.004*\"hear\" + 0.004*\"#blacklivesmatter\"')]"
      ]
     },
     "execution_count": 38,
     "metadata": {},
     "output_type": "execute_result"
    }
   ],
   "source": [
    "ldamodel.show_topics()"
   ]
  },
  {
   "cell_type": "markdown",
   "metadata": {},
   "source": [
    "## Visualize the resulting topics\n",
    "\n",
    "Here we are using `pyLDAvis` - the `import` needs to be explicit to work, so it might appear that this is part of the `gensim` package, but instead this is from `pyLDAvis`."
   ]
  },
  {
   "cell_type": "code",
   "execution_count": 39,
   "metadata": {},
   "outputs": [
    {
     "name": "stdout",
     "output_type": "stream",
     "text": [
      "CPU times: user 1min 16s, sys: 5.57 s, total: 1min 21s\n",
      "Wall time: 2min 37s\n"
     ]
    },
    {
     "data": {
      "text/html": [
       "\n",
       "<link rel=\"stylesheet\" type=\"text/css\" href=\"https://cdn.rawgit.com/bmabey/pyLDAvis/files/ldavis.v1.0.0.css\">\n",
       "\n",
       "\n",
       "<div id=\"ldavis_el6183359787689926911027213\"></div>\n",
       "<script type=\"text/javascript\">\n",
       "\n",
       "var ldavis_el6183359787689926911027213_data = {\"mdsDat\": {\"x\": [-0.20619716325377443, -0.22812524900383693, -0.06939435472781136, -0.06642272049952917, -0.09462534299847673, -0.017407025001100838, 0.16869883271094321, 0.16070858959939247, 0.1787636568668266, 0.17400077630736754], \"y\": [0.2076756815233399, 0.04251630766716747, 0.1391113325267708, -0.1944691251282283, -0.18210497270417317, -0.1819267423597782, 0.04434239607476772, 0.04092022939105564, 0.041471601333886284, 0.04246329167519182], \"topics\": [1, 2, 3, 4, 5, 6, 7, 8, 9, 10], \"cluster\": [1, 1, 1, 1, 1, 1, 1, 1, 1, 1], \"Freq\": [17.33622169494629, 15.270926475524902, 10.850448608398438, 9.686235427856445, 9.507814407348633, 9.014376640319824, 8.533292770385742, 6.687270641326904, 6.609138011932373, 6.504274845123291]}, \"tinfo\": {\"Category\": [\"Default\", \"Default\", \"Default\", \"Default\", \"Default\", \"Default\", \"Default\", \"Default\", \"Default\", \"Default\", \"Default\", \"Default\", \"Default\", \"Default\", \"Default\", \"Default\", \"Default\", \"Default\", \"Default\", \"Default\", \"Default\", \"Default\", \"Default\", \"Default\", \"Default\", \"Default\", \"Default\", \"Default\", \"Default\", \"Default\", \"Topic1\", \"Topic1\", \"Topic1\", \"Topic1\", \"Topic1\", \"Topic1\", \"Topic1\", \"Topic1\", \"Topic1\", \"Topic1\", \"Topic1\", \"Topic1\", \"Topic1\", \"Topic1\", \"Topic1\", \"Topic1\", \"Topic1\", \"Topic1\", \"Topic1\", \"Topic1\", \"Topic1\", \"Topic1\", \"Topic1\", \"Topic1\", \"Topic1\", \"Topic1\", \"Topic1\", \"Topic1\", \"Topic1\", \"Topic1\", \"Topic1\", \"Topic1\", \"Topic1\", \"Topic1\", \"Topic1\", \"Topic1\", \"Topic1\", \"Topic1\", \"Topic1\", \"Topic1\", \"Topic1\", \"Topic1\", \"Topic1\", \"Topic1\", \"Topic1\", \"Topic1\", \"Topic1\", \"Topic1\", \"Topic1\", \"Topic1\", \"Topic1\", \"Topic1\", \"Topic1\", \"Topic1\", \"Topic1\", \"Topic1\", \"Topic2\", \"Topic2\", \"Topic2\", \"Topic2\", \"Topic2\", \"Topic2\", \"Topic2\", \"Topic2\", \"Topic2\", \"Topic2\", \"Topic2\", \"Topic2\", \"Topic2\", \"Topic2\", \"Topic2\", \"Topic2\", \"Topic2\", \"Topic2\", \"Topic2\", \"Topic2\", \"Topic2\", \"Topic2\", \"Topic2\", \"Topic2\", \"Topic2\", \"Topic2\", \"Topic2\", \"Topic2\", \"Topic2\", \"Topic2\", \"Topic2\", \"Topic2\", \"Topic2\", \"Topic2\", \"Topic2\", \"Topic2\", \"Topic2\", \"Topic2\", \"Topic2\", \"Topic2\", \"Topic2\", \"Topic2\", \"Topic2\", \"Topic2\", \"Topic2\", \"Topic2\", \"Topic2\", \"Topic2\", \"Topic2\", \"Topic2\", \"Topic3\", \"Topic3\", \"Topic3\", \"Topic3\", \"Topic3\", \"Topic3\", \"Topic3\", \"Topic3\", \"Topic3\", \"Topic3\", \"Topic3\", \"Topic3\", \"Topic3\", \"Topic3\", \"Topic3\", \"Topic3\", \"Topic3\", \"Topic3\", \"Topic3\", \"Topic3\", \"Topic3\", \"Topic3\", \"Topic3\", \"Topic3\", \"Topic3\", \"Topic3\", \"Topic3\", \"Topic3\", \"Topic3\", \"Topic3\", \"Topic3\", \"Topic3\", \"Topic3\", \"Topic3\", \"Topic3\", \"Topic3\", \"Topic3\", \"Topic3\", \"Topic3\", \"Topic3\", \"Topic3\", \"Topic3\", \"Topic4\", \"Topic4\", \"Topic4\", \"Topic4\", \"Topic4\", \"Topic4\", \"Topic4\", \"Topic4\", \"Topic4\", \"Topic4\", \"Topic4\", \"Topic4\", \"Topic4\", \"Topic4\", \"Topic4\", \"Topic4\", \"Topic4\", \"Topic4\", \"Topic4\", \"Topic4\", \"Topic4\", \"Topic4\", \"Topic4\", \"Topic4\", \"Topic4\", \"Topic4\", \"Topic4\", \"Topic4\", \"Topic4\", \"Topic4\", \"Topic4\", \"Topic4\", \"Topic4\", \"Topic4\", \"Topic4\", \"Topic4\", \"Topic4\", \"Topic4\", \"Topic4\", \"Topic4\", \"Topic4\", \"Topic4\", \"Topic4\", \"Topic4\", \"Topic5\", \"Topic5\", \"Topic5\", \"Topic5\", \"Topic5\", \"Topic5\", \"Topic5\", \"Topic5\", \"Topic5\", \"Topic5\", \"Topic5\", \"Topic5\", \"Topic5\", \"Topic5\", \"Topic5\", \"Topic5\", \"Topic5\", \"Topic5\", \"Topic5\", \"Topic5\", \"Topic5\", \"Topic5\", \"Topic5\", \"Topic5\", \"Topic5\", \"Topic5\", \"Topic5\", \"Topic5\", \"Topic5\", \"Topic5\", \"Topic5\", \"Topic5\", \"Topic5\", \"Topic5\", \"Topic5\", \"Topic5\", \"Topic5\", \"Topic5\", \"Topic5\", \"Topic5\", \"Topic5\", \"Topic5\", \"Topic5\", \"Topic5\", \"Topic5\", \"Topic5\", \"Topic5\", \"Topic5\", \"Topic5\", \"Topic5\", \"Topic5\", \"Topic5\", \"Topic6\", \"Topic6\", \"Topic6\", \"Topic6\", \"Topic6\", \"Topic6\", \"Topic6\", \"Topic6\", \"Topic6\", \"Topic6\", \"Topic6\", \"Topic6\", \"Topic6\", \"Topic6\", \"Topic6\", \"Topic6\", \"Topic6\", \"Topic6\", \"Topic6\", \"Topic6\", \"Topic6\", \"Topic6\", \"Topic6\", \"Topic6\", \"Topic6\", \"Topic6\", \"Topic6\", \"Topic6\", \"Topic6\", \"Topic6\", \"Topic6\", \"Topic6\", \"Topic6\", \"Topic6\", \"Topic6\", \"Topic6\", \"Topic6\", \"Topic6\", \"Topic6\", \"Topic6\", \"Topic6\", \"Topic6\", \"Topic6\", \"Topic7\", \"Topic7\", \"Topic7\", \"Topic7\", \"Topic7\", \"Topic7\", \"Topic7\", \"Topic7\", \"Topic7\", \"Topic7\", \"Topic7\", \"Topic7\", \"Topic7\", \"Topic7\", \"Topic7\", \"Topic7\", \"Topic7\", \"Topic7\", \"Topic7\", \"Topic7\", \"Topic7\", \"Topic7\", \"Topic7\", \"Topic7\", \"Topic7\", \"Topic7\", \"Topic7\", \"Topic7\", \"Topic7\", \"Topic7\", \"Topic7\", \"Topic8\", \"Topic8\", \"Topic8\", \"Topic8\", \"Topic8\", \"Topic8\", \"Topic8\", \"Topic8\", \"Topic8\", \"Topic8\", \"Topic8\", \"Topic8\", \"Topic8\", \"Topic8\", \"Topic8\", \"Topic8\", \"Topic8\", \"Topic8\", \"Topic8\", \"Topic8\", \"Topic8\", \"Topic8\", \"Topic8\", \"Topic8\", \"Topic8\", \"Topic8\", \"Topic8\", \"Topic8\", \"Topic8\", \"Topic8\", \"Topic8\", \"Topic8\", \"Topic8\", \"Topic9\", \"Topic9\", \"Topic9\", \"Topic9\", \"Topic9\", \"Topic9\", \"Topic9\", \"Topic9\", \"Topic9\", \"Topic9\", \"Topic9\", \"Topic9\", \"Topic9\", \"Topic9\", \"Topic9\", \"Topic9\", \"Topic9\", \"Topic9\", \"Topic9\", \"Topic9\", \"Topic9\", \"Topic9\", \"Topic9\", \"Topic9\", \"Topic9\", \"Topic9\", \"Topic9\", \"Topic9\", \"Topic9\", \"Topic9\", \"Topic9\", \"Topic10\", \"Topic10\", \"Topic10\", \"Topic10\", \"Topic10\", \"Topic10\", \"Topic10\", \"Topic10\", \"Topic10\", \"Topic10\", \"Topic10\", \"Topic10\", \"Topic10\", \"Topic10\", \"Topic10\", \"Topic10\", \"Topic10\", \"Topic10\", \"Topic10\", \"Topic10\", \"Topic10\", \"Topic10\", \"Topic10\", \"Topic10\", \"Topic10\", \"Topic10\", \"Topic10\", \"Topic10\", \"Topic10\", \"Topic10\", \"Topic10\"], \"Freq\": [49217.0, 14427.0, 21692.0, 9653.0, 8113.0, 9485.0, 7389.0, 7629.0, 8195.0, 6141.0, 8226.0, 3654.0, 3911.0, 7269.0, 3678.0, 4478.0, 4522.0, 6733.0, 5754.0, 3170.0, 3921.0, 3962.0, 3792.0, 3041.0, 2769.0, 3529.0, 3639.0, 4820.0, 2626.0, 2773.0, 6140.62109375, 2990.424560546875, 2799.385009765625, 3028.067138671875, 2551.907958984375, 2125.898681640625, 1864.0570068359375, 1797.7196044921875, 1770.267822265625, 1621.7503662109375, 1585.5302734375, 1570.0931396484375, 1541.5584716796875, 1509.543701171875, 1485.4630126953125, 1435.1317138671875, 1432.2650146484375, 1766.4915771484375, 1319.2801513671875, 1319.0023193359375, 1315.5029296875, 1313.0040283203125, 1225.0927734375, 1280.9205322265625, 1220.2587890625, 1200.5240478515625, 1152.4188232421875, 1143.71533203125, 1129.84326171875, 1202.9466552734375, 7603.7314453125, 1975.539306640625, 1294.049560546875, 1436.8453369140625, 3596.8125, 4587.5712890625, 4315.26806640625, 2522.395263671875, 2551.62890625, 2059.60595703125, 2206.33935546875, 2772.15234375, 2128.15234375, 2927.915283203125, 2186.626953125, 2394.5419921875, 2886.33203125, 2388.191650390625, 2337.378662109375, 2082.591064453125, 2115.911376953125, 2037.9461669921875, 1953.037353515625, 1926.9163818359375, 1876.131103515625, 1896.6722412109375, 3921.21875, 3791.2822265625, 3133.638671875, 3105.62109375, 2454.97412109375, 2305.164306640625, 2159.44775390625, 2185.19189453125, 2026.84814453125, 1914.3436279296875, 1884.1087646484375, 1664.7498779296875, 1596.7794189453125, 1594.0032958984375, 1453.4486083984375, 1416.5787353515625, 1326.373046875, 1325.65380859375, 1315.29931640625, 1292.8817138671875, 1263.2021484375, 1258.71826171875, 1246.091064453125, 1134.9468994140625, 1132.4071044921875, 1129.6187744140625, 1128.267333984375, 1124.5208740234375, 1058.6507568359375, 1057.441650390625, 3924.512939453125, 3498.260009765625, 1501.5372314453125, 4124.4111328125, 1827.324951171875, 3790.292236328125, 2416.908203125, 4399.92138671875, 2397.86669921875, 2019.8427734375, 1884.0721435546875, 6374.77587890625, 2731.955322265625, 2410.988037109375, 8269.478515625, 2333.4453125, 2080.747802734375, 1969.9801025390625, 2109.4775390625, 2017.1351318359375, 8112.79833984375, 3677.64794921875, 3040.9833984375, 2772.322509765625, 2345.95068359375, 2055.80029296875, 1859.0931396484375, 1806.58837890625, 1671.2371826171875, 1548.713623046875, 1499.4420166015625, 1474.04345703125, 1457.451416015625, 1368.478759765625, 1336.9786376953125, 1280.544677734375, 1249.152587890625, 1190.0296630859375, 1153.3585205078125, 1097.4866943359375, 1077.49169921875, 1074.6402587890625, 1052.0411376953125, 1016.0630493164062, 966.1502075195312, 886.9847412109375, 848.6058959960938, 826.195556640625, 796.54345703125, 765.9736328125, 844.218017578125, 6524.5888671875, 1585.3978271484375, 12372.5693359375, 5125.0224609375, 2015.746337890625, 1422.4801025390625, 1596.2774658203125, 1892.70263671875, 1529.6142578125, 1257.2073974609375, 1637.2314453125, 9652.6875, 2514.31201171875, 2129.357177734375, 1944.3875732421875, 1885.25244140625, 1566.805419921875, 1484.110107421875, 1451.56396484375, 1354.092529296875, 1317.3935546875, 1209.2408447265625, 1181.505859375, 1165.526123046875, 1017.0145263671875, 936.8078002929688, 933.8403930664062, 898.5218505859375, 898.397705078125, 897.9568481445312, 895.1549072265625, 837.7799072265625, 833.177734375, 830.703125, 785.9515380859375, 771.58203125, 1092.5401611328125, 764.64208984375, 755.3494262695312, 749.1865234375, 709.4524536132812, 2088.724853515625, 904.1212768554688, 1354.7218017578125, 3545.96630859375, 2597.539794921875, 5084.8642578125, 12119.3955078125, 1888.2264404296875, 1118.547607421875, 1087.87353515625, 995.7233276367188, 952.09521484375, 1145.5750732421875, 1161.8814697265625, 3169.89697265625, 2625.82177734375, 2367.79296875, 1850.4361572265625, 1626.001953125, 1604.810302734375, 1196.4521484375, 1078.8721923828125, 1049.5540771484375, 1040.4395751953125, 933.1835327148438, 808.626220703125, 762.3922119140625, 731.434326171875, 726.72265625, 720.4096069335938, 688.95458984375, 672.71533203125, 666.4087524414062, 665.4150390625, 665.1168212890625, 658.3910522460938, 647.7764282226562, 616.6555786132812, 613.1204833984375, 612.7354736328125, 609.364501953125, 608.9370727539062, 606.5392456054688, 578.5364990234375, 1285.9974365234375, 771.486083984375, 19226.763671875, 2224.898681640625, 3862.085205078125, 2938.2529296875, 1565.203369140625, 1299.3580322265625, 1589.7174072265625, 1030.405517578125, 1391.7808837890625, 1554.0318603515625, 1295.898681640625, 2361.122314453125, 1728.9912109375, 974.2259521484375, 2003.9610595703125, 871.748046875, 1059.6641845703125, 907.2158203125, 941.858154296875, 1048.2564697265625, 14426.51953125, 3910.825927734375, 2769.21728515625, 1704.8145751953125, 1692.8831787109375, 1597.2916259765625, 2161.27099609375, 1449.179931640625, 1408.7747802734375, 1255.390869140625, 1120.90087890625, 1120.953369140625, 1121.9737548828125, 948.9656982421875, 929.1365356445312, 883.2017822265625, 761.7590942382812, 756.8109130859375, 739.5484619140625, 731.546875, 701.1068115234375, 697.1941528320312, 691.4270629882812, 685.8495483398438, 682.6043701171875, 674.346923828125, 624.3516235351562, 621.918212890625, 620.1832885742188, 614.1233520507812, 1089.1119384765625, 2588.681884765625, 2748.67626953125, 1521.03515625, 9387.318359375, 1601.4140625, 833.8262329101562, 744.4072875976562, 2254.30078125, 1101.1492919921875, 1081.6568603515625, 788.8878173828125, 759.01025390625, 1985.413330078125, 1979.2735595703125, 1919.9415283203125, 1806.826171875, 1653.3966064453125, 1573.8123779296875, 1499.90966796875, 1477.4561767578125, 1394.7607421875, 1336.2840576171875, 1248.234619140625, 1199.621337890625, 1166.742431640625, 1162.0787353515625, 1159.6563720703125, 1149.176025390625, 1142.1876220703125, 1125.726318359375, 1105.8211669921875, 1101.22021484375, 1093.59375, 986.1469116210938, 953.1962890625, 933.1714477539062, 929.7134399414062, 835.1058349609375, 824.9671630859375, 824.4092407226562, 812.7008056640625, 787.2196044921875, 2089.74951171875, 3653.766845703125, 1609.546875, 1220.3563232421875, 1158.133056640625, 1129.5252685546875, 1105.224853515625, 1102.5379638671875, 1089.7159423828125, 1089.720947265625, 1065.63427734375, 957.3583984375, 950.339111328125, 877.4154052734375, 828.9679565429688, 819.12890625, 812.255859375, 794.7793579101562, 792.6654663085938, 785.584228515625, 749.894775390625, 741.3699951171875, 724.3820190429688, 709.46533203125, 697.9987182617188, 675.1447143554688, 661.8171997070312, 644.76806640625, 637.9636840820312, 600.6242065429688, 595.610595703125, 1237.1602783203125, 865.9232788085938, 676.2040405273438, 1404.549560546875, 1344.0335693359375, 1300.2039794921875, 1109.3038330078125, 1039.848876953125, 1037.999267578125, 1017.3195190429688, 1017.513671875, 913.0079956054688, 842.2698364257812, 786.9309692382812, 722.02685546875, 715.4061279296875, 699.5770874023438, 697.27099609375, 669.871337890625, 659.3121948242188, 640.6194458007812, 621.4053955078125, 588.0901489257812, 586.8030395507812, 578.4426879882812, 558.6314697265625, 556.9908447265625, 553.24072265625, 552.0455322265625, 531.1028442382812, 512.7036743164062, 511.41864013671875, 469.60675048828125, 472.0224914550781, 2006.9320068359375, 1796.9100341796875, 1510.3746337890625, 1098.900390625, 1039.0908203125, 970.5958862304688, 931.3815307617188, 820.6176147460938, 806.2017822265625, 766.1112060546875, 735.3734741210938, 679.96337890625, 672.685791015625, 646.4761352539062, 640.3816528320312, 635.4146728515625, 602.8345336914062, 601.7698364257812, 601.5112915039062, 575.3941650390625, 561.2481689453125, 540.410400390625, 540.1153564453125, 532.5269165039062, 520.3480224609375, 508.32989501953125, 504.7039489746094, 481.2259521484375, 469.0355529785156, 455.7188720703125, 750.1198120117188], \"Term\": [\"#news\", \"kansa\", \"trump\", \"police\", \"clinton\", \"man\", \"hillary\", \"#pjnet\", \"#politics\", \"#tcot\", \"new\", \"gun\", \"american\", \"obama\", \"mt\", \"city\", \"shooting\", \"people\", \"state\", \"crash\", \"house\", \"killed\", \"wichita\", \"bill\", \"county\", \"america\", \"death\", \"rt\", \"attack\", \"call\", \"#tcot\", \"help\", \"report\", \"medium\", \"#ccot\", \"give\", \"boy\", \"let\", \"god\", \"set\", \"terrorist\", \"join\", \"keep\", \"account\", \"baby\", \"truth\", \"much\", \"going\", \"ever\", \"hope\", \"hate\", \"south\", \"deal\", \"sign\", \"tweet\", \"star\", \"part\", \"#wakeupamerica\", \"arrest\", \"friend\", \"#pjnet\", \"victim\", \"that's\", \"claim\", \"like\", \"obama\", \"u\", \"need\", \"know\", \"good\", \"look\", \"get\", \"go\", \"people\", \"take\", \"time\", \"say\", \"day\", \"one\", \"want\", \"#maga\", \"right\", \"family\", \"back\", \"muslim\", \"trump\", \"house\", \"wichita\", \"black\", \"white\", \"car\", \"world\", \"plan\", \"great\", \"change\", \"two\", \"royal\", \"near\", \"care\", \"party\", \"lie\", \"murder\", \"park\", \"person\", \"left\", \"bomb\", \"weekend\", \"water\", \"crime\", \"history\", \"force\", \"supporter\", \"california\", \"read\", \"racist\", \"body\", \"killed\", \"america\", \"run\", \"woman\", \"think\", \"people\", \"vote\", \"man\", \"president\", \"home\", \"today\", \"trump\", \"one\", \"make\", \"#news\", \"state\", \"year\", \"rt\", \"new\", \"say\", \"clinton\", \"mt\", \"bill\", \"call\", \"campaign\", \"dy\", \"election\", \"breaking\", \"voter\", \"email\", \"trump's\", \"lead\", \"leader\", \"sander\", \"storm\", \"group\", \"power\", \"seek\", \"russia\", \"fake\", \"service\", \"record\", \"fall\", \"investigation\", \"vehicle\", \"political\", \"hillary's\", \"conservative\", \"fraud\", \"also\", \"presidential\", \"hillary\", \"poll\", \"trump\", \"#politics\", \"donald\", \"republican\", \"debate\", \"news\", \"could\", \"democrat\", \"via\", \"police\", \"officer\", \"suspect\", \"arrested\", \"student\", \"girl\", \"kc\", \"lawmaker\", \"judge\", \"#trump\", \"stand\", \"refugee\", \"north\", \"remember\", \"governor\", \"patriot\", \"believe\", \"cnn\", \"enlist\", \"protest\", \"army\", \"close\", \"bad\", \"order\", \"plane\", \"guilty\", \"accident\", \"early\", \"fatal\", \"border\", \"shot\", \"son\", \"teen\", \"shooting\", \"school\", \"man\", \"#news\", \"topeka\", \"high\", \"million\", \"face\", \"kid\", \"via\", \"say\", \"crash\", \"attack\", \"court\", \"case\", \"isi\", \"official\", \"problem\", \"beat\", \"night\", \"team\", \"release\", \"rule\", \"second\", \"investigating\", \"possible\", \"budget\", \"assault\", \"immigration\", \"#demdebate\", \"bombing\", \"#demndebate\", \"ahead\", \"truck\", \"point\", \"facebook\", \"russian\", \"military\", \"saturday\", \"airport\", \"yet\", \"charge\", \"try\", \"#news\", \"fire\", \"new\", \"state\", \"law\", \"post\", \"dead\", \"chief\", \"child\", \"video\", \"gop\", \"obama\", \"city\", \"top\", \"#politics\", \"talk\", \"found\", \"former\", \"topeka\", \"trump\", \"kansa\", \"american\", \"county\", \"charged\", \"missouri\", \"national\", \"tax\", \"@hillaryclinton\", \"health\", \"dog\", \"many\", \"hospital\", \"security\", \"university\", \"york\", \"true\", \"leaf\", \"player\", \"leave\", \"investigate\", \"manhattan\", \"nyc\", \"following\", \"christian\", \"let's\", \"done\", \"super\", \"abortion\", \"mayor\", \"taking\", \"sex\", \"death\", \"city\", \"week\", \"#news\", \"win\", \"prison\", \"west\", \"new\", \"year-old\", \"woman\", \"school\", \"rt\", \"killing\", \"missing\", \"cruz\", \"texas\", \"terror\", \"return\", \"die\", \"driver\", \"district\", \"college\", \"pleads\", \"honor\", \"usa\", \"football\", \"comey\", \"islamic\", \"month\", \"community\", \"dem\", \"friday\", \"season\", \"fired\", \"caught\", \"ready\", \"tornado\", \"strike\", \"blue\", \"ted\", \"shooter\", \"series\", \"rt\", \"gun\", \"#isis\", \"targeted\", \"freedom\", \"islam\", \"#opiceisis\", \"looking\", \"#iceisis\", \"#targets\", \"latest\", \"little\", \"drug\", \"nation\", \"list\", \"saying\", \"running\", \"parent\", \"de\", \"social\", \"sheriff\", \"lose\", \"died\", \"uk\", \"#stopislam\", \"working\", \"wall\", \"using\", \"abuse\", \"follow\", \"king\", \"control\", \"thanks\", \"street\", \"supreme\", \"sentenced\", \"congress\", \"mother\", \"air\", \"train\", \"oklahoma\", \"#job\", \"protect\", \"east\", \"daily\", \"paid\", \"fed\", \"flag\", \"building\", \"thousand\", \"step\", \"middle\", \"pm\", \"named\", \"announces\", \"union\", \"marriage\", \"worst\", \"trash\", \"key\", \"fair\", \"wednesday\", \"eu\", \"da\", \"ride\", \"every\", \"weather\", \"accused\", \"rain\", \"recall\", \"local\", \"center\", \"outside\", \"hear\", \"#blacklivesmatter\", \"station\", \"message\", \"safety\", \"protester\", \"racism\", \"giving\", \"hey\", \"climate\", \"movement\", \"ticket\", \"zika\", \"sound\", \"birth\", \"incident\", \"retweet\", \"surprise\", \"scam\", \"birthday\", \"allen\", \"proud\", \"un\"], \"Total\": [49217.0, 14427.0, 21692.0, 9653.0, 8113.0, 9485.0, 7389.0, 7629.0, 8195.0, 6141.0, 8226.0, 3654.0, 3911.0, 7269.0, 3678.0, 4478.0, 4522.0, 6733.0, 5754.0, 3170.0, 3921.0, 3962.0, 3792.0, 3041.0, 2769.0, 3529.0, 3639.0, 4820.0, 2626.0, 2773.0, 6141.33154296875, 2991.133056640625, 2800.093505859375, 3028.860107421875, 2552.61767578125, 2126.607177734375, 1864.7657470703125, 1798.428955078125, 1770.976318359375, 1622.458984375, 1586.23876953125, 1570.8017578125, 1542.2725830078125, 1510.2529296875, 1486.1717529296875, 1435.84033203125, 1432.9736328125, 1767.3984375, 1319.98876953125, 1319.7108154296875, 1316.21142578125, 1313.712646484375, 1225.8013916015625, 1281.6630859375, 1220.967529296875, 1201.232666015625, 1153.1273193359375, 1144.423828125, 1130.5518798828125, 1203.7733154296875, 7629.64111328125, 1981.8162841796875, 1296.3626708984375, 1443.5361328125, 4919.158203125, 7269.38134765625, 7010.59765625, 3445.986328125, 3507.49169921875, 2637.870849609375, 3058.62255859375, 5364.7216796875, 3352.984619140625, 6733.7978515625, 3574.538818359375, 4380.13671875, 7477.37158203125, 4722.763671875, 5096.7158203125, 3684.919921875, 3968.90283203125, 3652.704833984375, 3154.8916015625, 3146.4501953125, 2762.92236328125, 21692.78515625, 3921.93115234375, 3792.0029296875, 3134.352783203125, 3106.333984375, 2455.6865234375, 2305.90869140625, 2160.16162109375, 2185.95654296875, 2027.5611572265625, 1915.0565185546875, 1884.82177734375, 1665.462890625, 1597.4923095703125, 1594.71630859375, 1454.16162109375, 1417.2916259765625, 1327.0859375, 1326.3701171875, 1316.01220703125, 1293.5947265625, 1263.9151611328125, 1259.43115234375, 1246.803955078125, 1135.659912109375, 1133.1202392578125, 1130.3316650390625, 1128.9803466796875, 1125.23388671875, 1059.3636474609375, 1058.1549072265625, 3962.9775390625, 3529.78759765625, 1503.081787109375, 6683.498046875, 2272.476318359375, 6733.7978515625, 3525.705322265625, 9485.568359375, 3636.191162109375, 2755.0263671875, 2488.120361328125, 21692.78515625, 5096.7158203125, 4170.02099609375, 49217.390625, 5754.6142578125, 4535.54248046875, 4820.6025390625, 8226.708984375, 7477.37158203125, 8113.51513671875, 3678.365478515625, 3041.7001953125, 2773.039306640625, 2346.675048828125, 2056.517333984375, 1859.81005859375, 1807.3052978515625, 1671.9541015625, 1549.4359130859375, 1500.158935546875, 1474.7608642578125, 1458.16845703125, 1369.1956787109375, 1337.6956787109375, 1281.26171875, 1249.86962890625, 1190.74658203125, 1154.075439453125, 1098.20361328125, 1078.2086181640625, 1075.3572998046875, 1052.7581787109375, 1016.7799072265625, 966.8672485351562, 887.70166015625, 849.322998046875, 826.9124755859375, 797.2603759765625, 766.6904907226562, 845.6793823242188, 7389.22900390625, 1774.7911376953125, 21692.78515625, 8195.150390625, 2563.827880859375, 1678.38525390625, 2096.815673828125, 3006.048583984375, 2059.85986328125, 1834.480224609375, 5467.013671875, 9653.41015625, 2515.03515625, 2130.080322265625, 1945.1109619140625, 1885.975830078125, 1567.52880859375, 1484.8338623046875, 1452.287353515625, 1354.81591796875, 1318.1173095703125, 1209.96435546875, 1182.229248046875, 1166.24951171875, 1017.7379150390625, 937.5311889648438, 934.5637817382812, 899.2453002929688, 899.1211547851562, 898.6802368164062, 895.8782958984375, 838.5032958984375, 833.901123046875, 831.4265747070312, 786.6749267578125, 772.305419921875, 1093.571044921875, 765.365478515625, 756.0728149414062, 749.909912109375, 710.1759033203125, 2104.66796875, 908.036865234375, 1418.304443359375, 4522.01025390625, 3868.066650390625, 9485.568359375, 49217.390625, 3434.60009765625, 1492.732177734375, 1810.1861572265625, 1449.8856201171875, 1287.4400634765625, 5467.013671875, 7477.37158203125, 3170.622802734375, 2626.54736328125, 2368.518798828125, 1851.1619873046875, 1626.727783203125, 1605.5361328125, 1197.177978515625, 1079.5980224609375, 1050.2799072265625, 1041.1654052734375, 933.9093017578125, 809.3519897460938, 763.1180419921875, 732.1600952148438, 727.4484252929688, 721.1354370117188, 689.680419921875, 673.4415893554688, 667.1345825195312, 666.140869140625, 665.8426513671875, 659.1168823242188, 648.502197265625, 617.3814086914062, 613.8462524414062, 613.4613037109375, 610.09033203125, 609.662841796875, 607.2650756835938, 579.2623291015625, 1287.629638671875, 774.4703369140625, 49217.390625, 3277.386962890625, 8226.708984375, 5754.6142578125, 2411.809814453125, 1885.629638671875, 2583.165283203125, 1460.5496826171875, 2533.78369140625, 3204.62890625, 2319.110107421875, 7269.38134765625, 4478.330078125, 1434.8807373046875, 8195.150390625, 1154.962646484375, 2480.261962890625, 1421.259521484375, 3434.60009765625, 21692.78515625, 14427.2373046875, 3911.544921875, 2769.93505859375, 1705.532470703125, 1693.60107421875, 1598.0096435546875, 2162.26171875, 1449.8980712890625, 1409.49267578125, 1256.1087646484375, 1121.6187744140625, 1121.6712646484375, 1122.7528076171875, 949.68359375, 929.8561401367188, 883.9197387695312, 762.4769897460938, 757.52880859375, 740.2664184570312, 732.2647705078125, 701.8247680664062, 697.9161987304688, 692.1449584960938, 686.5675048828125, 683.3223266601562, 675.0648803710938, 625.0695190429688, 622.6361083984375, 620.9011840820312, 614.8412475585938, 1090.642333984375, 3639.313720703125, 4478.330078125, 2066.117431640625, 49217.390625, 2978.33349609375, 1001.4411010742188, 804.7406616210938, 8226.708984375, 1927.0001220703125, 6683.498046875, 3868.066650390625, 4820.6025390625, 1986.0966796875, 1979.9569091796875, 1920.6248779296875, 1807.509521484375, 1654.0799560546875, 1574.4957275390625, 1500.593017578125, 1478.1395263671875, 1395.4442138671875, 1336.9674072265625, 1248.9180908203125, 1200.3046875, 1167.4259033203125, 1162.7620849609375, 1160.33984375, 1149.859375, 1142.8709716796875, 1126.40966796875, 1106.5047607421875, 1101.9036865234375, 1094.277099609375, 986.830322265625, 953.8796997070312, 933.8548583984375, 930.39697265625, 835.7892456054688, 825.6505737304688, 825.0926513671875, 813.3842163085938, 787.9030151367188, 4820.6025390625, 3654.474609375, 1610.2545166015625, 1221.06396484375, 1158.8408203125, 1130.23291015625, 1105.932373046875, 1103.24560546875, 1090.4234619140625, 1090.428466796875, 1066.3419189453125, 958.0661010742188, 951.046875, 878.1231079101562, 829.67578125, 819.836669921875, 812.9635620117188, 795.487060546875, 793.3815307617188, 786.298828125, 750.6024780273438, 742.0777587890625, 725.0897216796875, 710.1730346679688, 698.706787109375, 675.8524169921875, 662.5248413085938, 645.4757690429688, 638.67138671875, 601.3319091796875, 596.3182373046875, 1318.140380859375, 1277.6033935546875, 1037.7139892578125, 1405.24462890625, 1344.7286376953125, 1300.8990478515625, 1109.9989013671875, 1040.5439453125, 1038.6959228515625, 1018.0147094726562, 1018.2388305664062, 913.703125, 842.9649047851562, 787.6260986328125, 722.7219848632812, 716.1012573242188, 700.2721557617188, 697.966064453125, 670.5664672851562, 660.00732421875, 641.3145751953125, 622.1005859375, 588.7852783203125, 587.4981689453125, 579.1378173828125, 559.3265991210938, 557.6859741210938, 553.9359130859375, 552.7406616210938, 531.7979736328125, 513.3988037109375, 512.11376953125, 470.3019104003906, 472.7286376953125, 2007.634033203125, 1797.6043701171875, 1511.0689697265625, 1099.5947265625, 1039.78515625, 971.2902221679688, 932.0758666992188, 821.3118896484375, 806.8963623046875, 766.805419921875, 736.0678100585938, 680.6576538085938, 673.380126953125, 647.17041015625, 641.075927734375, 636.1090087890625, 603.5291748046875, 602.4641723632812, 602.20556640625, 576.0884399414062, 561.9425048828125, 541.104736328125, 540.8096313476562, 533.2212524414062, 521.0423583984375, 509.0242004394531, 505.3982849121094, 481.92022705078125, 469.7300720214844, 456.4131774902344, 755.0261840820312], \"loglift\": [30.0, 29.0, 28.0, 27.0, 26.0, 25.0, 24.0, 23.0, 22.0, 21.0, 20.0, 19.0, 18.0, 17.0, 16.0, 15.0, 14.0, 13.0, 12.0, 11.0, 10.0, 9.0, 8.0, 7.0, 6.0, 5.0, 4.0, 3.0, 2.0, 1.0, 1.7523000240325928, 1.7520999908447266, 1.7520999908447266, 1.7520999908447266, 1.7520999908447266, 1.7519999742507935, 1.7519999742507935, 1.7519999742507935, 1.7519999742507935, 1.7518999576568604, 1.7518999576568604, 1.7518999576568604, 1.7518999576568604, 1.7518999576568604, 1.7518999576568604, 1.7518999576568604, 1.7518999576568604, 1.7518999576568604, 1.7517999410629272, 1.7517999410629272, 1.7517999410629272, 1.7517999410629272, 1.7517999410629272, 1.7517999410629272, 1.7517999410629272, 1.7517999410629272, 1.7517999410629272, 1.7517999410629272, 1.7517000436782837, 1.7517000436782837, 1.7489999532699585, 1.7491999864578247, 1.750599980354309, 1.7476999759674072, 1.4392999410629272, 1.292099952697754, 1.2670999765396118, 1.4404000043869019, 1.4342000484466553, 1.5048999786376953, 1.4256999492645264, 1.0922000408172607, 1.2977999448776245, 0.9194999933242798, 1.2609000205993652, 1.1484999656677246, 0.8004999756813049, 1.0705000162124634, 0.9728000164031982, 1.1816999912261963, 1.1233999729156494, 1.1687999963760376, 1.2727999687194824, 1.2619999647140503, 1.3653000593185425, -0.684499979019165, 1.878999948501587, 1.878999948501587, 1.878999948501587, 1.878999948501587, 1.8789000511169434, 1.8789000511169434, 1.8789000511169434, 1.8789000511169434, 1.8789000511169434, 1.8788000345230103, 1.8788000345230103, 1.8788000345230103, 1.8788000345230103, 1.8788000345230103, 1.8787000179290771, 1.8787000179290771, 1.8787000179290771, 1.8787000179290771, 1.8787000179290771, 1.8787000179290771, 1.8787000179290771, 1.8787000179290771, 1.878600001335144, 1.878600001335144, 1.878600001335144, 1.878600001335144, 1.878600001335144, 1.878600001335144, 1.878499984741211, 1.878499984741211, 1.8695000410079956, 1.8702000379562378, 1.8782000541687012, 1.3964999914169312, 1.6612000465393066, 1.3044999837875366, 1.5016000270843506, 1.1109999418258667, 1.4629000425338745, 1.5687999725341797, 1.601099967956543, 0.6546000242233276, 1.2555999755859375, 1.3313000202178955, 0.09549999982118607, 0.9765999913215637, 1.100000023841858, 0.9843000173568726, 0.5182999968528748, 0.5690000057220459, 2.220900058746338, 2.2207999229431152, 2.2207000255584717, 2.2207000255584717, 2.2207000255584717, 2.220599889755249, 2.220599889755249, 2.220599889755249, 2.2204999923706055, 2.2204999923706055, 2.2204999923706055, 2.2204999923706055, 2.2204999923706055, 2.220400094985962, 2.220400094985962, 2.220400094985962, 2.220400094985962, 2.220400094985962, 2.2202999591827393, 2.2202999591827393, 2.2202999591827393, 2.2202999591827393, 2.2202999591827393, 2.2202999591827393, 2.2202000617980957, 2.2202000617980957, 2.220099925994873, 2.220099925994873, 2.220099925994873, 2.2200000286102295, 2.2191998958587646, 2.0964999198913574, 2.108099937438965, 1.659500002861023, 1.7516000270843506, 1.9804999828338623, 2.055500030517578, 1.948199987411499, 1.7582999467849731, 1.92330002784729, 1.8430999517440796, 1.0152000188827515, 2.334399938583374, 2.334199905395508, 2.3341000080108643, 2.3341000080108643, 2.3341000080108643, 2.3340001106262207, 2.3340001106262207, 2.3340001106262207, 2.333899974822998, 2.333899974822998, 2.333899974822998, 2.333899974822998, 2.3338000774383545, 2.3338000774383545, 2.333699941635132, 2.333699941635132, 2.333699941635132, 2.333699941635132, 2.333699941635132, 2.333699941635132, 2.3336000442504883, 2.3336000442504883, 2.3336000442504883, 2.3334999084472656, 2.3334999084472656, 2.3334999084472656, 2.3334999084472656, 2.3334999084472656, 2.3334999084472656, 2.333400011062622, 2.326900005340576, 2.3301000595092773, 2.288599967956543, 2.0913000106811523, 1.9363000392913818, 1.7109999656677246, 0.9330000281333923, 1.736199975013733, 2.0459001064300537, 1.8252999782562256, 1.9586999416351318, 2.0327000617980957, 0.7716000080108643, 0.4726000130176544, 2.352799892425537, 2.352799892425537, 2.352799892425537, 2.3526999950408936, 2.35260009765625, 2.35260009765625, 2.352400064468384, 2.352400064468384, 2.352400064468384, 2.352400064468384, 2.352299928665161, 2.3522000312805176, 2.352099895477295, 2.352099895477295, 2.352099895477295, 2.3519999980926514, 2.3519999980926514, 2.3519999980926514, 2.3519999980926514, 2.3519999980926514, 2.3519999980926514, 2.3519999980926514, 2.351900100708008, 2.351900100708008, 2.351900100708008, 2.351900100708008, 2.351900100708008, 2.351900100708008, 2.351900100708008, 2.351799964904785, 2.351799964904785, 2.3492000102996826, 1.413100004196167, 1.9657000303268433, 1.5968999862670898, 1.680899977684021, 1.920699954032898, 1.9807000160217285, 1.8675999641418457, 2.004199981689453, 1.7539000511169434, 1.6292999982833862, 1.7711000442504883, 1.2285000085830688, 1.4012999534606934, 1.96589994430542, 0.944599986076355, 2.071700096130371, 1.5025999546051025, 1.904099941253662, 1.0592999458312988, -0.676800012588501, 2.4063000679016113, 2.4061999320983887, 2.406100034713745, 2.405900001525879, 2.405900001525879, 2.405900001525879, 2.405900001525879, 2.405900001525879, 2.4058001041412354, 2.4058001041412354, 2.4056999683380127, 2.4056999683380127, 2.4056999683380127, 2.405600070953369, 2.405600070953369, 2.4054999351501465, 2.405400037765503, 2.405400037765503, 2.405400037765503, 2.405400037765503, 2.4052999019622803, 2.4052999019622803, 2.4052999019622803, 2.4052999019622803, 2.4052999019622803, 2.4052999019622803, 2.4052000045776367, 2.4052000045776367, 2.4052000045776367, 2.4052000045776367, 2.404900074005127, 2.065700054168701, 1.9182000160217285, 2.100100040435791, 0.7494999766349792, 1.7858999967575073, 2.2232000827789307, 2.328399896621704, 1.111799955368042, 1.8466999530792236, 0.5852000117301941, 0.8165000081062317, 0.557699978351593, 2.460900068283081, 2.4607999324798584, 2.4607999324798584, 2.4607999324798584, 2.4607999324798584, 2.4607999324798584, 2.460700035095215, 2.460700035095215, 2.460700035095215, 2.460700035095215, 2.460599899291992, 2.460599899291992, 2.460599899291992, 2.460599899291992, 2.460599899291992, 2.460599899291992, 2.460599899291992, 2.460599899291992, 2.460599899291992, 2.460599899291992, 2.460599899291992, 2.4605000019073486, 2.4605000019073486, 2.4605000019073486, 2.4605000019073486, 2.460400104522705, 2.460400104522705, 2.460400104522705, 2.460400104522705, 2.4602999687194824, 1.6253000497817993, 2.7047998905181885, 2.7044999599456787, 2.704400062561035, 2.704400062561035, 2.7042999267578125, 2.7042999267578125, 2.7042999267578125, 2.7042999267578125, 2.7042999267578125, 2.7042999267578125, 2.704200029373169, 2.704200029373169, 2.704200029373169, 2.7040998935699463, 2.7040998935699463, 2.7040998935699463, 2.7040998935699463, 2.7040998935699463, 2.7040998935699463, 2.7039999961853027, 2.7039999961853027, 2.7039999961853027, 2.7039999961853027, 2.7039999961853027, 2.703900098800659, 2.703900098800659, 2.703900098800659, 2.703900098800659, 2.7037999629974365, 2.7037999629974365, 2.6415998935699463, 2.315999984741211, 2.276700019836426, 2.716200113296509, 2.716200113296509, 2.716200113296509, 2.716099977493286, 2.7160000801086426, 2.7160000801086426, 2.7160000801086426, 2.7160000801086426, 2.7160000801086426, 2.71589994430542, 2.7158000469207764, 2.7158000469207764, 2.7156999111175537, 2.7156999111175537, 2.7156999111175537, 2.7156999111175537, 2.7156999111175537, 2.71560001373291, 2.71560001373291, 2.7155001163482666, 2.7155001163482666, 2.7155001163482666, 2.7155001163482666, 2.7155001163482666, 2.7155001163482666, 2.7155001163482666, 2.715399980545044, 2.715399980545044, 2.715399980545044, 2.7151999473571777, 2.7151999473571777, 2.7323999404907227, 2.732300043106079, 2.732300043106079, 2.732100009918213, 2.7320001125335693, 2.7320001125335693, 2.7320001125335693, 2.7318999767303467, 2.731800079345703, 2.731800079345703, 2.731800079345703, 2.7316999435424805, 2.7316999435424805, 2.731600046157837, 2.731600046157837, 2.731600046157837, 2.731600046157837, 2.731600046157837, 2.731600046157837, 2.7314999103546143, 2.7314999103546143, 2.7314000129699707, 2.7314000129699707, 2.7314000129699707, 2.7314000129699707, 2.731300115585327, 2.731300115585327, 2.731300115585327, 2.7311999797821045, 2.7311999797821045, 2.7262001037597656], \"logprob\": [30.0, 29.0, 28.0, 27.0, 26.0, 25.0, 24.0, 23.0, 22.0, 21.0, 20.0, 19.0, 18.0, 17.0, 16.0, 15.0, 14.0, 13.0, 12.0, 11.0, 10.0, 9.0, 8.0, 7.0, 6.0, 5.0, 4.0, 3.0, 2.0, 1.0, -4.421599864959717, -5.14109992980957, -5.207099914550781, -5.128600120544434, -5.299699783325195, -5.4822998046875, -5.613800048828125, -5.650000095367432, -5.66540002822876, -5.752999782562256, -5.775599956512451, -5.785399913787842, -5.803699970245361, -5.824699878692627, -5.840799808502197, -5.87529993057251, -5.877299785614014, -5.667500019073486, -5.959499835968018, -5.959700107574463, -5.962299823760986, -5.964200019836426, -6.0335001945495605, -5.988999843597412, -6.037499904632568, -6.053800106048584, -6.094699859619141, -6.10230016708374, -6.114500045776367, -6.051799774169922, -4.207900047302246, -5.555699825286865, -5.978799819946289, -5.874100208282471, -4.956500053405762, -4.713200092315674, -4.774400234222412, -5.311299800872803, -5.299799919128418, -5.513999938964844, -5.445199966430664, -5.216899871826172, -5.481299877166748, -5.162199974060059, -5.45419979095459, -5.36329984664917, -5.176599979400635, -5.366000175476074, -5.387499809265137, -5.502900123596191, -5.487100124359131, -5.524600028991699, -5.567200183868408, -5.580599784851074, -5.6072998046875, -5.596399784088135, -4.743299961090088, -4.7769999504089355, -4.96750020980835, -4.976500034332275, -5.211599826812744, -5.274499893188477, -5.339799880981445, -5.328000068664551, -5.403200149536133, -5.460299968719482, -5.476200103759766, -5.599999904632568, -5.64169979095459, -5.643400192260742, -5.735799789428711, -5.76140022277832, -5.827199935913086, -5.8277997970581055, -5.835599899291992, -5.852799892425537, -5.875999927520752, -5.8796000480651855, -5.889699935913086, -5.983099937438965, -5.985300064086914, -5.987800121307373, -5.988999843597412, -5.992300033569336, -6.052700042724609, -6.053800106048584, -4.742400169372559, -4.857399940490723, -5.703199863433838, -4.692800045013428, -5.506800174713135, -4.777200222015381, -5.227200031280518, -4.6280999183654785, -5.235099792480469, -5.406700134277344, -5.47629976272583, -4.257299900054932, -5.104700088500977, -5.229700088500977, -3.9971001148223877, -5.26230001449585, -5.376999855041504, -5.431700229644775, -5.36329984664917, -5.4079999923706055, -3.674499988555908, -4.465700149536133, -4.655799865722656, -4.748300075531006, -4.915299892425537, -5.047299861907959, -5.147900104522705, -5.176499843597412, -5.25439977645874, -5.33050012588501, -5.3628997802734375, -5.379899978637695, -5.391300201416016, -5.45419979095459, -5.477499961853027, -5.520699977874756, -5.545499801635742, -5.593999862670898, -5.62529993057251, -5.674900054931641, -5.693299770355225, -5.696000099182129, -5.717199802398682, -5.751999855041504, -5.8024001121521, -5.887899875640869, -5.93209981918335, -5.958899974822998, -5.9953999519348145, -6.034599781036377, -5.937300205230713, -3.892400026321411, -5.30709981918335, -3.252500057220459, -4.133800029754639, -5.066999912261963, -5.415500164031982, -5.300300121307373, -5.129899978637695, -5.342899799346924, -5.539100170135498, -5.274899959564209, -3.387200117111206, -4.732399940490723, -4.898600101470947, -4.989500045776367, -5.020400047302246, -5.205399990081787, -5.2596001625061035, -5.281799793243408, -5.35129976272583, -5.378799915313721, -5.4644999504089355, -5.48769998550415, -5.501299858093262, -5.637599945068359, -5.719699859619141, -5.722899913787842, -5.76140022277832, -5.761600017547607, -5.7621002197265625, -5.765200138092041, -5.831399917602539, -5.836999893188477, -5.839900016784668, -5.895299911499023, -5.91379976272583, -5.565899848937988, -5.922800064086914, -5.934999942779541, -5.94320011138916, -5.997700214385986, -4.917900085449219, -5.755199909210205, -5.350800037384033, -4.388599872589111, -4.699900150299072, -4.028200149536133, -3.159600019454956, -5.018799781799316, -5.542399883270264, -5.570199966430664, -5.658699989318848, -5.703499794006348, -5.518499851226807, -5.50439977645874, -4.4822001457214355, -4.670499801635742, -4.773900032043457, -5.020400047302246, -5.149700164794922, -5.162799835205078, -5.456500053405762, -5.559899806976318, -5.587500095367432, -5.596199989318848, -5.704999923706055, -5.848299980163574, -5.907100200653076, -5.948599815368652, -5.955100059509277, -5.963799953460693, -6.008399963378906, -6.032299995422363, -6.0416998863220215, -6.0432000160217285, -6.043600082397461, -6.053800106048584, -6.070099830627441, -6.11929988861084, -6.125, -6.125699996948242, -6.131199836730957, -6.131899833679199, -6.135799884796143, -6.18310022354126, -5.384300231933594, -5.895299911499023, -2.6796000003814697, -4.836100101470947, -4.284599781036377, -4.558000087738037, -5.18779993057251, -5.374000072479248, -5.172299861907959, -5.605899810791016, -5.305300235748291, -5.195000171661377, -5.3765997886657715, -4.776700019836426, -5.0883002281188965, -5.6620001792907715, -4.940700054168701, -5.773099899291992, -5.577899932861328, -5.7332000732421875, -5.695799827575684, -5.588699817657471, -2.9135000705718994, -4.218800067901611, -4.564000129699707, -5.049099922180176, -5.056099891662598, -5.114299774169922, -4.8119001388549805, -5.211599826812744, -5.239799976348877, -5.355100154876709, -5.468400001525879, -5.468400001525879, -5.46750020980835, -5.634900093078613, -5.656099796295166, -5.7067999839782715, -5.854700088500977, -5.861199855804443, -5.884300231933594, -5.895199775695801, -5.937699794769287, -5.943299770355225, -5.951600074768066, -5.959700107574463, -5.964399814605713, -5.976600170135498, -6.053599834442139, -6.057499885559082, -6.060299873352051, -6.070099830627441, -5.497200012207031, -4.631400108337402, -4.571400165557861, -5.1631999015808105, -3.3431999683380127, -5.111700057983398, -5.7642998695373535, -5.877699851989746, -4.769700050354004, -5.486199855804443, -5.5040998458862305, -5.819699764251709, -5.85830020904541, -4.841899871826172, -4.84499979019165, -4.875400066375732, -4.936100006103516, -5.024899959564209, -5.07420015335083, -5.122300148010254, -5.137400150299072, -5.195000171661377, -5.237800121307373, -5.306000232696533, -5.345699787139893, -5.373499870300293, -5.377500057220459, -5.3796000480651855, -5.388700008392334, -5.394800186157227, -5.409299850463867, -5.42710018157959, -5.431300163269043, -5.438199996948242, -5.5416998863220215, -5.5756001472473145, -5.59689998626709, -5.600599765777588, -5.707900047302246, -5.720099925994873, -5.720799922943115, -5.735099792480469, -5.767000198364258, -4.7906999588012695, -3.9881999492645264, -4.808000087738037, -5.084799766540527, -5.1371002197265625, -5.162099838256836, -5.183899879455566, -5.186299800872803, -5.197999954223633, -5.197999954223633, -5.220399856567383, -5.327499866485596, -5.33489990234375, -5.414700031280518, -5.471499919891357, -5.483500003814697, -5.4918999671936035, -5.513599872589111, -5.516300201416016, -5.525300025939941, -5.571800231933594, -5.583199977874756, -5.606400012969971, -5.627200126647949, -5.643499851226807, -5.676799774169922, -5.696700096130371, -5.722799777984619, -5.733399868011475, -5.793700218200684, -5.80210018157959, -5.071100234985352, -5.4278998374938965, -5.67519998550415, -4.932499885559082, -4.976500034332275, -5.009699821472168, -5.168499946594238, -5.233099937438965, -5.234899997711182, -5.255000114440918, -5.254799842834473, -5.3632001876831055, -5.44379997253418, -5.5117998123168945, -5.597899913787842, -5.607100009918213, -5.629499912261963, -5.632800102233887, -5.672900199890137, -5.688799858093262, -5.71750020980835, -5.748000144958496, -5.803100109100342, -5.805300235748291, -5.8196001052856445, -5.854499816894531, -5.857399940490723, -5.864200115203857, -5.866300106048584, -5.90500020980835, -5.940299987792969, -5.942800045013428, -6.02810001373291, -6.022900104522705, -4.559599876403809, -4.670100212097168, -4.843800067901611, -5.161900043487549, -5.217899799346924, -5.285999774932861, -5.327300071716309, -5.45389986038208, -5.47160005569458, -5.522600173950195, -5.563600063323975, -5.641900062561035, -5.652699947357178, -5.692399978637695, -5.701900005340576, -5.709700107574463, -5.76230001449585, -5.764100074768066, -5.764500141143799, -5.808899879455566, -5.833799839019775, -5.871600151062012, -5.872200012207031, -5.886300086975098, -5.9095001220703125, -5.932799816131592, -5.940000057220459, -5.987599849700928, -6.013299942016602, -6.042099952697754, -5.543700218200684]}, \"token.table\": {\"Topic\": [10, 1, 5, 5, 8, 8, 9, 1, 2, 3, 4, 1, 2, 3, 4, 5, 6, 8, 1, 4, 1, 2, 3, 5, 8, 8, 1, 4, 1, 6, 6, 8, 4, 1, 10, 5, 9, 5, 10, 3, 2, 3, 6, 9, 4, 1, 4, 5, 5, 1, 1, 2, 3, 4, 5, 4, 3, 10, 10, 2, 7, 2, 2, 5, 4, 1, 3, 5, 9, 2, 3, 3, 2, 2, 5, 7, 10, 2, 5, 7, 6, 4, 5, 1, 5, 6, 5, 6, 1, 3, 10, 3, 4, 4, 7, 7, 7, 9, 3, 4, 8, 3, 5, 6, 6, 5, 5, 2, 7, 9, 9, 1, 2, 4, 5, 6, 8, 2, 5, 1, 1, 2, 3, 6, 3, 5, 7, 1, 3, 7, 8, 7, 6, 2, 3, 6, 7, 8, 3, 4, 9, 3, 3, 4, 9, 1, 10, 4, 6, 5, 9, 3, 3, 1, 2, 6, 4, 9, 1, 2, 5, 7, 9, 8, 6, 7, 2, 1, 2, 4, 5, 2, 5, 3, 8, 7, 1, 1, 2, 3, 4, 5, 6, 10, 4, 1, 10, 1, 2, 3, 4, 6, 1, 1, 1, 2, 4, 6, 2, 5, 4, 2, 3, 4, 8, 1, 6, 10, 1, 10, 4, 6, 1, 2, 3, 5, 3, 2, 1, 2, 7, 1, 6, 2, 5, 10, 6, 5, 3, 5, 8, 7, 1, 4, 6, 4, 1, 9, 4, 6, 2, 4, 7, 8, 1, 2, 8, 4, 5, 6, 4, 3, 3, 6, 6, 2, 1, 6, 2, 1, 2, 3, 4, 8, 8, 10, 1, 2, 8, 8, 1, 2, 2, 4, 6, 6, 9, 6, 1, 10, 9, 5, 4, 5, 8, 7, 6, 7, 9, 10, 3, 1, 2, 1, 2, 3, 5, 9, 8, 6, 2, 1, 2, 6, 2, 5, 6, 1, 3, 5, 4, 6, 1, 4, 5, 4, 5, 9, 1, 2, 3, 4, 4, 10, 9, 8, 2, 1, 2, 4, 1, 2, 3, 4, 5, 2, 2, 4, 6, 7, 9, 5, 4, 3, 3, 5, 5, 1, 5, 6, 10, 3, 1, 2, 3, 10, 1, 5, 6, 7, 5, 9, 4, 10, 10, 10, 2, 10, 2, 7, 10, 3, 4, 5, 4, 1, 1, 3, 7, 10, 9, 1, 2, 4, 5, 6, 2, 2, 5, 6, 7, 5, 2, 6, 8, 3, 5, 10, 3, 5, 1, 2, 3, 4, 5, 8, 10, 2, 4, 5, 6, 7, 5, 6, 3, 9, 7, 3, 1, 6, 10, 8, 7, 2, 4, 5, 6, 1, 4, 1, 8, 4, 6, 10, 1, 4, 1, 2, 5, 6, 10, 9, 3, 5, 8, 7, 4, 6, 2, 9, 10, 4, 1, 2, 3, 4, 5, 6, 6, 5, 6, 8, 6, 5, 7, 2, 4, 7, 1, 7, 1, 8, 1, 2, 4, 6, 2, 3, 9, 10, 1, 2, 3, 6, 2, 3, 5, 5, 8, 9, 1, 2, 3, 4, 5, 6, 7, 8, 9, 10, 7, 9, 9, 5, 6, 1, 2, 3, 5, 3, 1, 5, 7, 1, 2, 1, 2, 3, 4, 5, 8, 9, 10, 9, 6, 7, 8, 3, 1, 2, 3, 4, 5, 1, 5, 1, 2, 4, 5, 10, 1, 2, 3, 8, 1, 2, 3, 4, 5, 2, 10, 9, 6, 8, 2, 1, 6, 2, 2, 2, 6, 1, 2, 4, 5, 6, 8, 2, 9, 1, 2, 4, 5, 2, 6, 5, 6, 10], \"Freq\": [0.9989496469497681, 0.9997580051422119, 0.9982993006706238, 0.9987344741821289, 0.9996116757392883, 0.9998419284820557, 0.9997654557228088, 0.5331448316574097, 0.45755717158317566, 0.00856659933924675, 0.0005039175739511847, 0.0029461130034178495, 0.1680097132921219, 0.001381625421345234, 0.24623410403728485, 0.390654593706131, 0.19072526693344116, 0.9991569519042969, 0.9966392517089844, 0.0032766941003501415, 0.0028065377846360207, 0.12714837491512299, 0.6253698468208313, 0.24453486502170563, 0.9989884495735168, 0.9996070861816406, 0.9999459981918335, 0.9991523623466492, 0.9996296763420105, 0.9993805885314941, 0.9989783763885498, 0.9989487528800964, 0.9995225071907043, 0.9998325109481812, 0.9992925524711609, 0.9983054995536804, 0.9994772672653198, 0.9995635151863098, 0.9984457492828369, 0.9990993738174438, 0.9909944534301758, 0.008782397955656052, 0.9998607039451599, 0.9991520643234253, 0.9993997812271118, 0.9995118379592896, 0.9994288682937622, 0.9990134239196777, 0.9997916221618652, 0.9992115497589111, 0.6124361753463745, 0.23772822320461273, 0.14969250559806824, 0.9994869232177734, 0.9994460940361023, 0.999727189540863, 0.9997698068618774, 0.9985029101371765, 0.9980905055999756, 0.9998874664306641, 0.9992120265960693, 0.9989085793495178, 0.9995402693748474, 0.9982873201370239, 0.9983441829681396, 0.9995893836021423, 0.9998310804367065, 0.9984254837036133, 0.9986158609390259, 0.9991316795349121, 0.9996252059936523, 0.999712347984314, 0.9997204542160034, 0.9996918439865112, 0.9993723034858704, 0.9990777373313904, 0.9988457560539246, 0.9997232556343079, 0.9987344145774841, 0.000776620814576745, 0.9996877908706665, 0.29372504353523254, 0.7052139639854431, 0.4503146708011627, 0.5493760108947754, 0.9991734027862549, 0.38608139753341675, 0.6138448715209961, 0.9954721331596375, 0.004156460054218769, 0.9992295503616333, 0.9999365210533142, 0.9989193677902222, 0.9987530708312988, 0.9992763996124268, 0.9997071027755737, 0.9996362924575806, 0.9993088841438293, 0.9988965392112732, 0.06069156154990196, 0.9384433031082153, 0.7427690029144287, 0.25632810592651367, 0.0004854699072893709, 0.9996623992919922, 0.9997809529304504, 0.9998035430908203, 0.9993551969528198, 0.9996746778488159, 0.999358057975769, 0.9992050528526306, 0.5056361556053162, 0.3245980739593506, 0.11158720403909683, 0.04361852630972862, 0.014398349449038506, 0.9995191097259521, 0.38441210985183716, 0.6155239343643188, 0.9993462562561035, 0.23356051743030548, 0.004121656063944101, 0.05083376169204712, 0.7113978862762451, 0.7611541748046875, 0.2384568154811859, 0.9995438456535339, 0.31453052163124084, 0.685207724571228, 0.9996048212051392, 0.9984971284866333, 0.9996816515922546, 0.9991173148155212, 0.21335285902023315, 0.7863242626190186, 0.9984225630760193, 0.9992290735244751, 0.9988992214202881, 0.9997484683990479, 0.998581051826477, 0.9988553524017334, 0.9995644688606262, 0.9997186660766602, 0.9992430806159973, 0.9978251457214355, 0.9992509484291077, 0.99968421459198, 0.6869507431983948, 0.31312814354896545, 0.99862140417099, 0.9984994530677795, 0.9989039897918701, 0.999279797077179, 0.6190387010574341, 0.24184666574001312, 0.13883203268051147, 0.9987866282463074, 0.9984621405601501, 0.0030512113589793444, 0.3179362118244171, 0.6788945198059082, 0.9991586208343506, 0.9996113777160645, 0.9994480609893799, 0.9983457922935486, 0.9993445873260498, 0.9990113973617554, 0.04291967675089836, 0.0007036012830212712, 0.317324161529541, 0.6381663680076599, 0.5725201964378357, 0.4273742139339447, 0.9996734261512756, 0.9992744326591492, 0.9991798996925354, 0.9993575811386108, 0.51670902967453, 0.239900603890419, 0.0691554993391037, 0.08015327155590057, 0.005032879766076803, 0.0870501846075058, 0.0020504326093941927, 0.9996626377105713, 0.9997144937515259, 0.9982565641403198, 0.6346584558486938, 0.21324284374713898, 0.09663032740354538, 0.048911646008491516, 0.006263076793402433, 0.9994487166404724, 0.9992087483406067, 0.7809328436851501, 0.20091961324214935, 0.017059212550520897, 0.0011372808367013931, 0.44111746549606323, 0.5588350296020508, 0.9994333982467651, 0.9995624423027039, 0.9997957348823547, 0.9994778037071228, 0.9998701214790344, 0.9998393654823303, 0.9996504783630371, 0.998889148235321, 0.9996212124824524, 0.999123215675354, 0.7496321201324463, 0.25054728984832764, 0.07145535945892334, 0.04533625766634941, 0.88304203748703, 0.00013533211313188076, 0.999619722366333, 0.9994189143180847, 0.2667851150035858, 0.7332053184509277, 0.9997461438179016, 0.9994614124298096, 0.9994015693664551, 0.9997625946998596, 0.9993442893028259, 0.9995850920677185, 0.9996384382247925, 0.9984155297279358, 0.9992329478263855, 0.9995526075363159, 0.9997939467430115, 0.9992526173591614, 0.9994896054267883, 0.9993977546691895, 0.999983549118042, 0.9994384050369263, 0.999823272228241, 0.9986600279808044, 0.7394518852233887, 0.26020628213882446, 0.990416944026947, 0.009588750079274178, 0.9994478225708008, 0.9994663000106812, 0.72758549451828, 0.27227434515953064, 0.9996793270111084, 0.3470422923564911, 0.6488903164863586, 0.003731637494638562, 0.9998021125793457, 0.9994840621948242, 0.9991986751556396, 0.9993744492530823, 0.9996401071548462, 0.9992308616638184, 0.9997614622116089, 0.9995282888412476, 0.9992011785507202, 0.7312226891517639, 0.2679320275783539, 0.0006098604644648731, 0.00020328682148829103, 0.9991855025291443, 0.9988872408866882, 0.999701201915741, 0.7212396860122681, 0.278556764125824, 0.9997773766517639, 0.9985476732254028, 0.42158061265945435, 0.5781745314598083, 0.4638625681400299, 0.5360774993896484, 0.9988248348236084, 0.999448299407959, 0.9994161128997803, 0.9985485672950745, 0.99971604347229, 0.9990338087081909, 0.9995095133781433, 0.9982128143310547, 0.601043164730072, 0.29389241337776184, 0.1049615815281868, 0.9995167255401611, 0.9996451139450073, 0.9992378950119019, 0.9991000890731812, 0.9996586441993713, 0.9999006390571594, 0.9993205666542053, 0.9997942447662354, 0.6789911985397339, 0.20666523277759552, 0.0007238712278194726, 0.1132858470082283, 0.9986662864685059, 0.9987210035324097, 0.9993681907653809, 0.9997220635414124, 0.7318659424781799, 0.26755765080451965, 0.0002901926636695862, 0.25636011362075806, 0.4694465398788452, 0.2739856243133545, 0.3702535033226013, 0.6297303438186646, 0.9997335076332092, 0.9997860789299011, 0.998687207698822, 0.6311403512954712, 0.04402025043964386, 0.3247869312763214, 0.9995884299278259, 0.9996660947799683, 0.9990032315254211, 0.45853057503700256, 0.5360314846038818, 0.000588614318985492, 0.004708914551883936, 0.999142050743103, 0.999620258808136, 0.9990010261535645, 0.9993877410888672, 0.9991816878318787, 0.999022364616394, 0.9995508193969727, 0.9993967413902283, 0.4348214864730835, 0.5628324747085571, 0.00029700921732001007, 0.0017820552457123995, 0.00014850460866000503, 0.9997209310531616, 0.9994622468948364, 0.9996045231819153, 0.9993019104003906, 0.9992648959159851, 0.9982308745384216, 0.9993821978569031, 0.9999575018882751, 0.9992095828056335, 0.8930628299713135, 0.10649140179157257, 0.9993835687637329, 0.25031426548957825, 0.6888945698738098, 0.002121307421475649, 0.0578056238591671, 0.9993042349815369, 0.34046614170074463, 0.6594812870025635, 0.9980141520500183, 0.0011824811808764935, 0.0019971218425780535, 0.1617668718099594, 0.8327998518943787, 0.0019971218425780535, 0.9990160465240479, 0.9992304444313049, 0.9990196228027344, 0.9981914758682251, 0.9990947246551514, 0.9983217120170593, 0.9996567368507385, 0.9994591474533081, 0.9997921586036682, 0.9990845918655396, 0.9992448687553406, 0.999667763710022, 0.9998061060905457, 0.999026358127594, 0.9992749691009521, 0.9996094703674316, 0.1519317477941513, 0.8472428917884827, 0.9996851682662964, 0.9979994893074036, 0.9984586834907532, 0.5579426884651184, 0.2888270616531372, 0.02682943269610405, 0.021080268546938896, 0.10512757301330566, 0.999563992023468, 0.4086626172065735, 0.0002074429503409192, 0.15744920074939728, 0.4335557520389557, 0.9995651245117188, 0.9992802739143372, 0.000665299769025296, 0.9988147616386414, 0.9990681409835815, 0.9992480278015137, 0.9994354844093323, 0.9991267323493958, 0.9989127516746521, 0.3859645128250122, 0.26974719762802124, 0.11060035973787308, 0.15540219843387604, 0.07823605090379715, 0.9989794492721558, 0.9992119669914246, 0.0033608521334826946, 0.6716533899307251, 0.12124920636415482, 0.20397786796092987, 0.9997467994689941, 0.9985349178314209, 0.9993295073509216, 0.9993730187416077, 0.9994581341743469, 0.9988539218902588, 0.998879075050354, 0.999717116355896, 0.9984941482543945, 0.000916890858206898, 0.9991973638534546, 0.999527633190155, 0.04754522442817688, 0.784164547920227, 0.16121149063110352, 0.006855358369648457, 0.007127014920115471, 0.9925556182861328, 0.9994826316833496, 0.9996199607849121, 0.9955542683601379, 0.003303830511868, 0.9979583621025085, 0.9994575381278992, 0.9992029666900635, 0.99980628490448, 0.40541380643844604, 0.5105468034744263, 0.0837588757276535, 0.9985492825508118, 0.9984737634658813, 0.9994799494743347, 0.3478800654411316, 0.6514319181442261, 0.9990556836128235, 0.9994825720787048, 0.9982889890670776, 0.9997065663337708, 0.9998258948326111, 0.9979879260063171, 0.9994928240776062, 0.6118271946907043, 0.04783833771944046, 0.17904408276081085, 0.10938473790884018, 0.004755858331918716, 0.04727882519364357, 0.9986317753791809, 0.7550027966499329, 0.24502956867218018, 0.9991286396980286, 0.9994164705276489, 0.9988806843757629, 0.9986757040023804, 0.04441923648118973, 0.9553661346435547, 0.9993470907211304, 0.9998494982719421, 0.9997181296348572, 0.32169607281684875, 0.6778316497802734, 0.9981774687767029, 0.0007713890518061817, 0.0007713890518061817, 0.0007713890518061817, 0.8039687871932983, 0.19538156688213348, 0.9991552233695984, 0.9981106519699097, 0.5467866063117981, 0.3515872061252594, 0.059587180614471436, 0.042007822543382645, 0.7571980953216553, 0.20738546550273895, 0.03536806255578995, 0.6788020730018616, 0.21674275398254395, 0.1038413792848587, 0.008734641596674919, 0.03231817111372948, 0.0043673207983374596, 0.5497000813484192, 0.2742677330970764, 0.07191521674394608, 0.03086240030825138, 0.01543120015412569, 0.009025796316564083, 0.0034938566386699677, 0.9995733499526978, 0.9993299841880798, 0.9983104467391968, 0.9992256164550781, 0.998959481716156, 0.08744843304157257, 0.2938764989376068, 0.5703739523887634, 0.04831099510192871, 0.9992274641990662, 0.9994147419929504, 0.9955191016197205, 0.002582410117611289, 0.9992075562477112, 0.999448299407959, 0.6154967546463013, 0.23493003845214844, 0.04179386794567108, 0.09400054812431335, 0.013693554326891899, 0.9983482360839844, 0.005297829397022724, 0.9933430552482605, 0.9980353116989136, 0.9992802143096924, 0.9996351599693298, 0.9992629289627075, 0.9991030097007751, 0.3010784387588501, 0.10993204265832901, 0.2994322180747986, 0.20962083339691162, 0.07975103706121445, 0.9970651865005493, 0.00302752573043108, 0.1410459727048874, 0.10391218960285187, 0.2621208429336548, 0.4849235415458679, 0.007801215164363384, 0.31426337361335754, 0.6855365633964539, 0.9994293451309204, 0.9992077946662903, 0.5652768611907959, 0.3107258975505829, 0.1031230017542839, 0.01953909546136856, 0.0013568815775215626, 0.9996576905250549, 0.999663770198822, 0.9992232322692871, 0.7361633777618408, 0.2632957696914673, 0.9992759227752686, 0.07455818355083466, 0.9245214462280273, 0.9998924732208252, 0.9997355341911316, 0.46200332045555115, 0.5375489592552185, 0.010323935188353062, 0.6170421242713928, 0.08917485922574997, 0.12149326503276825, 0.16189126670360565, 0.9987387657165527, 0.9996059536933899, 0.9987699389457703, 0.4078894555568695, 0.45882052183151245, 0.13317039608955383, 0.0002204807969974354, 0.42812660336494446, 0.5713543891906738, 0.9995471239089966, 0.9990792870521545, 0.9983227849006653], \"Term\": [\"#blacklivesmatter\", \"#ccot\", \"#demdebate\", \"#demndebate\", \"#iceisis\", \"#isis\", \"#job\", \"#maga\", \"#maga\", \"#maga\", \"#maga\", \"#news\", \"#news\", \"#news\", \"#news\", \"#news\", \"#news\", \"#opiceisis\", \"#pjnet\", \"#pjnet\", \"#politics\", \"#politics\", \"#politics\", \"#politics\", \"#stopislam\", \"#targets\", \"#tcot\", \"#trump\", \"#wakeupamerica\", \"@hillaryclinton\", \"abortion\", \"abuse\", \"accident\", \"account\", \"accused\", \"ahead\", \"air\", \"airport\", \"allen\", \"also\", \"america\", \"america\", \"american\", \"announces\", \"army\", \"arrest\", \"arrested\", \"assault\", \"attack\", \"baby\", \"back\", \"back\", \"back\", \"bad\", \"beat\", \"believe\", \"bill\", \"birth\", \"birthday\", \"black\", \"blue\", \"body\", \"bomb\", \"bombing\", \"border\", \"boy\", \"breaking\", \"budget\", \"building\", \"california\", \"call\", \"campaign\", \"car\", \"care\", \"case\", \"caught\", \"center\", \"change\", \"charge\", \"charge\", \"charged\", \"chief\", \"chief\", \"child\", \"child\", \"christian\", \"city\", \"city\", \"claim\", \"claim\", \"climate\", \"clinton\", \"close\", \"cnn\", \"college\", \"comey\", \"community\", \"congress\", \"conservative\", \"control\", \"control\", \"could\", \"could\", \"could\", \"county\", \"court\", \"crash\", \"crime\", \"cruz\", \"da\", \"daily\", \"day\", \"day\", \"day\", \"day\", \"day\", \"de\", \"dead\", \"dead\", \"deal\", \"death\", \"death\", \"death\", \"death\", \"debate\", \"debate\", \"dem\", \"democrat\", \"democrat\", \"die\", \"died\", \"district\", \"dog\", \"donald\", \"donald\", \"done\", \"driver\", \"drug\", \"dy\", \"early\", \"east\", \"election\", \"email\", \"enlist\", \"eu\", \"ever\", \"every\", \"face\", \"face\", \"facebook\", \"fair\", \"fake\", \"fall\", \"family\", \"family\", \"family\", \"fatal\", \"fed\", \"fire\", \"fire\", \"fire\", \"fired\", \"flag\", \"follow\", \"following\", \"football\", \"force\", \"former\", \"former\", \"former\", \"former\", \"found\", \"found\", \"fraud\", \"freedom\", \"friday\", \"friend\", \"get\", \"get\", \"get\", \"get\", \"get\", \"get\", \"get\", \"girl\", \"give\", \"giving\", \"go\", \"go\", \"go\", \"go\", \"go\", \"god\", \"going\", \"good\", \"good\", \"good\", \"good\", \"gop\", \"gop\", \"governor\", \"great\", \"group\", \"guilty\", \"gun\", \"hate\", \"health\", \"hear\", \"help\", \"hey\", \"high\", \"high\", \"hillary\", \"hillary\", \"hillary\", \"hillary\", \"hillary's\", \"history\", \"home\", \"home\", \"honor\", \"hope\", \"hospital\", \"house\", \"immigration\", \"incident\", \"investigate\", \"investigating\", \"investigation\", \"isi\", \"islam\", \"islamic\", \"join\", \"judge\", \"kansa\", \"kc\", \"keep\", \"key\", \"kid\", \"kid\", \"killed\", \"killed\", \"killing\", \"king\", \"know\", \"know\", \"latest\", \"law\", \"law\", \"law\", \"lawmaker\", \"lead\", \"leader\", \"leaf\", \"leave\", \"left\", \"let\", \"let's\", \"lie\", \"like\", \"like\", \"like\", \"like\", \"list\", \"little\", \"local\", \"look\", \"look\", \"looking\", \"lose\", \"make\", \"make\", \"man\", \"man\", \"manhattan\", \"many\", \"marriage\", \"mayor\", \"medium\", \"message\", \"middle\", \"military\", \"million\", \"million\", \"million\", \"missing\", \"missouri\", \"month\", \"mother\", \"movement\", \"mt\", \"much\", \"murder\", \"muslim\", \"muslim\", \"muslim\", \"muslim\", \"named\", \"nation\", \"national\", \"near\", \"need\", \"need\", \"need\", \"new\", \"new\", \"new\", \"news\", \"news\", \"night\", \"north\", \"nyc\", \"obama\", \"obama\", \"obama\", \"officer\", \"official\", \"oklahoma\", \"one\", \"one\", \"one\", \"one\", \"order\", \"outside\", \"paid\", \"parent\", \"park\", \"part\", \"party\", \"patriot\", \"people\", \"people\", \"people\", \"people\", \"people\", \"person\", \"plan\", \"plane\", \"player\", \"pleads\", \"pm\", \"point\", \"police\", \"political\", \"poll\", \"poll\", \"possible\", \"post\", \"post\", \"post\", \"post\", \"power\", \"president\", \"president\", \"presidential\", \"presidential\", \"prison\", \"prison\", \"prison\", \"prison\", \"problem\", \"protect\", \"protest\", \"protester\", \"proud\", \"racism\", \"racist\", \"rain\", \"read\", \"ready\", \"recall\", \"record\", \"refugee\", \"release\", \"remember\", \"report\", \"republican\", \"republican\", \"return\", \"retweet\", \"ride\", \"right\", \"right\", \"right\", \"right\", \"right\", \"royal\", \"rt\", \"rt\", \"rt\", \"rt\", \"rule\", \"run\", \"run\", \"running\", \"russia\", \"russian\", \"safety\", \"sander\", \"saturday\", \"say\", \"say\", \"say\", \"say\", \"say\", \"saying\", \"scam\", \"school\", \"school\", \"school\", \"school\", \"season\", \"second\", \"security\", \"seek\", \"sentenced\", \"series\", \"service\", \"set\", \"sex\", \"sex\", \"sheriff\", \"shooter\", \"shooting\", \"shooting\", \"shooting\", \"shooting\", \"shot\", \"shot\", \"sign\", \"social\", \"son\", \"son\", \"sound\", \"south\", \"stand\", \"star\", \"state\", \"state\", \"state\", \"station\", \"step\", \"storm\", \"street\", \"street\", \"strike\", \"student\", \"super\", \"supporter\", \"supreme\", \"surprise\", \"suspect\", \"take\", \"take\", \"take\", \"take\", \"take\", \"take\", \"taking\", \"talk\", \"talk\", \"targeted\", \"tax\", \"team\", \"ted\", \"teen\", \"teen\", \"terror\", \"terrorist\", \"texas\", \"thanks\", \"thanks\", \"that's\", \"that's\", \"that's\", \"that's\", \"think\", \"think\", \"thousand\", \"ticket\", \"time\", \"time\", \"time\", \"time\", \"today\", \"today\", \"today\", \"top\", \"top\", \"top\", \"topeka\", \"topeka\", \"topeka\", \"topeka\", \"topeka\", \"topeka\", \"topeka\", \"topeka\", \"topeka\", \"topeka\", \"tornado\", \"train\", \"trash\", \"truck\", \"true\", \"trump\", \"trump\", \"trump\", \"trump\", \"trump's\", \"truth\", \"try\", \"try\", \"tweet\", \"two\", \"u\", \"u\", \"u\", \"u\", \"u\", \"uk\", \"un\", \"un\", \"union\", \"university\", \"usa\", \"using\", \"vehicle\", \"via\", \"via\", \"via\", \"via\", \"via\", \"victim\", \"victim\", \"video\", \"video\", \"video\", \"video\", \"video\", \"vote\", \"vote\", \"voter\", \"wall\", \"want\", \"want\", \"want\", \"want\", \"want\", \"water\", \"weather\", \"wednesday\", \"week\", \"week\", \"weekend\", \"west\", \"west\", \"white\", \"wichita\", \"win\", \"win\", \"woman\", \"woman\", \"woman\", \"woman\", \"woman\", \"working\", \"world\", \"worst\", \"year\", \"year\", \"year\", \"year\", \"year-old\", \"year-old\", \"yet\", \"york\", \"zika\"]}, \"R\": 30, \"lambda.step\": 0.01, \"plot.opts\": {\"xlab\": \"PC1\", \"ylab\": \"PC2\"}, \"topic.order\": [1, 7, 8, 3, 9, 5, 2, 6, 4, 10]};\n",
       "\n",
       "function LDAvis_load_lib(url, callback){\n",
       "  var s = document.createElement('script');\n",
       "  s.src = url;\n",
       "  s.async = true;\n",
       "  s.onreadystatechange = s.onload = callback;\n",
       "  s.onerror = function(){console.warn(\"failed to load library \" + url);};\n",
       "  document.getElementsByTagName(\"head\")[0].appendChild(s);\n",
       "}\n",
       "\n",
       "if(typeof(LDAvis) !== \"undefined\"){\n",
       "   // already loaded: just create the visualization\n",
       "   !function(LDAvis){\n",
       "       new LDAvis(\"#\" + \"ldavis_el6183359787689926911027213\", ldavis_el6183359787689926911027213_data);\n",
       "   }(LDAvis);\n",
       "}else if(typeof define === \"function\" && define.amd){\n",
       "   // require.js is available: use it to load d3/LDAvis\n",
       "   require.config({paths: {d3: \"https://cdnjs.cloudflare.com/ajax/libs/d3/3.5.5/d3.min\"}});\n",
       "   require([\"d3\"], function(d3){\n",
       "      window.d3 = d3;\n",
       "      LDAvis_load_lib(\"https://cdn.rawgit.com/bmabey/pyLDAvis/files/ldavis.v1.0.0.js\", function(){\n",
       "        new LDAvis(\"#\" + \"ldavis_el6183359787689926911027213\", ldavis_el6183359787689926911027213_data);\n",
       "      });\n",
       "    });\n",
       "}else{\n",
       "    // require.js not available: dynamically load d3 & LDAvis\n",
       "    LDAvis_load_lib(\"https://cdnjs.cloudflare.com/ajax/libs/d3/3.5.5/d3.min.js\", function(){\n",
       "         LDAvis_load_lib(\"https://cdn.rawgit.com/bmabey/pyLDAvis/files/ldavis.v1.0.0.js\", function(){\n",
       "                 new LDAvis(\"#\" + \"ldavis_el6183359787689926911027213\", ldavis_el6183359787689926911027213_data);\n",
       "            })\n",
       "         });\n",
       "}\n",
       "</script>"
      ],
      "text/plain": [
       "PreparedData(topic_coordinates=              x         y  topics  cluster       Freq\n",
       "topic                                                \n",
       "0     -0.206197  0.207676       1        1  17.336222\n",
       "6     -0.228125  0.042516       2        1  15.270926\n",
       "7     -0.069394  0.139111       3        1  10.850449\n",
       "2     -0.066423 -0.194469       4        1   9.686235\n",
       "8     -0.094625 -0.182105       5        1   9.507814\n",
       "4     -0.017407 -0.181927       6        1   9.014377\n",
       "1      0.168699  0.044342       7        1   8.533293\n",
       "5      0.160709  0.040920       8        1   6.687271\n",
       "3      0.178764  0.041472       9        1   6.609138\n",
       "9      0.174001  0.042463      10        1   6.504275, topic_info=      Category          Freq               Term         Total  loglift  \\\n",
       "term                                                                     \n",
       "9495   Default  49217.000000              #news  49217.000000  30.0000   \n",
       "8716   Default  14427.000000              kansa  14427.000000  29.0000   \n",
       "86     Default  21692.000000              trump  21692.000000  28.0000   \n",
       "585    Default   9653.000000             police   9653.000000  27.0000   \n",
       "1049   Default   8113.000000            clinton   8113.000000  26.0000   \n",
       "9      Default   9485.000000                man   9485.000000  25.0000   \n",
       "26     Default   7389.000000            hillary   7389.000000  24.0000   \n",
       "10354  Default   7629.000000             #pjnet   7629.000000  23.0000   \n",
       "7917   Default   8195.000000          #politics   8195.000000  22.0000   \n",
       "9918   Default   6141.000000              #tcot   6141.000000  21.0000   \n",
       "93     Default   8226.000000                new   8226.000000  20.0000   \n",
       "3360   Default   3654.000000                gun   3654.000000  19.0000   \n",
       "581    Default   3911.000000           american   3911.000000  18.0000   \n",
       "390    Default   7269.000000              obama   7269.000000  17.0000   \n",
       "3568   Default   3678.000000                 mt   3678.000000  16.0000   \n",
       "583    Default   4478.000000               city   4478.000000  15.0000   \n",
       "3247   Default   4522.000000           shooting   4522.000000  14.0000   \n",
       "0      Default   6733.000000             people   6733.000000  13.0000   \n",
       "839    Default   5754.000000              state   5754.000000  12.0000   \n",
       "9002   Default   3170.000000              crash   3170.000000  11.0000   \n",
       "1153   Default   3921.000000              house   3921.000000  10.0000   \n",
       "914    Default   3962.000000             killed   3962.000000   9.0000   \n",
       "61011  Default   3792.000000            wichita   3792.000000   8.0000   \n",
       "979    Default   3041.000000               bill   3041.000000   7.0000   \n",
       "8199   Default   2769.000000             county   2769.000000   6.0000   \n",
       "1511   Default   3529.000000            america   3529.000000   5.0000   \n",
       "114    Default   3639.000000              death   3639.000000   4.0000   \n",
       "161    Default   4820.000000                 rt   4820.000000   3.0000   \n",
       "223    Default   2626.000000             attack   2626.000000   2.0000   \n",
       "980    Default   2773.000000               call   2773.000000   1.0000   \n",
       "...        ...           ...                ...           ...      ...   \n",
       "2798   Topic10   1796.910034            weather   1797.604370   2.7323   \n",
       "8378   Topic10   1510.374634            accused   1511.068970   2.7323   \n",
       "666    Topic10   1098.900391               rain   1099.594727   2.7321   \n",
       "6197   Topic10   1039.090820             recall   1039.785156   2.7320   \n",
       "1310   Topic10    970.595886              local    971.290222   2.7320   \n",
       "1307   Topic10    931.381531             center    932.075867   2.7320   \n",
       "1330   Topic10    820.617615            outside    821.311890   2.7319   \n",
       "1505   Topic10    806.201782               hear    806.896362   2.7318   \n",
       "1335   Topic10    766.111206  #blacklivesmatter    766.805420   2.7318   \n",
       "2616   Topic10    735.373474            station    736.067810   2.7318   \n",
       "1431   Topic10    679.963379            message    680.657654   2.7317   \n",
       "3096   Topic10    672.685791             safety    673.380127   2.7317   \n",
       "6518   Topic10    646.476135          protester    647.170410   2.7316   \n",
       "1401   Topic10    640.381653             racism    641.075928   2.7316   \n",
       "6486   Topic10    635.414673             giving    636.109009   2.7316   \n",
       "1815   Topic10    602.834534                hey    603.529175   2.7316   \n",
       "386    Topic10    601.769836            climate    602.464172   2.7316   \n",
       "1336   Topic10    601.511292           movement    602.205566   2.7316   \n",
       "1645   Topic10    575.394165             ticket    576.088440   2.7315   \n",
       "11219  Topic10    561.248169               zika    561.942505   2.7315   \n",
       "6183   Topic10    540.410400              sound    541.104736   2.7314   \n",
       "6552   Topic10    540.115356              birth    540.809631   2.7314   \n",
       "6182   Topic10    532.526917           incident    533.221252   2.7314   \n",
       "2947   Topic10    520.348022            retweet    521.042358   2.7314   \n",
       "2787   Topic10    508.329895           surprise    509.024200   2.7313   \n",
       "15778  Topic10    504.703949               scam    505.398285   2.7313   \n",
       "1499   Topic10    481.225952           birthday    481.920227   2.7313   \n",
       "4708   Topic10    469.035553              allen    469.730072   2.7312   \n",
       "1816   Topic10    455.718872              proud    456.413177   2.7312   \n",
       "3935   Topic10    750.119812                 un    755.026184   2.7262   \n",
       "\n",
       "       logprob  \n",
       "term            \n",
       "9495   30.0000  \n",
       "8716   29.0000  \n",
       "86     28.0000  \n",
       "585    27.0000  \n",
       "1049   26.0000  \n",
       "9      25.0000  \n",
       "26     24.0000  \n",
       "10354  23.0000  \n",
       "7917   22.0000  \n",
       "9918   21.0000  \n",
       "93     20.0000  \n",
       "3360   19.0000  \n",
       "581    18.0000  \n",
       "390    17.0000  \n",
       "3568   16.0000  \n",
       "583    15.0000  \n",
       "3247   14.0000  \n",
       "0      13.0000  \n",
       "839    12.0000  \n",
       "9002   11.0000  \n",
       "1153   10.0000  \n",
       "914     9.0000  \n",
       "61011   8.0000  \n",
       "979     7.0000  \n",
       "8199    6.0000  \n",
       "1511    5.0000  \n",
       "114     4.0000  \n",
       "161     3.0000  \n",
       "223     2.0000  \n",
       "980     1.0000  \n",
       "...        ...  \n",
       "2798   -4.6701  \n",
       "8378   -4.8438  \n",
       "666    -5.1619  \n",
       "6197   -5.2179  \n",
       "1310   -5.2860  \n",
       "1307   -5.3273  \n",
       "1330   -5.4539  \n",
       "1505   -5.4716  \n",
       "1335   -5.5226  \n",
       "2616   -5.5636  \n",
       "1431   -5.6419  \n",
       "3096   -5.6527  \n",
       "6518   -5.6924  \n",
       "1401   -5.7019  \n",
       "6486   -5.7097  \n",
       "1815   -5.7623  \n",
       "386    -5.7641  \n",
       "1336   -5.7645  \n",
       "1645   -5.8089  \n",
       "11219  -5.8338  \n",
       "6183   -5.8716  \n",
       "6552   -5.8722  \n",
       "6182   -5.8863  \n",
       "2947   -5.9095  \n",
       "2787   -5.9328  \n",
       "15778  -5.9400  \n",
       "1499   -5.9876  \n",
       "4708   -6.0133  \n",
       "1816   -6.0421  \n",
       "3935   -5.5437  \n",
       "\n",
       "[443 rows x 6 columns], token_table=        Topic      Freq               Term\n",
       "term                                      \n",
       "1335       10  0.998950  #blacklivesmatter\n",
       "12775       1  0.999758              #ccot\n",
       "6088        5  0.998299         #demdebate\n",
       "6077        5  0.998734        #demndebate\n",
       "12914       8  0.999612           #iceisis\n",
       "3634        8  0.999842              #isis\n",
       "158286      9  0.999765               #job\n",
       "13086       1  0.533145              #maga\n",
       "13086       2  0.457557              #maga\n",
       "13086       3  0.008567              #maga\n",
       "13086       4  0.000504              #maga\n",
       "9495        1  0.002946              #news\n",
       "9495        2  0.168010              #news\n",
       "9495        3  0.001382              #news\n",
       "9495        4  0.246234              #news\n",
       "9495        5  0.390655              #news\n",
       "9495        6  0.190725              #news\n",
       "12915       8  0.999157         #opiceisis\n",
       "10354       1  0.996639             #pjnet\n",
       "10354       4  0.003277             #pjnet\n",
       "7917        1  0.002807          #politics\n",
       "7917        2  0.127148          #politics\n",
       "7917        3  0.625370          #politics\n",
       "7917        5  0.244535          #politics\n",
       "13850       8  0.998988         #stopislam\n",
       "12916       8  0.999607           #targets\n",
       "9918        1  0.999946              #tcot\n",
       "661         4  0.999152             #trump\n",
       "9337        1  0.999630     #wakeupamerica\n",
       "2628        6  0.999381    @hillaryclinton\n",
       "...       ...       ...                ...\n",
       "341         5  0.001357               want\n",
       "2676        2  0.999658              water\n",
       "2798       10  0.999664            weather\n",
       "798         9  0.999223          wednesday\n",
       "1026        6  0.736163               week\n",
       "1026        8  0.263296               week\n",
       "1726        2  0.999276            weekend\n",
       "1933        1  0.074558               west\n",
       "1933        6  0.924521               west\n",
       "71          2  0.999892              white\n",
       "61011       2  0.999736            wichita\n",
       "329         2  0.462003                win\n",
       "329         6  0.537549                win\n",
       "65          1  0.010324              woman\n",
       "65          2  0.617042              woman\n",
       "65          4  0.089175              woman\n",
       "65          5  0.121493              woman\n",
       "65          6  0.161891              woman\n",
       "595         8  0.998739            working\n",
       "16          2  0.999606              world\n",
       "1829        9  0.998770              worst\n",
       "1606        1  0.407889               year\n",
       "1606        2  0.458821               year\n",
       "1606        4  0.133170               year\n",
       "1606        5  0.000220               year\n",
       "7326        2  0.428127           year-old\n",
       "7326        6  0.571354           year-old\n",
       "392         5  0.999547                yet\n",
       "3105        6  0.999079               york\n",
       "11219      10  0.998323               zika\n",
       "\n",
       "[578 rows x 3 columns], R=30, lambda_step=0.01, plot_opts={'xlab': 'PC1', 'ylab': 'PC2'}, topic_order=[1, 7, 8, 3, 9, 5, 2, 6, 4, 10])"
      ]
     },
     "execution_count": 39,
     "metadata": {},
     "output_type": "execute_result"
    }
   ],
   "source": [
    "%time gensim.prepare(ldamodel, gen_corpus, dictionary)"
   ]
  },
  {
   "cell_type": "markdown",
   "metadata": {},
   "source": [
    "## Ideas / Todos\n",
    "\n",
    "* run this analysis on the full corpus (one file takes approximately 8-9 minutes to process)\n",
    "* cherry-pick some words to include into the stopword list\n",
    "* ~~adapt the tokenizer to avoid splitting `#` symbols from twitter hashtags~~\n",
    "* reduce run-time"
   ]
  },
  {
   "cell_type": "markdown",
   "metadata": {},
   "source": [
    "## Notes\n",
    "\n",
    "`u` is probably still in the results because we are running the **lemmatization** (`WordNetLemmatizer`) after filtering - therefore something such as `ur` (which would pass our RegExp criteria, because it's 2 characters) might get stemmed into `u` and remain in the results."
   ]
  }
 ],
 "metadata": {
  "kernelspec": {
   "display_name": "Python 3",
   "language": "python",
   "name": "python3"
  },
  "language_info": {
   "codemirror_mode": {
    "name": "ipython",
    "version": 3
   },
   "file_extension": ".py",
   "mimetype": "text/x-python",
   "name": "python",
   "nbconvert_exporter": "python",
   "pygments_lexer": "ipython3",
   "version": "3.6.5"
  }
 },
 "nbformat": 4,
 "nbformat_minor": 2
}
