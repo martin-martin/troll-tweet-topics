{
 "cells": [
  {
   "cell_type": "markdown",
   "metadata": {},
   "source": [
    "# Topic Modeling on 'Russian Troll Tweets'\n",
    "\n",
    "Does topic modeling using LDA make sense on short-form data such as tweets?\n",
    "[Maybe yes](https://www.researchgate.net/post/What_is_a_good_way_to_perform_topic_modeling_on_short_text). Let's try."
   ]
  },
  {
   "cell_type": "code",
   "execution_count": 1,
   "metadata": {},
   "outputs": [
    {
     "name": "stderr",
     "output_type": "stream",
     "text": [
      "/Library/Frameworks/Python.framework/Versions/3.6/lib/python3.6/importlib/_bootstrap.py:219: RuntimeWarning: numpy.dtype size changed, may indicate binary incompatibility. Expected 96, got 88\n",
      "  return f(*args, **kwds)\n"
     ]
    }
   ],
   "source": [
    "import os\n",
    "import json\n",
    "import string\n",
    "import warnings\n",
    "import pandas as pd\n",
    "from nltk.tokenize import word_tokenize\n",
    "from nltk.corpus import stopwords\n",
    "from nltk.stem.wordnet import WordNetLemmatizer\n",
    "from gensim.corpora import Dictionary\n",
    "from gensim.models import LdaModel\n",
    "import pyLDAvis\n",
    "from pyLDAvis import gensim"
   ]
  },
  {
   "cell_type": "code",
   "execution_count": 2,
   "metadata": {},
   "outputs": [],
   "source": [
    "# displaying the vis right in our notebook\n",
    "pyLDAvis.enable_notebook()"
   ]
  },
  {
   "cell_type": "markdown",
   "metadata": {},
   "source": [
    "## Import what we'll work with"
   ]
  },
  {
   "cell_type": "code",
   "execution_count": 3,
   "metadata": {},
   "outputs": [],
   "source": [
    "data_dir = 'data'\n",
    "files = os.listdir(data_dir)"
   ]
  },
  {
   "cell_type": "code",
   "execution_count": 4,
   "metadata": {},
   "outputs": [],
   "source": [
    "# change to loop over all of them\n",
    "df = pd.read_csv(f\"{data_dir}/{files[0]}\")"
   ]
  },
  {
   "cell_type": "markdown",
   "metadata": {},
   "source": [
    "## Inspect the data quickly"
   ]
  },
  {
   "cell_type": "code",
   "execution_count": 5,
   "metadata": {},
   "outputs": [
    {
     "data": {
      "text/html": [
       "<div>\n",
       "<style scoped>\n",
       "    .dataframe tbody tr th:only-of-type {\n",
       "        vertical-align: middle;\n",
       "    }\n",
       "\n",
       "    .dataframe tbody tr th {\n",
       "        vertical-align: top;\n",
       "    }\n",
       "\n",
       "    .dataframe thead th {\n",
       "        text-align: right;\n",
       "    }\n",
       "</style>\n",
       "<table border=\"1\" class=\"dataframe\">\n",
       "  <thead>\n",
       "    <tr style=\"text-align: right;\">\n",
       "      <th></th>\n",
       "      <th>external_author_id</th>\n",
       "      <th>author</th>\n",
       "      <th>content</th>\n",
       "      <th>region</th>\n",
       "      <th>language</th>\n",
       "      <th>publish_date</th>\n",
       "      <th>harvested_date</th>\n",
       "      <th>following</th>\n",
       "      <th>followers</th>\n",
       "      <th>updates</th>\n",
       "      <th>post_type</th>\n",
       "      <th>account_type</th>\n",
       "      <th>new_june_2018</th>\n",
       "      <th>retweet</th>\n",
       "      <th>account_category</th>\n",
       "    </tr>\n",
       "  </thead>\n",
       "  <tbody>\n",
       "    <tr>\n",
       "      <th>0</th>\n",
       "      <td>1.674084e+09</td>\n",
       "      <td>GAB1ALDANA</td>\n",
       "      <td>People are too toxic. I think I have people po...</td>\n",
       "      <td>United States</td>\n",
       "      <td>English</td>\n",
       "      <td>7/30/2016 20:15</td>\n",
       "      <td>7/30/2016 20:15</td>\n",
       "      <td>3395</td>\n",
       "      <td>2014</td>\n",
       "      <td>2150</td>\n",
       "      <td>RETWEET</td>\n",
       "      <td>Hashtager</td>\n",
       "      <td>0</td>\n",
       "      <td>1</td>\n",
       "      <td>HashtagGamer</td>\n",
       "    </tr>\n",
       "    <tr>\n",
       "      <th>1</th>\n",
       "      <td>1.674084e+09</td>\n",
       "      <td>GAB1ALDANA</td>\n",
       "      <td>#NowPlaying Don't Shoot (I'm a Man) by @DEVO -...</td>\n",
       "      <td>United States</td>\n",
       "      <td>English</td>\n",
       "      <td>7/30/2016 20:15</td>\n",
       "      <td>7/30/2016 20:15</td>\n",
       "      <td>3395</td>\n",
       "      <td>2014</td>\n",
       "      <td>2146</td>\n",
       "      <td>RETWEET</td>\n",
       "      <td>Hashtager</td>\n",
       "      <td>0</td>\n",
       "      <td>1</td>\n",
       "      <td>HashtagGamer</td>\n",
       "    </tr>\n",
       "    <tr>\n",
       "      <th>2</th>\n",
       "      <td>1.674084e+09</td>\n",
       "      <td>GAB1ALDANA</td>\n",
       "      <td>the 'I'm the most boring person in the world' ...</td>\n",
       "      <td>United States</td>\n",
       "      <td>English</td>\n",
       "      <td>7/30/2016 20:16</td>\n",
       "      <td>7/30/2016 20:16</td>\n",
       "      <td>3395</td>\n",
       "      <td>2013</td>\n",
       "      <td>2159</td>\n",
       "      <td>RETWEET</td>\n",
       "      <td>Hashtager</td>\n",
       "      <td>0</td>\n",
       "      <td>1</td>\n",
       "      <td>HashtagGamer</td>\n",
       "    </tr>\n",
       "    <tr>\n",
       "      <th>3</th>\n",
       "      <td>1.674084e+09</td>\n",
       "      <td>GAB1ALDANA</td>\n",
       "      <td>#MyAchillesHeel slippery floors https://t.co/R...</td>\n",
       "      <td>United States</td>\n",
       "      <td>Norwegian</td>\n",
       "      <td>7/30/2016 20:16</td>\n",
       "      <td>7/30/2016 20:16</td>\n",
       "      <td>3395</td>\n",
       "      <td>2013</td>\n",
       "      <td>2160</td>\n",
       "      <td>RETWEET</td>\n",
       "      <td>Hashtager</td>\n",
       "      <td>0</td>\n",
       "      <td>1</td>\n",
       "      <td>HashtagGamer</td>\n",
       "    </tr>\n",
       "    <tr>\n",
       "      <th>4</th>\n",
       "      <td>1.674084e+09</td>\n",
       "      <td>GAB1ALDANA</td>\n",
       "      <td>#MyAchillesHeel Boring narcissists.....nothing...</td>\n",
       "      <td>United States</td>\n",
       "      <td>English</td>\n",
       "      <td>7/30/2016 20:16</td>\n",
       "      <td>7/30/2016 20:16</td>\n",
       "      <td>3395</td>\n",
       "      <td>2013</td>\n",
       "      <td>2158</td>\n",
       "      <td>RETWEET</td>\n",
       "      <td>Hashtager</td>\n",
       "      <td>0</td>\n",
       "      <td>1</td>\n",
       "      <td>HashtagGamer</td>\n",
       "    </tr>\n",
       "  </tbody>\n",
       "</table>\n",
       "</div>"
      ],
      "text/plain": [
       "   external_author_id      author  \\\n",
       "0        1.674084e+09  GAB1ALDANA   \n",
       "1        1.674084e+09  GAB1ALDANA   \n",
       "2        1.674084e+09  GAB1ALDANA   \n",
       "3        1.674084e+09  GAB1ALDANA   \n",
       "4        1.674084e+09  GAB1ALDANA   \n",
       "\n",
       "                                             content         region  \\\n",
       "0  People are too toxic. I think I have people po...  United States   \n",
       "1  #NowPlaying Don't Shoot (I'm a Man) by @DEVO -...  United States   \n",
       "2  the 'I'm the most boring person in the world' ...  United States   \n",
       "3  #MyAchillesHeel slippery floors https://t.co/R...  United States   \n",
       "4  #MyAchillesHeel Boring narcissists.....nothing...  United States   \n",
       "\n",
       "    language     publish_date   harvested_date  following  followers  updates  \\\n",
       "0    English  7/30/2016 20:15  7/30/2016 20:15       3395       2014     2150   \n",
       "1    English  7/30/2016 20:15  7/30/2016 20:15       3395       2014     2146   \n",
       "2    English  7/30/2016 20:16  7/30/2016 20:16       3395       2013     2159   \n",
       "3  Norwegian  7/30/2016 20:16  7/30/2016 20:16       3395       2013     2160   \n",
       "4    English  7/30/2016 20:16  7/30/2016 20:16       3395       2013     2158   \n",
       "\n",
       "  post_type account_type  new_june_2018  retweet account_category  \n",
       "0   RETWEET    Hashtager              0        1     HashtagGamer  \n",
       "1   RETWEET    Hashtager              0        1     HashtagGamer  \n",
       "2   RETWEET    Hashtager              0        1     HashtagGamer  \n",
       "3   RETWEET    Hashtager              0        1     HashtagGamer  \n",
       "4   RETWEET    Hashtager              0        1     HashtagGamer  "
      ]
     },
     "execution_count": 5,
     "metadata": {},
     "output_type": "execute_result"
    }
   ],
   "source": [
    "df.head()"
   ]
  },
  {
   "cell_type": "code",
   "execution_count": 6,
   "metadata": {},
   "outputs": [
    {
     "data": {
      "text/plain": [
       "external_author_id    float64\n",
       "author                 object\n",
       "content                object\n",
       "region                 object\n",
       "language               object\n",
       "publish_date           object\n",
       "harvested_date         object\n",
       "following               int64\n",
       "followers               int64\n",
       "updates                 int64\n",
       "post_type              object\n",
       "account_type           object\n",
       "new_june_2018           int64\n",
       "retweet                 int64\n",
       "account_category       object\n",
       "dtype: object"
      ]
     },
     "execution_count": 6,
     "metadata": {},
     "output_type": "execute_result"
    }
   ],
   "source": [
    "df.dtypes"
   ]
  },
  {
   "cell_type": "code",
   "execution_count": 7,
   "metadata": {},
   "outputs": [
    {
     "data": {
      "text/html": [
       "<div>\n",
       "<style scoped>\n",
       "    .dataframe tbody tr th:only-of-type {\n",
       "        vertical-align: middle;\n",
       "    }\n",
       "\n",
       "    .dataframe tbody tr th {\n",
       "        vertical-align: top;\n",
       "    }\n",
       "\n",
       "    .dataframe thead th {\n",
       "        text-align: right;\n",
       "    }\n",
       "</style>\n",
       "<table border=\"1\" class=\"dataframe\">\n",
       "  <thead>\n",
       "    <tr style=\"text-align: right;\">\n",
       "      <th></th>\n",
       "      <th>external_author_id</th>\n",
       "      <th>following</th>\n",
       "      <th>followers</th>\n",
       "      <th>updates</th>\n",
       "      <th>new_june_2018</th>\n",
       "      <th>retweet</th>\n",
       "    </tr>\n",
       "  </thead>\n",
       "  <tbody>\n",
       "    <tr>\n",
       "      <th>count</th>\n",
       "      <td>3.884520e+05</td>\n",
       "      <td>388452.000000</td>\n",
       "      <td>388452.000000</td>\n",
       "      <td>388452.000000</td>\n",
       "      <td>388452.000000</td>\n",
       "      <td>388452.000000</td>\n",
       "    </tr>\n",
       "    <tr>\n",
       "      <th>mean</th>\n",
       "      <td>7.200485e+16</td>\n",
       "      <td>2486.855076</td>\n",
       "      <td>6820.914885</td>\n",
       "      <td>7590.116050</td>\n",
       "      <td>0.137391</td>\n",
       "      <td>0.602679</td>\n",
       "    </tr>\n",
       "    <tr>\n",
       "      <th>std</th>\n",
       "      <td>2.330445e+17</td>\n",
       "      <td>3804.948594</td>\n",
       "      <td>15269.406368</td>\n",
       "      <td>10951.128592</td>\n",
       "      <td>0.344261</td>\n",
       "      <td>0.489344</td>\n",
       "    </tr>\n",
       "    <tr>\n",
       "      <th>min</th>\n",
       "      <td>4.100056e+08</td>\n",
       "      <td>0.000000</td>\n",
       "      <td>0.000000</td>\n",
       "      <td>1.000000</td>\n",
       "      <td>0.000000</td>\n",
       "      <td>0.000000</td>\n",
       "    </tr>\n",
       "    <tr>\n",
       "      <th>25%</th>\n",
       "      <td>1.670448e+09</td>\n",
       "      <td>476.000000</td>\n",
       "      <td>474.000000</td>\n",
       "      <td>1550.000000</td>\n",
       "      <td>0.000000</td>\n",
       "      <td>0.000000</td>\n",
       "    </tr>\n",
       "    <tr>\n",
       "      <th>50%</th>\n",
       "      <td>2.439943e+09</td>\n",
       "      <td>1225.000000</td>\n",
       "      <td>1043.000000</td>\n",
       "      <td>3259.000000</td>\n",
       "      <td>0.000000</td>\n",
       "      <td>1.000000</td>\n",
       "    </tr>\n",
       "    <tr>\n",
       "      <th>75%</th>\n",
       "      <td>2.787256e+09</td>\n",
       "      <td>2545.000000</td>\n",
       "      <td>2272.000000</td>\n",
       "      <td>7493.000000</td>\n",
       "      <td>0.000000</td>\n",
       "      <td>1.000000</td>\n",
       "    </tr>\n",
       "    <tr>\n",
       "      <th>max</th>\n",
       "      <td>9.812510e+17</td>\n",
       "      <td>34338.000000</td>\n",
       "      <td>110155.000000</td>\n",
       "      <td>52860.000000</td>\n",
       "      <td>1.000000</td>\n",
       "      <td>1.000000</td>\n",
       "    </tr>\n",
       "  </tbody>\n",
       "</table>\n",
       "</div>"
      ],
      "text/plain": [
       "       external_author_id      following      followers        updates  \\\n",
       "count        3.884520e+05  388452.000000  388452.000000  388452.000000   \n",
       "mean         7.200485e+16    2486.855076    6820.914885    7590.116050   \n",
       "std          2.330445e+17    3804.948594   15269.406368   10951.128592   \n",
       "min          4.100056e+08       0.000000       0.000000       1.000000   \n",
       "25%          1.670448e+09     476.000000     474.000000    1550.000000   \n",
       "50%          2.439943e+09    1225.000000    1043.000000    3259.000000   \n",
       "75%          2.787256e+09    2545.000000    2272.000000    7493.000000   \n",
       "max          9.812510e+17   34338.000000  110155.000000   52860.000000   \n",
       "\n",
       "       new_june_2018        retweet  \n",
       "count  388452.000000  388452.000000  \n",
       "mean        0.137391       0.602679  \n",
       "std         0.344261       0.489344  \n",
       "min         0.000000       0.000000  \n",
       "25%         0.000000       0.000000  \n",
       "50%         0.000000       1.000000  \n",
       "75%         0.000000       1.000000  \n",
       "max         1.000000       1.000000  "
      ]
     },
     "execution_count": 7,
     "metadata": {},
     "output_type": "execute_result"
    }
   ],
   "source": [
    "df.describe()"
   ]
  },
  {
   "cell_type": "markdown",
   "metadata": {},
   "source": [
    "## Text preprocessing and data cleaning\n",
    "\n",
    "I decided to avoid cleaning the text data of tweets, because punctuation and capitalization might play an important role. Maybe not a good idea, we'll see. Eventually it's possible to just go back to this point and do some cleaning before running the rest of the analysis.\n",
    "\n",
    "Bad idea.\n",
    "\n",
    "Here I am again. :)"
   ]
  },
  {
   "cell_type": "code",
   "execution_count": 8,
   "metadata": {},
   "outputs": [],
   "source": [
    "def preprocess(text, add_punct=None, add_stopwords=None):\n",
    "    # remove capitalization\n",
    "    text = text.lower()\n",
    "    # tokenize\n",
    "    tokens = word_tokenize(text)\n",
    "    # remove punctuation\n",
    "    punct = string.punctuation\n",
    "    # adding additional common punctuation chars of the texts, if provided\n",
    "    if add_punct:\n",
    "        punct += add_punct\n",
    "    no_punct = [t for t in tokens if not t in punct]\n",
    "    # remove stopwords\n",
    "    stpw = stopwords.words('english')\n",
    "    if add_stopwords:\n",
    "        stpw.extend(add_stopwords)\n",
    "    no_stpw = [t for t in no_punct if not t in stpw]\n",
    "    # lemmatize remaining tokens\n",
    "    lem = WordNetLemmatizer()\n",
    "    lem_tokens = [lem.lemmatize(t) for t in no_stpw]\n",
    "    return lem_tokens"
   ]
  },
  {
   "cell_type": "code",
   "execution_count": 9,
   "metadata": {},
   "outputs": [
    {
     "data": {
      "text/plain": [
       "'!\"#$%&\\'()*+,-./:;<=>?@[\\\\]^_`{|}~'"
      ]
     },
     "execution_count": 9,
     "metadata": {},
     "output_type": "execute_result"
    }
   ],
   "source": [
    "string.punctuation"
   ]
  },
  {
   "cell_type": "code",
   "execution_count": 10,
   "metadata": {},
   "outputs": [],
   "source": [
    "tweet_corpus = [preprocess(tweet, add_punct=\"’“”–''''``—\", add_stopwords=[\"http\", \"https\"]) \n",
    "                for tweet in list(df.content) \n",
    "                if type(tweet) == str]"
   ]
  },
  {
   "cell_type": "code",
   "execution_count": 11,
   "metadata": {},
   "outputs": [
    {
     "data": {
      "text/plain": [
       "[[\"'i\",\n",
       "  \"'m\",\n",
       "  'boring',\n",
       "  'person',\n",
       "  'world',\n",
       "  'starterpack',\n",
       "  'pokemongo',\n",
       "  '//t.co/u8woa1s3j7']]"
      ]
     },
     "execution_count": 11,
     "metadata": {},
     "output_type": "execute_result"
    }
   ],
   "source": [
    "tweet_corpus[2:3]"
   ]
  },
  {
   "cell_type": "markdown",
   "metadata": {},
   "source": [
    "## Topic modeling with `gensim`"
   ]
  },
  {
   "cell_type": "code",
   "execution_count": 12,
   "metadata": {},
   "outputs": [],
   "source": [
    "dictionary = Dictionary(tweet_corpus)\n",
    "gen_corpus = [dictionary.doc2bow(tweet) for tweet in tweet_corpus]"
   ]
  },
  {
   "cell_type": "code",
   "execution_count": 13,
   "metadata": {},
   "outputs": [],
   "source": [
    "warnings.filterwarnings(\"ignore\")\n",
    "ldamodel = LdaModel(corpus=gen_corpus, num_topics=10, id2word=dictionary)"
   ]
  },
  {
   "cell_type": "code",
   "execution_count": 14,
   "metadata": {},
   "outputs": [
    {
     "data": {
      "text/plain": [
       "[(0,\n",
       "  '0.080*\"news\" + 0.013*\"police\" + 0.012*\"man\" + 0.011*\"u\" + 0.009*\"trump\" + 0.008*\"\\'s\" + 0.007*\"obama\" + 0.007*\"state\" + 0.007*\"new\" + 0.007*\"politics\"'),\n",
       " (1,\n",
       "  '0.016*\"pjnet\" + 0.016*\"trump\" + 0.015*\"hillary\" + 0.014*\"clinton\" + 0.011*\"\\'s\" + 0.010*\"mt\" + 0.009*\"death\" + 0.007*\"maga\" + 0.007*\"medium\" + 0.007*\"amp\"'),\n",
       " (2,\n",
       "  '0.012*\"vote\" + 0.008*\"health\" + 0.007*\"party\" + 0.007*\"�\" + 0.006*\"lie\" + 0.006*\"truth\" + 0.006*\"left\" + 0.006*\"question\" + 0.006*\"person\" + 0.005*\"conservative\"'),\n",
       " (3,\n",
       "  '0.025*\"\\'s\" + 0.022*\"trump\" + 0.017*\"n\\'t\" + 0.015*\"...\" + 0.009*\"woman\" + 0.009*\"rt\" + 0.008*\"politics\" + 0.007*\"people\" + 0.007*\"say\" + 0.006*\"gun\"'),\n",
       " (4,\n",
       "  '0.012*\"dead\" + 0.011*\"help\" + 0.010*\"show\" + 0.010*\"campaign\" + 0.010*\"4\" + 0.010*\"3\" + 0.008*\"election\" + 0.008*\"video\" + 0.007*\"ka\" + 0.007*\"boy\"'),\n",
       " (5,\n",
       "  '0.011*\"law\" + 0.010*\"suspect\" + 0.009*\"arrested\" + 0.007*\"kc\" + 0.006*\"new\" + 0.006*\"charge\" + 0.006*\"sander\" + 0.005*\"post\" + 0.005*\"city\" + 0.005*\"issue\"'),\n",
       " (6,\n",
       "  '0.026*\"в\" + 0.014*\"и\" + 0.012*\"на\" + 0.009*\"не\" + 0.008*\"с\" + 0.006*\"storm\" + 0.006*\"crime\" + 0.005*\"что\" + 0.004*\"mother\" + 0.004*\"а\"'),\n",
       " (7,\n",
       "  '0.059*\"kansa\" + 0.029*\"‘\" + 0.014*\"city\" + 0.008*\"student\" + 0.008*\"dy\" + 0.007*\"royal\" + 0.007*\"fight\" + 0.005*\"beat\" + 0.005*\"guilty\" + 0.005*\"sign\"'),\n",
       " (8,\n",
       "  '0.019*\"isi\" + 0.011*\"change\" + 0.008*\"refugee\" + 0.008*\"weather\" + 0.008*\"cruz\" + 0.008*\"account\" + 0.008*\"target\" + 0.007*\"»\" + 0.006*\"«\" + 0.006*\"opiceisis\"'),\n",
       " (9,\n",
       "  '0.015*\"car\" + 0.012*\"breaking\" + 0.010*\"near\" + 0.007*\"weekend\" + 0.007*\"business\" + 0.007*\"congress\" + 0.007*\"2017\" + 0.007*\"targeted\" + 0.006*\"district\" + 0.005*\"military\"')]"
      ]
     },
     "execution_count": 14,
     "metadata": {},
     "output_type": "execute_result"
    }
   ],
   "source": [
    "ldamodel.show_topics()"
   ]
  },
  {
   "cell_type": "markdown",
   "metadata": {},
   "source": [
    "## Visualize the resulting topics\n",
    "\n",
    "Here we are using `pyLDAvis` - the `import` needs to be explicit to work, so it might appear that this is part of the `gensim` package, but instead this is from `pyLDAvis`."
   ]
  },
  {
   "cell_type": "code",
   "execution_count": 15,
   "metadata": {},
   "outputs": [
    {
     "data": {
      "text/html": [
       "\n",
       "<link rel=\"stylesheet\" type=\"text/css\" href=\"https://cdn.rawgit.com/bmabey/pyLDAvis/files/ldavis.v1.0.0.css\">\n",
       "\n",
       "\n",
       "<div id=\"ldavis_el3831153927892002159625987\"></div>\n",
       "<script type=\"text/javascript\">\n",
       "\n",
       "var ldavis_el3831153927892002159625987_data = {\"mdsDat\": {\"x\": [-0.2946288956110151, -0.2572858097044854, 0.1524316071333442, -0.15239205931658012, 0.09887989216540749, 0.059843669495804455, 0.07194223021083786, 0.0588392963269364, 0.12766066436104573, 0.1347094049387041], \"y\": [0.03494989199970455, 0.07771672964070563, 0.25068275755945263, -0.03492017723704848, -0.055354122098820825, -0.12220357478780708, -0.11470552900068841, -0.1715562322042744, 0.04912577689404638, 0.08626447923473021], \"topics\": [1, 2, 3, 4, 5, 6, 7, 8, 9, 10], \"cluster\": [1, 1, 1, 1, 1, 1, 1, 1, 1, 1], \"Freq\": [17.254362106323242, 16.933910369873047, 14.39046573638916, 9.541903495788574, 8.686483383178711, 7.368148326873779, 7.136993885040283, 6.844177722930908, 5.989678382873535, 5.853883743286133]}, \"tinfo\": {\"Category\": [\"Default\", \"Default\", \"Default\", \"Default\", \"Default\", \"Default\", \"Default\", \"Default\", \"Default\", \"Default\", \"Default\", \"Default\", \"Default\", \"Default\", \"Default\", \"Default\", \"Default\", \"Default\", \"Default\", \"Default\", \"Default\", \"Default\", \"Default\", \"Default\", \"Default\", \"Default\", \"Default\", \"Default\", \"Default\", \"Default\", \"Topic1\", \"Topic1\", \"Topic1\", \"Topic1\", \"Topic1\", \"Topic1\", \"Topic1\", \"Topic1\", \"Topic1\", \"Topic1\", \"Topic1\", \"Topic1\", \"Topic1\", \"Topic1\", \"Topic1\", \"Topic1\", \"Topic1\", \"Topic1\", \"Topic1\", \"Topic1\", \"Topic1\", \"Topic1\", \"Topic1\", \"Topic1\", \"Topic1\", \"Topic1\", \"Topic1\", \"Topic1\", \"Topic1\", \"Topic1\", \"Topic1\", \"Topic1\", \"Topic1\", \"Topic1\", \"Topic1\", \"Topic1\", \"Topic1\", \"Topic1\", \"Topic1\", \"Topic1\", \"Topic1\", \"Topic1\", \"Topic1\", \"Topic1\", \"Topic1\", \"Topic1\", \"Topic1\", \"Topic1\", \"Topic1\", \"Topic1\", \"Topic1\", \"Topic1\", \"Topic1\", \"Topic1\", \"Topic2\", \"Topic2\", \"Topic2\", \"Topic2\", \"Topic2\", \"Topic2\", \"Topic2\", \"Topic2\", \"Topic2\", \"Topic2\", \"Topic2\", \"Topic2\", \"Topic2\", \"Topic2\", \"Topic2\", \"Topic2\", \"Topic2\", \"Topic2\", \"Topic2\", \"Topic2\", \"Topic2\", \"Topic2\", \"Topic2\", \"Topic2\", \"Topic2\", \"Topic2\", \"Topic2\", \"Topic2\", \"Topic2\", \"Topic2\", \"Topic2\", \"Topic2\", \"Topic2\", \"Topic2\", \"Topic2\", \"Topic2\", \"Topic2\", \"Topic2\", \"Topic2\", \"Topic2\", \"Topic2\", \"Topic2\", \"Topic2\", \"Topic2\", \"Topic2\", \"Topic2\", \"Topic2\", \"Topic2\", \"Topic2\", \"Topic2\", \"Topic2\", \"Topic2\", \"Topic2\", \"Topic2\", \"Topic2\", \"Topic2\", \"Topic2\", \"Topic2\", \"Topic3\", \"Topic3\", \"Topic3\", \"Topic3\", \"Topic3\", \"Topic3\", \"Topic3\", \"Topic3\", \"Topic3\", \"Topic3\", \"Topic3\", \"Topic3\", \"Topic3\", \"Topic3\", \"Topic3\", \"Topic3\", \"Topic3\", \"Topic3\", \"Topic3\", \"Topic3\", \"Topic3\", \"Topic3\", \"Topic3\", \"Topic3\", \"Topic3\", \"Topic3\", \"Topic3\", \"Topic3\", \"Topic3\", \"Topic3\", \"Topic4\", \"Topic4\", \"Topic4\", \"Topic4\", \"Topic4\", \"Topic4\", \"Topic4\", \"Topic4\", \"Topic4\", \"Topic4\", \"Topic4\", \"Topic4\", \"Topic4\", \"Topic4\", \"Topic4\", \"Topic4\", \"Topic4\", \"Topic4\", \"Topic4\", \"Topic4\", \"Topic4\", \"Topic4\", \"Topic4\", \"Topic4\", \"Topic4\", \"Topic4\", \"Topic4\", \"Topic4\", \"Topic4\", \"Topic4\", \"Topic4\", \"Topic4\", \"Topic4\", \"Topic4\", \"Topic4\", \"Topic4\", \"Topic4\", \"Topic4\", \"Topic4\", \"Topic4\", \"Topic4\", \"Topic4\", \"Topic4\", \"Topic4\", \"Topic4\", \"Topic4\", \"Topic4\", \"Topic4\", \"Topic4\", \"Topic5\", \"Topic5\", \"Topic5\", \"Topic5\", \"Topic5\", \"Topic5\", \"Topic5\", \"Topic5\", \"Topic5\", \"Topic5\", \"Topic5\", \"Topic5\", \"Topic5\", \"Topic5\", \"Topic5\", \"Topic5\", \"Topic5\", \"Topic5\", \"Topic5\", \"Topic5\", \"Topic5\", \"Topic5\", \"Topic5\", \"Topic5\", \"Topic5\", \"Topic5\", \"Topic5\", \"Topic5\", \"Topic5\", \"Topic5\", \"Topic5\", \"Topic5\", \"Topic6\", \"Topic6\", \"Topic6\", \"Topic6\", \"Topic6\", \"Topic6\", \"Topic6\", \"Topic6\", \"Topic6\", \"Topic6\", \"Topic6\", \"Topic6\", \"Topic6\", \"Topic6\", \"Topic6\", \"Topic6\", \"Topic6\", \"Topic6\", \"Topic6\", \"Topic6\", \"Topic6\", \"Topic6\", \"Topic6\", \"Topic6\", \"Topic6\", \"Topic6\", \"Topic6\", \"Topic6\", \"Topic6\", \"Topic6\", \"Topic6\", \"Topic6\", \"Topic6\", \"Topic6\", \"Topic6\", \"Topic6\", \"Topic7\", \"Topic7\", \"Topic7\", \"Topic7\", \"Topic7\", \"Topic7\", \"Topic7\", \"Topic7\", \"Topic7\", \"Topic7\", \"Topic7\", \"Topic7\", \"Topic7\", \"Topic7\", \"Topic7\", \"Topic7\", \"Topic7\", \"Topic7\", \"Topic7\", \"Topic7\", \"Topic7\", \"Topic7\", \"Topic7\", \"Topic7\", \"Topic7\", \"Topic7\", \"Topic7\", \"Topic7\", \"Topic7\", \"Topic7\", \"Topic7\", \"Topic7\", \"Topic7\", \"Topic7\", \"Topic7\", \"Topic8\", \"Topic8\", \"Topic8\", \"Topic8\", \"Topic8\", \"Topic8\", \"Topic8\", \"Topic8\", \"Topic8\", \"Topic8\", \"Topic8\", \"Topic8\", \"Topic8\", \"Topic8\", \"Topic8\", \"Topic8\", \"Topic8\", \"Topic8\", \"Topic8\", \"Topic8\", \"Topic8\", \"Topic8\", \"Topic8\", \"Topic8\", \"Topic8\", \"Topic8\", \"Topic8\", \"Topic8\", \"Topic8\", \"Topic8\", \"Topic8\", \"Topic8\", \"Topic8\", \"Topic8\", \"Topic8\", \"Topic8\", \"Topic8\", \"Topic8\", \"Topic8\", \"Topic9\", \"Topic9\", \"Topic9\", \"Topic9\", \"Topic9\", \"Topic9\", \"Topic9\", \"Topic9\", \"Topic9\", \"Topic9\", \"Topic9\", \"Topic9\", \"Topic9\", \"Topic9\", \"Topic9\", \"Topic9\", \"Topic9\", \"Topic9\", \"Topic9\", \"Topic9\", \"Topic9\", \"Topic9\", \"Topic9\", \"Topic9\", \"Topic9\", \"Topic9\", \"Topic9\", \"Topic9\", \"Topic9\", \"Topic9\", \"Topic9\", \"Topic9\", \"Topic10\", \"Topic10\", \"Topic10\", \"Topic10\", \"Topic10\", \"Topic10\", \"Topic10\", \"Topic10\", \"Topic10\", \"Topic10\", \"Topic10\", \"Topic10\", \"Topic10\", \"Topic10\", \"Topic10\", \"Topic10\", \"Topic10\", \"Topic10\", \"Topic10\", \"Topic10\", \"Topic10\", \"Topic10\", \"Topic10\", \"Topic10\", \"Topic10\", \"Topic10\", \"Topic10\", \"Topic10\", \"Topic10\", \"Topic10\", \"Topic10\", \"Topic10\", \"Topic10\", \"Topic10\"], \"Freq\": [51155.0, 15673.0, 13825.0, 24547.0, 25591.0, 7662.0, 12046.0, 7503.0, 11328.0, 6254.0, 9748.0, 8838.0, 7196.0, 6310.0, 4226.0, 9519.0, 8767.0, 7808.0, 5209.0, 9404.0, 4944.0, 5372.0, 4587.0, 3162.0, 3204.0, 7663.0, 3110.0, 4096.0, 3378.0, 6908.0, 51154.44140625, 3784.7412109375, 3649.15771484375, 3437.7578125, 3323.2705078125, 3286.035888671875, 3085.43798828125, 2905.36083984375, 2603.08203125, 2522.392578125, 2344.024658203125, 1743.4541015625, 1725.512451171875, 1685.3123779296875, 1611.1683349609375, 1609.3916015625, 1533.6988525390625, 1488.551025390625, 1383.1029052734375, 1370.4820556640625, 1359.291748046875, 1290.6636962890625, 1259.3011474609375, 1175.5263671875, 1172.2176513671875, 1167.03125, 1128.7750244140625, 1113.224365234375, 1100.6768798828125, 1092.184814453125, 7177.8037109375, 1565.3892822265625, 2074.02587890625, 8427.513671875, 7559.4140625, 2313.924560546875, 3543.6435546875, 4262.13916015625, 2685.485107421875, 1858.8045654296875, 2269.782958984375, 2201.679931640625, 2471.808349609375, 4556.939453125, 4218.37109375, 4165.8623046875, 2868.375732421875, 2693.206298828125, 3491.949951171875, 5867.93505859375, 5168.8701171875, 2635.338623046875, 2408.587890625, 2515.6982421875, 4069.767333984375, 3358.920654296875, 2973.624755859375, 2501.224609375, 2472.331787109375, 2400.56494140625, 2145.739013671875, 2083.202880859375, 2040.6365966796875, 2047.33251953125, 1794.2044677734375, 1767.188720703125, 1748.6168212890625, 1731.59375, 1637.790771484375, 1622.4906005859375, 1616.5814208984375, 1599.142333984375, 1540.849365234375, 1550.236083984375, 1529.4910888671875, 1524.873779296875, 1524.102783203125, 1496.7830810546875, 1449.344970703125, 1434.7413330078125, 1431.53173828125, 1366.2254638671875, 1357.3284912109375, 1344.1064453125, 5368.70703125, 1580.914794921875, 3641.83251953125, 1622.3033447265625, 10396.908203125, 9479.9462890625, 15522.36328125, 3039.566650390625, 2041.72509765625, 5824.0390625, 13887.576171875, 2118.819091796875, 3045.617919921875, 3691.826904296875, 4646.123046875, 2258.864501953125, 5237.43603515625, 2582.652099609375, 3689.01611328125, 4164.68017578125, 2216.0546875, 2550.891845703125, 2791.09228515625, 3262.03271484375, 2386.951904296875, 2931.234619140625, 2378.071044921875, 2177.7314453125, 13824.30078125, 7502.33935546875, 6310.02880859375, 4944.09130859375, 4096.16162109375, 3404.840087890625, 3060.552978515625, 2833.7421875, 2252.260009765625, 2188.554443359375, 2112.654296875, 2074.135986328125, 2020.81689453125, 1950.7442626953125, 1938.341064453125, 1916.27490234375, 1912.8751220703125, 1861.5828857421875, 1722.74609375, 2032.6956787109375, 1665.066162109375, 1763.5576171875, 1560.5126953125, 1521.9205322265625, 1493.3544921875, 1464.28857421875, 1464.4508056640625, 1413.0665283203125, 1392.915283203125, 1390.075927734375, 3377.272705078125, 3273.478271484375, 2467.20068359375, 2399.817626953125, 2111.18701171875, 1935.171630859375, 1866.4976806640625, 1611.538818359375, 1587.8828125, 1523.0965576171875, 1474.6239013671875, 1467.7008056640625, 1355.3922119140625, 1235.0677490234375, 1155.05224609375, 1066.5294189453125, 1029.67578125, 1018.79296875, 933.0202026367188, 929.1922607421875, 871.6824951171875, 846.6307983398438, 829.8945922851562, 818.7205810546875, 800.5849609375, 768.9605712890625, 745.7202758789062, 745.429443359375, 733.369384765625, 721.5944213867188, 935.3222045898438, 883.6685180664062, 1625.1287841796875, 5721.48974609375, 5270.6669921875, 2524.6767578125, 2128.261962890625, 5056.22021484375, 1692.0616455078125, 1567.9896240234375, 1168.9107666015625, 5665.02685546875, 3846.646240234375, 1547.2781982421875, 1983.26318359375, 1530.5709228515625, 1608.118408203125, 1268.1219482421875, 1319.70166015625, 2513.753662109375, 2314.34765625, 2059.557861328125, 2053.27783203125, 2027.6790771484375, 1974.371337890625, 1873.3052978515625, 1640.2835693359375, 1626.7841796875, 1594.5870361328125, 1517.68212890625, 1473.6177978515625, 1292.3634033203125, 1254.0570068359375, 1219.2579345703125, 1183.6673583984375, 1172.6922607421875, 1171.3447265625, 1169.7791748046875, 1124.84521484375, 1124.230712890625, 1105.851318359375, 1090.1123046875, 1036.1966552734375, 983.3218383789062, 927.557373046875, 926.1092529296875, 923.1956787109375, 899.9169921875, 867.44189453125, 3727.7314453125, 2150.847900390625, 3203.6923828125, 3110.142578125, 2863.24365234375, 2767.385986328125, 2752.70458984375, 2749.789794921875, 2202.232177734375, 2041.4112548828125, 1968.1439208984375, 1859.180908203125, 1857.085693359375, 1809.7174072265625, 1612.195068359375, 1559.2161865234375, 1361.1229248046875, 1275.4552001953125, 1193.3697509765625, 1190.6083984375, 1076.2869873046875, 975.033447265625, 925.619140625, 1301.6793212890625, 875.8381958007812, 836.1820678710938, 836.0437622070312, 789.7980346679688, 788.8821411132812, 765.4085083007812, 750.6200561523438, 704.6378784179688, 777.181640625, 2180.418701171875, 1939.544189453125, 969.0005493164062, 1470.446044921875, 810.6543579101562, 15672.5927734375, 7661.40234375, 2234.330078125, 2188.20361328125, 1878.4930419921875, 1744.97314453125, 1327.7276611328125, 1280.0338134765625, 1214.5184326171875, 1137.477783203125, 1132.5970458984375, 1079.72509765625, 1075.3751220703125, 1017.3320922851562, 982.53076171875, 977.0435180664062, 902.8020629882812, 900.72509765625, 895.8482666015625, 877.6625366210938, 794.7616577148438, 760.5234375, 757.3416748046875, 752.0355834960938, 742.6329345703125, 742.7369384765625, 716.3901977539062, 712.7468872070312, 701.0950317382812, 691.8275146484375, 723.2060546875, 3709.302734375, 1126.26806640625, 879.9384155273438, 771.0958862304688, 2863.1416015625, 2227.720458984375, 1772.5697021484375, 1529.9783935546875, 1433.578125, 1153.0390625, 1113.354248046875, 1108.359375, 1102.9403076171875, 1054.473876953125, 1058.5384521484375, 1046.2752685546875, 1003.66015625, 986.8525390625, 941.3140258789062, 928.1046142578125, 891.5625, 858.90087890625, 855.6498413085938, 842.2113037109375, 823.2821655273438, 815.1702880859375, 814.8331909179688, 788.6019897460938, 761.7534790039062, 744.943115234375, 740.6170043945312, 720.02099609375, 704.2880249023438, 697.4703369140625, 2447.5966796875, 904.3615112304688, 1367.624267578125, 1013.7601318359375, 939.6320190429688, 1531.5391845703125, 1156.52392578125, 1100.0770263671875, 858.7698364257812, 2533.44140625, 1803.393310546875, 1800.8609619140625, 1787.31396484375, 1699.004150390625, 1447.848876953125, 1441.517822265625, 1294.45556640625, 1276.2908935546875, 1096.333740234375, 1093.592041015625, 1014.7664184570312, 1008.3278198242188, 999.21826171875, 978.8181762695312, 942.6591186523438, 921.7560424804688, 843.0178833007812, 819.99853515625, 774.4141235351562, 767.5443115234375, 759.734375, 741.3756713867188, 738.6871337890625, 714.7926635742188, 714.121337890625, 691.4102783203125, 690.4343872070312, 686.5455932617188, 648.0387573242188, 4149.93310546875, 1753.8919677734375, 3161.788330078125, 2686.862060546875, 2136.899658203125, 1623.1630859375, 1562.376220703125, 1548.7484130859375, 1465.87109375, 1285.121337890625, 1113.4471435546875, 987.8656005859375, 902.4728393554688, 878.6058349609375, 827.9676513671875, 823.73388671875, 775.1316528320312, 701.7294921875, 697.0198974609375, 687.3831176757812, 662.7700805664062, 634.0894165039062, 611.78857421875, 609.3812866210938, 596.0202026367188, 582.9596557617188, 575.0869750976562, 571.6290893554688, 566.3091430664062, 561.0829467773438, 541.91650390625, 540.0464477539062, 541.462646484375, 1524.4599609375, 773.728759765625, 860.9468994140625], \"Term\": [\"news\", \"kansa\", \"\\u0432\", \"'s\", \"trump\", \"\\u2018\", \"n't\", \"\\u0438\", \"...\", \"pjnet\", \"police\", \"hillary\", \"u\", \"\\u043d\\u0430\", \"isi\", \"man\", \"clinton\", \"woman\", \"city\", \"politics\", \"\\u043d\\u0435\", \"rt\", \"vote\", \"car\", \"dead\", \"say\", \"help\", \"\\u0441\", \"mt\", \"people\", \"news\", \"year\", \"american\", \"killed\", \"crash\", \"wichita\", \"take\", \"know\", \"county\", \"look\", \"found\", \"way\", \"hit\", \"victim\", \"another\", \"two\", \"u.s.\", \"senate\", \"care\", \"judge\", \"leader\", \"join\", \"run\", \"north\", \"claim\", \"texas\", \"next\", \"pay\", \"local\", \"seek\", \"u\", \"free\", \"shot\", \"police\", \"man\", \"back\", \"shooting\", \"state\", \"fire\", \"tax\", \"go\", \"attack\", \"america\", \"obama\", \"new\", \"politics\", \"one\", \"day\", \"say\", \"trump\", \"'s\", \"2\", \"school\", \"get\", \"gun\", \"officer\", \"donald\", \"country\", \"week\", \"million\", \"liberal\", \"cnn\", \"chief\", \"game\", \"lead\", \"said\", \"government\", \"terrorist\", \"murder\", \"baby\", \"dog\", \"stand\", \"twitter\", \"much\", \"real\", \"park\", \"'ll\", \"russia\", \"control\", \"away\", \"team\", \"'ve\", \"security\", \"sex\", \"rt\", \"start\", \"would\", \"kid\", \"n't\", \"...\", \"'s\", \"black\", \"ca\", \"woman\", \"trump\", \"love\", \"bill\", \"like\", \"people\", \"'m\", \"politics\", \"white\", \"tcot\", \"say\", \"good\", \"right\", \"get\", \"obama\", \"want\", \"hillary\", \"via\", \"life\", \"\\u0432\", \"\\u0438\", \"\\u043d\\u0430\", \"\\u043d\\u0435\", \"\\u0441\", \"storm\", \"crime\", \"\\u0447\\u0442\\u043e\", \"mother\", \"\\u0430\", \"fatal\", \"youtube\", \"border\", \"friday\", \"three\", \"\\u0443\", \"12\", \"\\u043e\", \"\\u043a\\u0430\\u043a\", \"\\u043f\\u043e\", \"\\u044d\\u0442\\u043e\", \"\\u0437\\u0430\", \"govt\", \"\\u0440\\u043e\\u0441\\u0441\\u0438\\u0438\", \"apartment\", \"alert\", \"fed\", \"session\", \"winning\", \"\\u0438\\u0437\", \"mt\", \"death\", \"medium\", \"amp\", \"2a\", \"case\", \"hillaryclinton\", \"missouri\", \"charged\", \"voter\", \"national\", \"high\", \"end\", \"killing\", \"power\", \"ever\", \"florida\", \"name\", \"investigation\", \"protest\", \"since\", \"father\", \"close\", \"cosproject\", \"nra\", \"investigating\", \"honor\", \"fraud\", \"football\", \"sport\", \"mean\", \"clintonscandals\", \"fbi\", \"pjnet\", \"hillary\", \"maga\", \"realdonaldtrump\", \"clinton\", \"home\", \"ccot\", \"email\", \"trump\", \"'s\", \"win\", \"woman\", \"school\", \"via\", \"gop\", \"police\", \"health\", \"party\", \"lie\", \"truth\", \"left\", \"question\", \"person\", \"conservative\", \"supreme\", \"read\", \"die\", \"looking\", \"thank\", \"facebook\", \"dems\", \"road\", \"teaparty\", \"community\", \"dem\", \"investigate\", \"illegal\", \"long\", \"enough\", \"company\", \"answer\", \"raise\", \"continues\", \"hear\", \"lying\", \"monday\", \"vote\", \"\\ufffd\", \"dead\", \"help\", \"show\", \"campaign\", \"4\", \"3\", \"election\", \"ka\", \"boy\", \"lawmaker\", \"teen\", \"last\", \"injured\", \"missing\", \"south\", \"fake\", \"sentenced\", \"star\", \"called\", \"john\", \"mom\", \"remember\", \"young\", \"wife\", \"saturday\", \"town\", \"benghazi\", \"bus\", \"caught\", \"putin\", \"iran\", \"video\", \"2\", \"night\", \"new\", \"lot\", \"kansa\", \"\\u2018\", \"student\", \"dy\", \"royal\", \"fight\", \"beat\", \"guilty\", \"sign\", \"release\", \"supporter\", \"word\", \"street\", \"race\", \"head\", \"lost\", \"rape\", \"pleads\", \"accident\", \"heart\", \"line\", \"korea\", \"parent\", \"search\", \"protect\", \"de\", \"abortion\", \"special\", \"cancer\", \"uk\", \"store\", \"city\", \"face\", \"1\", \"home\", \"law\", \"arrested\", \"kc\", \"charge\", \"sander\", \"issue\", \"force\", \"speech\", \"federal\", \"part\", \"cop\", \"arrest\", \"college\", \"latest\", \"christmas\", \"veteran\", \"islamic\", \"6\", \"drug\", \"christian\", \"air\", \"syria\", \"press\", \"robbery\", \"russian\", \"mass\", \"citizen\", \"ohio\", \"point\", \"fund\", \"suspect\", \"order\", \"post\", \"war\", \"group\", \"new\", \"city\", \"state\", \"vote\", \"change\", \"refugee\", \"weather\", \"cruz\", \"target\", \"\\u00bb\", \"\\u00ab\", \"opiceisis\", \"iceisis\", \"hold\", \"nation\", \"safe\", \"bombing\", \"lawsuit\", \"manhattan\", \"month\", \"yes\", \"syrian\", \"injury\", \"held\", \"inside\", \"stolen\", \"ted\", \"explosion\", \"trust\", \"ap\", \"gas\", \"foreign\", \"source\", \"welcome\", \"isi\", \"account\", \"car\", \"breaking\", \"near\", \"weekend\", \"business\", \"congress\", \"targeted\", \"district\", \"military\", \"brussels\", \"jail\", \"past\", \"violence\", \"drop\", \"using\", \"test\", \"hero\", \"2nd\", \"earthquake\", \"amendment\", \"lawyer\", \"announces\", \"highway\", \"memorial\", \"trash\", \"key\", \"severe\", \"wake\", \"robert\", \"patrol\", \"asked\", \"2017\", \"islamkills\", \"2016\"], \"Total\": [51155.0, 15673.0, 13825.0, 24547.0, 25591.0, 7662.0, 12046.0, 7503.0, 11328.0, 6254.0, 9748.0, 8838.0, 7196.0, 6310.0, 4226.0, 9519.0, 8767.0, 7808.0, 5209.0, 9404.0, 4944.0, 5372.0, 4587.0, 3162.0, 3204.0, 7663.0, 3110.0, 4096.0, 3378.0, 6908.0, 51155.30078125, 3785.59765625, 3650.02587890625, 3438.6142578125, 3324.126953125, 3286.900390625, 3086.297607421875, 2906.243408203125, 2603.9384765625, 2523.2490234375, 2344.90283203125, 1744.3145751953125, 1726.3687744140625, 1686.1685791015625, 1612.024658203125, 1610.247802734375, 1534.5556640625, 1489.4073486328125, 1383.960693359375, 1371.3389892578125, 1360.14794921875, 1291.52001953125, 1260.1573486328125, 1176.382568359375, 1173.0738525390625, 1167.887451171875, 1129.6314697265625, 1114.0806884765625, 1101.5330810546875, 1093.041015625, 7196.72802734375, 1572.4986572265625, 2139.54150390625, 9748.0078125, 9519.615234375, 2640.1015625, 4557.2470703125, 5859.49658203125, 3367.45703125, 2083.998291015625, 2833.163330078125, 2750.57080078125, 3314.643310546875, 8789.806640625, 8664.0166015625, 9404.0693359375, 4844.29296875, 4375.35595703125, 7663.7001953125, 25591.884765625, 24547.287109375, 5083.93798828125, 3939.951416015625, 5311.87451171875, 4070.602783203125, 3359.756103515625, 2974.461181640625, 2502.06005859375, 2473.167236328125, 2401.400390625, 2146.57470703125, 2084.038330078125, 2041.4718017578125, 2048.23046875, 1795.0401611328125, 1768.02392578125, 1749.4576416015625, 1732.4288330078125, 1638.6258544921875, 1623.32568359375, 1617.41650390625, 1599.9774169921875, 1541.6846923828125, 1551.0772705078125, 1530.326416015625, 1525.708984375, 1524.93798828125, 1497.6185302734375, 1450.1800537109375, 1435.576416015625, 1432.366943359375, 1367.0615234375, 1358.16357421875, 1344.941650390625, 5372.720703125, 1582.0029296875, 3702.272216796875, 1629.0694580078125, 12046.22265625, 11328.056640625, 24547.287109375, 3517.80615234375, 2171.972412109375, 7808.07666015625, 25591.884765625, 2336.5166015625, 3768.969482421875, 4970.9091796875, 6908.5, 2564.177001953125, 9404.0693359375, 3319.417236328125, 5913.6015625, 7663.7001953125, 2716.977294921875, 3677.24169921875, 5311.87451171875, 8789.806640625, 3677.521240234375, 8838.71875, 5716.91015625, 3046.7421875, 13825.2373046875, 7503.1015625, 6310.7998046875, 4944.83203125, 4096.9091796875, 3405.580810546875, 3061.293701171875, 2834.482666015625, 2253.000732421875, 2189.295166015625, 2113.39501953125, 2074.876708984375, 2021.5576171875, 1951.485107421875, 1939.0819091796875, 1917.015380859375, 1913.6158447265625, 1862.3238525390625, 1723.486572265625, 2033.58056640625, 1665.806640625, 1764.354248046875, 1561.2535400390625, 1522.6614990234375, 1494.0953369140625, 1465.029296875, 1465.1915283203125, 1413.80712890625, 1393.6561279296875, 1390.8177490234375, 3378.12890625, 3274.33447265625, 2468.056884765625, 2400.67578125, 2112.04345703125, 1936.0277099609375, 1867.35400390625, 1612.3951416015625, 1588.739013671875, 1523.9527587890625, 1475.4801025390625, 1468.556884765625, 1356.2484130859375, 1235.9239501953125, 1155.9091796875, 1067.3856201171875, 1030.531982421875, 1019.649169921875, 933.8764038085938, 930.0485229492188, 872.5386962890625, 847.48974609375, 830.7507934570312, 819.5768432617188, 801.441162109375, 769.8167724609375, 746.5764770507812, 746.28564453125, 734.2255859375, 722.4506225585938, 937.2515258789062, 885.3092651367188, 1668.3984375, 6254.484375, 8838.71875, 3473.689208984375, 2814.14599609375, 8767.0966796875, 2463.93896484375, 2199.1328125, 1413.5096435546875, 25591.884765625, 24547.287109375, 3062.723876953125, 7808.07666015625, 3939.951416015625, 5716.91015625, 3057.42041015625, 9748.0078125, 2514.56787109375, 2315.205322265625, 2060.3720703125, 2054.092041015625, 2028.4931640625, 1975.1854248046875, 1874.119384765625, 1641.09765625, 1627.5982666015625, 1595.401123046875, 1518.49658203125, 1474.431884765625, 1293.177490234375, 1254.87109375, 1220.072021484375, 1184.4814453125, 1173.5064697265625, 1172.1588134765625, 1170.593994140625, 1125.6593017578125, 1125.0447998046875, 1106.6654052734375, 1090.9263916015625, 1037.0107421875, 984.1476440429688, 928.3714599609375, 926.92333984375, 924.009765625, 900.7311401367188, 868.2559814453125, 4587.2421875, 4061.932373046875, 3204.531494140625, 3110.982666015625, 2864.082763671875, 2768.22509765625, 2753.543701171875, 2750.62890625, 2203.0712890625, 2042.252197265625, 1968.9830322265625, 1860.02001953125, 1857.9248046875, 1810.5565185546875, 1613.0341796875, 1560.0552978515625, 1361.9619140625, 1276.2943115234375, 1194.2088623046875, 1191.447509765625, 1077.1260986328125, 975.8724365234375, 926.45849609375, 1302.88623046875, 876.6771850585938, 837.0210571289062, 836.8827514648438, 790.6370849609375, 789.7212524414062, 766.2474975585938, 751.4590454101562, 705.4768676757812, 795.4265747070312, 3556.21435546875, 5083.93798828125, 1449.153076171875, 8664.0166015625, 1049.5794677734375, 15673.4384765625, 7662.24853515625, 2235.176025390625, 2189.049560546875, 1879.3389892578125, 1745.819091796875, 1328.5736083984375, 1280.8797607421875, 1215.3643798828125, 1138.32373046875, 1133.4429931640625, 1080.571044921875, 1076.2210693359375, 1018.177978515625, 983.3766479492188, 977.8894653320312, 903.6480102539062, 901.5709228515625, 896.6941528320312, 878.5084228515625, 795.607666015625, 761.3692626953125, 758.1875610351562, 752.8814697265625, 743.4788818359375, 743.5829467773438, 717.236083984375, 713.5927734375, 701.94091796875, 692.6734008789062, 724.0916748046875, 5209.6455078125, 1695.8677978515625, 3036.055908203125, 2463.93896484375, 2863.9892578125, 2228.568115234375, 1773.4176025390625, 1530.826171875, 1434.4259033203125, 1153.8868408203125, 1114.2020263671875, 1109.207275390625, 1103.7880859375, 1055.3216552734375, 1059.39599609375, 1047.1263427734375, 1004.5078735351562, 987.7002563476562, 942.1617431640625, 928.9523315429688, 892.4105224609375, 859.7485961914062, 856.49755859375, 843.05908203125, 824.1298828125, 816.0180053710938, 815.680908203125, 789.44970703125, 762.6011962890625, 745.7908935546875, 741.4647827148438, 720.8687133789062, 705.1357421875, 698.3180541992188, 2455.904052734375, 905.678466796875, 2158.230712890625, 1438.4981689453125, 1308.361572265625, 8664.0166015625, 5209.6455078125, 5859.49658203125, 4587.2421875, 2534.26904296875, 1804.221435546875, 1801.6885986328125, 1788.1416015625, 1699.8316650390625, 1448.676513671875, 1442.345458984375, 1295.2830810546875, 1277.118408203125, 1097.161376953125, 1094.419677734375, 1015.5940551757812, 1009.155517578125, 1000.0458984375, 979.6458129882812, 943.4867553710938, 922.5836791992188, 843.8455200195312, 820.826171875, 775.2417602539062, 768.3719482421875, 760.56201171875, 742.2032470703125, 739.5147705078125, 715.6203002929688, 714.948974609375, 692.2379150390625, 691.2620239257812, 687.3732299804688, 648.8663940429688, 4226.40087890625, 1772.7840576171875, 3162.613525390625, 2687.687255859375, 2137.724853515625, 1623.98828125, 1563.201416015625, 1549.5736083984375, 1466.6968994140625, 1285.946533203125, 1114.2723388671875, 988.6907348632812, 903.2979736328125, 879.4309692382812, 828.7927856445312, 824.5590209960938, 775.956787109375, 702.5546264648438, 697.8450927734375, 688.208251953125, 663.5952758789062, 634.9146118164062, 612.61376953125, 610.2064208984375, 596.8453369140625, 583.7847900390625, 575.9121704101562, 572.4542236328125, 567.1343383789062, 561.9080810546875, 542.7416381835938, 540.8716430664062, 542.2952880859375, 1653.666259765625, 1300.478759765625, 2192.59228515625], \"loglift\": [30.0, 29.0, 28.0, 27.0, 26.0, 25.0, 24.0, 23.0, 22.0, 21.0, 20.0, 19.0, 18.0, 17.0, 16.0, 15.0, 14.0, 13.0, 12.0, 11.0, 10.0, 9.0, 8.0, 7.0, 6.0, 5.0, 4.0, 3.0, 2.0, 1.0, 1.757099986076355, 1.7568999528884888, 1.7568999528884888, 1.7568999528884888, 1.7568000555038452, 1.7568000555038452, 1.7568000555038452, 1.7568000555038452, 1.7568000555038452, 1.7568000555038452, 1.756700038909912, 1.756600022315979, 1.756600022315979, 1.756600022315979, 1.756600022315979, 1.756600022315979, 1.756500005722046, 1.756500005722046, 1.756500005722046, 1.756500005722046, 1.756500005722046, 1.7563999891281128, 1.7563999891281128, 1.7563999891281128, 1.7563999891281128, 1.7563999891281128, 1.7562999725341797, 1.7562999725341797, 1.7562999725341797, 1.7562999725341797, 1.7545000314712524, 1.7525999546051025, 1.7259999513626099, 1.6115000247955322, 1.5264999866485596, 1.6252000331878662, 1.5054999589920044, 1.4387999773025513, 1.5307999849319458, 1.642799973487854, 1.5354000329971313, 1.534500002861023, 1.4637000560760498, 1.1002000570297241, 1.0374000072479248, 0.9429000020027161, 1.2330000400543213, 1.2718000411987305, 0.9710999727249146, 0.2842999994754791, 0.19920000433921814, 1.100000023841858, 1.2649999856948853, 1.0096999406814575, 1.7755999565124512, 1.7755999565124512, 1.7755999565124512, 1.7755000591278076, 1.7755000591278076, 1.7755000591278076, 1.7755000591278076, 1.7755000591278076, 1.7754000425338745, 1.7754000425338745, 1.7754000425338745, 1.7754000425338745, 1.7754000425338745, 1.7754000425338745, 1.7753000259399414, 1.7753000259399414, 1.7753000259399414, 1.7753000259399414, 1.7753000259399414, 1.7753000259399414, 1.7753000259399414, 1.7753000259399414, 1.7753000259399414, 1.7753000259399414, 1.7753000259399414, 1.7753000259399414, 1.7753000259399414, 1.7752000093460083, 1.7752000093460083, 1.7752000093460083, 1.7750999927520752, 1.7752000093460083, 1.7594000101089478, 1.7717000246047974, 1.628600001335144, 1.5976999998092651, 1.3174999952316284, 1.629699945449829, 1.7139999866485596, 1.482699990272522, 1.1646000146865845, 1.6779999732971191, 1.5628000497817993, 1.4783999919891357, 1.37909996509552, 1.6490999460220337, 1.190500020980835, 1.524899959564209, 1.3040000200271606, 1.1660000085830688, 1.572100043296814, 1.410099983215332, 1.1323000192642212, 0.784600019454956, 1.3436000347137451, 0.6721000075340271, 0.8986999988555908, 1.4400999546051025, 1.9385000467300415, 1.9385000467300415, 1.9385000467300415, 1.9385000467300415, 1.9384000301361084, 1.9384000301361084, 1.9384000301361084, 1.9383000135421753, 1.9383000135421753, 1.9383000135421753, 1.9383000135421753, 1.9381999969482422, 1.9381999969482422, 1.9381999969482422, 1.9381999969482422, 1.9381999969482422, 1.9381999969482422, 1.9381999969482422, 1.9381999969482422, 1.9381999969482422, 1.9381999969482422, 1.9381999969482422, 1.938099980354309, 1.938099980354309, 1.938099980354309, 1.938099980354309, 1.938099980354309, 1.938099980354309, 1.938099980354309, 1.938099980354309, 2.3492000102996826, 2.3492000102996826, 2.349100112915039, 2.349100112915039, 2.349100112915039, 2.3489999771118164, 2.3489999771118164, 2.348900079727173, 2.348900079727173, 2.348900079727173, 2.348900079727173, 2.348900079727173, 2.34879994392395, 2.34879994392395, 2.3487000465393066, 2.3487000465393066, 2.348599910736084, 2.348599910736084, 2.348599910736084, 2.348599910736084, 2.3485000133514404, 2.3485000133514404, 2.348400115966797, 2.348400115966797, 2.348400115966797, 2.348400115966797, 2.348299980163574, 2.348299980163574, 2.348299980163574, 2.348299980163574, 2.347399950027466, 2.347599983215332, 2.323199987411499, 2.2604000568389893, 1.8324999809265137, 2.030400037765503, 2.0701000690460205, 1.7991000413894653, 1.9737000465393066, 2.011199951171875, 2.1594998836517334, 0.8414999842643738, 0.4961000084877014, 1.666700005531311, 0.9790999889373779, 1.4039000272750854, 1.0810999870300293, 1.4694000482559204, 0.3497999906539917, 2.4430999755859375, 2.443000078201294, 2.443000078201294, 2.443000078201294, 2.443000078201294, 2.443000078201294, 2.443000078201294, 2.4428999423980713, 2.4428999423980713, 2.4428999423980713, 2.4428999423980713, 2.4428000450134277, 2.4428000450134277, 2.4428000450134277, 2.442699909210205, 2.442699909210205, 2.442699909210205, 2.442699909210205, 2.442699909210205, 2.442699909210205, 2.442699909210205, 2.442699909210205, 2.442699909210205, 2.4426000118255615, 2.4426000118255615, 2.442500114440918, 2.442500114440918, 2.442500114440918, 2.442500114440918, 2.442500114440918, 2.2358999252319336, 1.8076000213623047, 2.6077001094818115, 2.6077001094818115, 2.6077001094818115, 2.6077001094818115, 2.6077001094818115, 2.6077001094818115, 2.607599973678589, 2.607599973678589, 2.607599973678589, 2.607599973678589, 2.607599973678589, 2.6075000762939453, 2.6075000762939453, 2.6075000762939453, 2.6073999404907227, 2.607300043106079, 2.607300043106079, 2.607300043106079, 2.6071999073028564, 2.607100009918213, 2.607100009918213, 2.607100009918213, 2.6070001125335693, 2.6070001125335693, 2.6070001125335693, 2.6068999767303467, 2.6068999767303467, 2.6068999767303467, 2.6068999767303467, 2.606800079345703, 2.5848000049591064, 2.118799924850464, 1.6444000005722046, 2.2054998874664307, 0.8343999981880188, 2.3496999740600586, 2.6398000717163086, 2.6398000717163086, 2.6394999027252197, 2.6394999027252197, 2.639400005340576, 2.639400005340576, 2.63919997215271, 2.63919997215271, 2.63919997215271, 2.6391000747680664, 2.6391000747680664, 2.6391000747680664, 2.6391000747680664, 2.6389999389648438, 2.6389999389648438, 2.6389999389648438, 2.6389000415802, 2.6389000415802, 2.6389000415802, 2.6389000415802, 2.6387999057769775, 2.6387999057769775, 2.6387999057769775, 2.6387999057769775, 2.638700008392334, 2.638700008392334, 2.638700008392334, 2.638700008392334, 2.638700008392334, 2.638700008392334, 2.638700008392334, 2.3001999855041504, 2.230600118637085, 1.4013999700546265, 1.4781999588012695, 2.68149995803833, 2.6814000606536865, 2.681299924850464, 2.6812000274658203, 2.6812000274658203, 2.680999994277954, 2.680999994277954, 2.680999994277954, 2.680999994277954, 2.680999994277954, 2.680999994277954, 2.680999994277954, 2.6809000968933105, 2.6809000968933105, 2.6809000968933105, 2.6809000968933105, 2.680799961090088, 2.680799961090088, 2.680799961090088, 2.680799961090088, 2.6807000637054443, 2.6807000637054443, 2.6807000637054443, 2.6807000637054443, 2.6807000637054443, 2.6805999279022217, 2.6805999279022217, 2.6805999279022217, 2.6805999279022217, 2.6805999279022217, 2.6784000396728516, 2.680299997329712, 2.225600004196167, 2.3317999839782715, 2.3506999015808105, 0.9488999843597412, 1.1766999959945679, 1.0090999603271484, 1.0061999559402466, 2.8148000240325928, 2.81469988822937, 2.81469988822937, 2.81469988822937, 2.8145999908447266, 2.8145999908447266, 2.8145999908447266, 2.814500093460083, 2.814500093460083, 2.8143999576568604, 2.8143999576568604, 2.814300060272217, 2.814300060272217, 2.814300060272217, 2.814300060272217, 2.814300060272217, 2.814199924468994, 2.814199924468994, 2.8141000270843506, 2.8141000270843506, 2.8141000270843506, 2.813999891281128, 2.813999891281128, 2.813999891281128, 2.813999891281128, 2.813999891281128, 2.8138999938964844, 2.8138999938964844, 2.8138999938964844, 2.8138999938964844, 2.7969000339508057, 2.8043999671936035, 2.8378000259399414, 2.8378000259399414, 2.8376998901367188, 2.837599992752075, 2.8375000953674316, 2.8375000953674316, 2.8375000953674316, 2.837399959564209, 2.8373000621795654, 2.8371999263763428, 2.8371999263763428, 2.837100028991699, 2.837100028991699, 2.837100028991699, 2.8369998931884766, 2.836899995803833, 2.836899995803833, 2.836899995803833, 2.8368000984191895, 2.8368000984191895, 2.836699962615967, 2.836699962615967, 2.836699962615967, 2.836699962615967, 2.8366000652313232, 2.8366000652313232, 2.8366000652313232, 2.8366000652313232, 2.8364999294281006, 2.8364999294281006, 2.8364999294281006, 2.756700038909912, 2.3187999725341797, 1.9033000469207764], \"logprob\": [30.0, 29.0, 28.0, 27.0, 26.0, 25.0, 24.0, 23.0, 22.0, 21.0, 20.0, 19.0, 18.0, 17.0, 16.0, 15.0, 14.0, 13.0, 12.0, 11.0, 10.0, 9.0, 8.0, 7.0, 6.0, 5.0, 4.0, 3.0, 2.0, 1.0, -2.525599956512451, -5.129499912261963, -5.165999889373779, -5.225599765777588, -5.259500026702881, -5.2708001136779785, -5.333799839019775, -5.393899917602539, -5.503799915313721, -5.535200119018555, -5.60860013961792, -5.904600143432617, -5.914899826049805, -5.938499927520752, -5.983500003814697, -5.984600067138672, -6.032800197601318, -6.062699794769287, -6.136099815368652, -6.145299911499023, -6.153500080108643, -6.2052998542785645, -6.229899883270264, -6.298699855804443, -6.301599979400635, -6.306000232696533, -6.339300155639648, -6.3531999588012695, -6.364500045776367, -6.372300148010254, -4.489500045776367, -6.01230001449585, -5.730999946594238, -4.328999996185303, -4.437699794769287, -5.621500015258789, -5.195300102233887, -5.010700225830078, -5.472599983215332, -5.8404998779296875, -5.6407999992370605, -5.671199798583984, -5.555500030517578, -4.94379997253418, -5.020999908447266, -5.0335001945495605, -5.406700134277344, -5.469699859619141, -5.210000038146973, -4.690999984741211, -4.817800045013428, -5.491399765014648, -5.581399917602539, -5.537899971008301, -5.038099765777588, -5.230100154876709, -5.351900100708008, -5.524899959564209, -5.536499977111816, -5.565999984741211, -5.678199768066406, -5.707799911499023, -5.728400230407715, -5.725200176239014, -5.857100009918213, -5.872300148010254, -5.882900238037109, -5.8927001953125, -5.948400020599365, -5.957699775695801, -5.961400032043457, -5.9721999168396, -6.009399890899658, -6.003300189971924, -6.0167999267578125, -6.019800186157227, -6.020299911499023, -6.038400173187256, -6.0706000328063965, -6.080699920654297, -6.083000183105469, -6.129700183868408, -6.136199951171875, -6.145999908447266, -4.761099815368652, -5.983699798583984, -5.149199962615967, -5.957900047302246, -4.100200176239014, -4.192500114440918, -3.699399948120117, -5.329999923706055, -5.72790002822876, -4.679699897766113, -3.810699939727783, -5.690899848937988, -5.328000068664551, -5.1356000900268555, -4.905700206756592, -5.626800060272217, -4.785900115966797, -5.4928998947143555, -5.136300086975098, -5.015100002288818, -5.645999908447266, -5.505300045013428, -5.415299892425537, -5.259399890899658, -5.571700096130371, -5.366300106048584, -5.575399875640869, -5.663400173187256, -3.6524999141693115, -4.263700008392334, -4.436800003051758, -4.680799961090088, -4.868899822235107, -5.053800106048584, -5.160399913787842, -5.237400054931641, -5.4670000076293945, -5.495699882507324, -5.531000137329102, -5.5493998527526855, -5.575500011444092, -5.6107001304626465, -5.617099761962891, -5.628600120544434, -5.630300045013428, -5.65749979019165, -5.735000133514404, -5.5696001052856445, -5.769100189208984, -5.711599826812744, -5.833899974822998, -5.859000205993652, -5.877900123596191, -5.897600173950195, -5.897500038146973, -5.933199882507324, -5.9475998878479, -5.9496002197265625, -4.651000022888184, -4.682199954986572, -4.965000152587891, -4.992700099945068, -5.120800018310547, -5.207900047302246, -5.24399995803833, -5.390900135040283, -5.405700206756592, -5.447299957275391, -5.479700088500977, -5.484399795532227, -5.564000129699707, -5.6570000648498535, -5.723899841308594, -5.803699970245361, -5.838799953460693, -5.8495001792907715, -5.937399864196777, -5.941500186920166, -6.00540018081665, -6.034599781036377, -6.054500102996826, -6.0680999755859375, -6.0904998779296875, -6.130799770355225, -6.161499977111816, -6.161900043487549, -6.178199768066406, -6.194399833679199, -5.934899806976318, -5.991799831390381, -5.382500171661377, -4.123899936676025, -4.205900192260742, -4.941999912261963, -5.112800121307373, -4.247499942779541, -5.342100143432617, -5.418300151824951, -5.711999893188477, -4.133800029754639, -4.520899772644043, -5.431600093841553, -5.183300018310547, -5.442399978637695, -5.39300012588501, -5.630499839782715, -5.590700149536133, -4.852399826049805, -4.934999942779541, -5.051700115203857, -5.054699897766113, -5.067299842834473, -5.093900203704834, -5.146500110626221, -5.279300212860107, -5.287600040435791, -5.307499885559082, -5.35699987411499, -5.38640022277832, -5.5177001953125, -5.547800064086914, -5.575900077819824, -5.605500221252441, -5.6149001121521, -5.616000175476074, -5.617300033569336, -5.656499862670898, -5.657100200653076, -5.673500061035156, -5.687900066375732, -5.73859977722168, -5.790999889373779, -5.849400043487549, -5.850900173187256, -5.854100227355957, -5.8796000480651855, -5.916399955749512, -4.458399772644043, -5.008299827575684, -4.445300102233887, -4.474899768829346, -4.557600021362305, -4.591700077056885, -4.5970001220703125, -4.5980000495910645, -4.820099830627441, -4.895899772644043, -4.932499885559082, -4.9893999099731445, -4.990499973297119, -5.01639986038208, -5.131999969482422, -5.16540002822876, -5.301199913024902, -5.366300106048584, -5.432799816131592, -5.435100078582764, -5.535999774932861, -5.634799957275391, -5.686800003051758, -5.345900058746338, -5.742099761962891, -5.78849983215332, -5.788599967956543, -5.8454999923706055, -5.846700191497803, -5.8769001960754395, -5.896399974822998, -5.95959997177124, -5.861599922180176, -4.829999923706055, -4.9471001625061035, -5.640999794006348, -5.223999977111816, -5.819499969482422, -2.8257999420166016, -3.5415000915527344, -4.77370023727417, -4.794600009918213, -4.947199821472168, -5.020899772644043, -5.2941999435424805, -5.3308000564575195, -5.383299827575684, -5.44890022277832, -5.453199863433838, -5.500999927520752, -5.505000114440918, -5.560500144958496, -5.595300197601318, -5.600900173187256, -5.679900169372559, -5.682199954986572, -5.687699794769287, -5.708199977874756, -5.807400226593018, -5.851399898529053, -5.855599880218506, -5.86269998550415, -5.875199794769287, -5.875100135803223, -5.911200046539307, -5.916299819946289, -5.932799816131592, -5.946100234985352, -5.901700019836426, -4.2667999267578125, -5.458799839019775, -5.705599784851074, -5.837600231170654, -4.48390007019043, -4.734799861907959, -4.963399887084961, -5.110499858856201, -5.175600051879883, -5.393400192260742, -5.428400039672852, -5.4328999519348145, -5.43779993057251, -5.482699871063232, -5.478899955749512, -5.490600109100342, -5.532100200653076, -5.548999786376953, -5.59630012512207, -5.610400199890137, -5.650599956512451, -5.687900066375732, -5.691699981689453, -5.707499980926514, -5.730199813842773, -5.740099906921387, -5.740600109100342, -5.7733001708984375, -5.8078999519348145, -5.8302001953125, -5.836100101470947, -5.864299774169922, -5.88640022277832, -5.896100044250488, -4.640699863433838, -5.636300086975098, -5.222700119018555, -5.52209997177124, -5.598100185394287, -5.109499931335449, -5.390399932861328, -5.440400123596191, -5.688000202178955, -4.472899913787842, -4.81279993057251, -4.814199924468994, -4.821700096130371, -4.872399806976318, -5.032400131225586, -5.0366997718811035, -5.1442999839782715, -5.1585001945495605, -5.310500144958496, -5.313000202178955, -5.387800216674805, -5.394100189208984, -5.403200149536133, -5.423799991607666, -5.46150016784668, -5.48390007019043, -5.573200225830078, -5.600900173187256, -5.658100128173828, -5.666999816894531, -5.677199840545654, -5.701700210571289, -5.7052998542785645, -5.7382001876831055, -5.739099979400635, -5.771500110626221, -5.772900104522705, -5.778500080108643, -5.83620023727417, -3.979300022125244, -4.84060001373291, -4.228400230407715, -4.39109992980957, -4.620100021362305, -4.895100116729736, -4.933300018310547, -4.941999912261963, -4.997000217437744, -5.128600120544434, -5.271999835968018, -5.39169979095459, -5.482100009918213, -5.508900165557861, -5.568299770355225, -5.573400020599365, -5.634200096130371, -5.733699798583984, -5.7403998374938965, -5.75439977645874, -5.790800094604492, -5.835100173950195, -5.8709001541137695, -5.874800205230713, -5.896999835968018, -5.919099807739258, -5.932700157165527, -5.938799858093262, -5.9481000900268555, -5.957399845123291, -5.992099761962891, -5.99560022354126, -5.993000030517578, -4.957900047302246, -5.636000156402588, -5.529200077056885]}, \"token.table\": {\"Topic\": [2, 1, 2, 1, 2, 4, 6, 2, 1, 2, 3, 4, 5, 7, 10, 1, 2, 3, 7, 3, 1, 4, 6, 8, 1, 10, 5, 9, 10, 4, 10, 6, 6, 8, 7, 7, 1, 9, 8, 3, 10, 1, 4, 1, 4, 10, 1, 5, 9, 3, 8, 8, 10, 1, 4, 2, 2, 1, 4, 7, 6, 2, 4, 6, 2, 5, 7, 9, 3, 6, 10, 10, 6, 10, 1, 2, 6, 6, 7, 10, 1, 4, 6, 1, 2, 4, 9, 8, 4, 2, 8, 8, 8, 2, 7, 8, 1, 1, 2, 4, 8, 1, 4, 4, 2, 8, 5, 5, 10, 5, 5, 2, 8, 4, 2, 1, 1, 3, 9, 1, 2, 4, 5, 6, 7, 6, 4, 5, 5, 5, 10, 2, 2, 10, 8, 7, 10, 6, 1, 2, 4, 4, 5, 4, 9, 5, 6, 7, 5, 6, 3, 4, 1, 4, 3, 8, 7, 1, 2, 7, 4, 4, 8, 9, 1, 4, 1, 8, 3, 8, 2, 9, 1, 2, 4, 6, 1, 4, 1, 2, 1, 4, 8, 2, 3, 4, 6, 8, 7, 2, 7, 5, 5, 7, 9, 6, 10, 4, 10, 1, 2, 4, 4, 1, 9, 4, 7, 4, 9, 5, 6, 9, 9, 5, 4, 4, 4, 6, 2, 9, 8, 2, 10, 8, 10, 6, 1, 1, 6, 7, 8, 10, 2, 4, 1, 4, 1, 7, 6, 8, 8, 6, 9, 10, 2, 1, 5, 2, 5, 1, 2, 5, 6, 1, 2, 7, 1, 5, 1, 5, 7, 5, 6, 1, 2, 4, 5, 1, 2, 4, 1, 2, 4, 9, 8, 4, 5, 4, 10, 10, 2, 6, 4, 6, 5, 9, 3, 4, 2, 2, 1, 2, 4, 4, 9, 4, 10, 1, 2, 4, 5, 6, 7, 8, 1, 1, 2, 6, 1, 4, 1, 2, 4, 2, 8, 1, 2, 4, 9, 5, 8, 7, 2, 8, 5, 10, 10, 1, 1, 2, 5, 1, 2, 4, 7, 8, 1, 4, 1, 2, 6, 8, 4, 8, 7, 4, 6, 5, 7, 5, 7, 5, 2, 1, 4, 9, 7, 6, 1, 2, 4, 5, 8, 10, 7, 2, 6, 1, 2, 8, 9, 2, 8, 6, 1, 2, 4, 1, 4, 7, 2, 1, 1, 6, 3, 10, 2, 1, 4, 1, 2, 6, 6, 7, 4, 9, 6, 7, 8, 4, 2, 6, 2, 1, 2, 8, 9, 7, 3, 7, 7, 7, 5, 4, 8, 8, 9, 1, 9, 10, 1, 2, 1, 2, 2, 5, 9, 6, 2, 10, 1, 5, 3, 6, 10, 1, 2, 4, 5, 6, 8, 9, 5, 2, 1, 1, 2, 1, 7, 10, 8, 1, 2, 4, 5, 6, 7, 1, 1, 6, 10, 5, 8, 4, 10, 1, 2, 5, 8, 1, 9, 2, 10, 9, 1, 2, 1, 6, 2, 4, 6, 3, 2, 4, 7, 2, 4, 1, 9, 6, 3, 9, 9, 3, 3, 3, 3, 3, 3, 3, 3, 3, 3, 3, 3, 3, 3, 3, 7, 1, 2, 5, 7], \"Freq\": [0.999384880065918, 0.11855655908584595, 0.8809844255447388, 0.21057316660881042, 0.632330596446991, 0.1567179262638092, 0.0003666392876766622, 0.9992234706878662, 0.13356219232082367, 0.8368602395057678, 0.0051200310699641705, 0.0006179347401484847, 0.000529658340383321, 0.02268703281879425, 0.0006179347401484847, 0.1083642765879631, 0.4805576801300049, 0.12120988965034485, 0.28984972834587097, 0.9996781945228577, 0.5182989835739136, 0.0003933958359993994, 0.3815939426422119, 0.09952914714813232, 0.607043981552124, 0.3926858603954315, 0.07498490065336227, 0.002418867778033018, 0.9215885996818542, 0.9995059370994568, 0.9982443451881409, 0.9997713565826416, 0.9998025298118591, 0.9991292953491211, 0.9982765913009644, 0.9992258548736572, 0.010153520852327347, 0.9894042015075684, 0.9986289739608765, 0.9992974400520325, 0.9985594749450684, 0.7457816004753113, 0.25402432680130005, 0.999718964099884, 0.9997184872627258, 0.9980229139328003, 0.9993643760681152, 0.9988338947296143, 0.9986726641654968, 0.9992668628692627, 0.9989243745803833, 0.9997450709342957, 0.9976114630699158, 0.8005611300468445, 0.1992313712835312, 0.999598503112793, 0.9991833567619324, 0.8764814138412476, 0.12310132384300232, 0.9995682239532471, 0.9990866780281067, 0.8081784844398499, 0.0010612980695441365, 0.19076833128929138, 0.8641749620437622, 0.001137072336860001, 0.13445879518985748, 0.9988549947738647, 0.9997241497039795, 0.9995007514953613, 0.9997442960739136, 0.9993013739585876, 0.998371958732605, 0.9992314577102661, 0.0593930184841156, 0.940159261226654, 0.9989545345306396, 0.9995574355125427, 0.9986595511436462, 0.9998059868812561, 0.9993058443069458, 0.9994691610336304, 0.999389111995697, 0.09776581078767776, 0.1887107491493225, 0.7130083441734314, 0.9994992613792419, 0.9994603395462036, 0.9995348453521729, 0.9997689127922058, 0.9987437725067139, 0.9987669587135315, 0.9993731379508972, 0.06583940982818604, 0.7119486331939697, 0.2220880538225174, 0.9990845918655396, 0.15124733746051788, 0.24067260324954987, 0.5767017602920532, 0.03125321865081787, 0.0011295487638562918, 0.9985211491584778, 0.9990962743759155, 0.9995017647743225, 0.9994944334030151, 0.9990113973617554, 0.9990253448486328, 0.9996298551559448, 0.9993311166763306, 0.9990038871765137, 0.9991862773895264, 0.9996262192726135, 0.9992961883544922, 0.9995763301849365, 0.9996395707130432, 0.9996609687805176, 0.9999040365219116, 0.9993615746498108, 0.6154927611351013, 0.30831778049468994, 0.07565099000930786, 0.00022855283168610185, 0.00022855283168610185, 0.9992160201072693, 0.9998341202735901, 0.9995924234390259, 0.9994925856590271, 0.999121367931366, 0.9996729493141174, 0.9992639422416687, 0.9997425079345703, 0.9998449683189392, 0.9993220567703247, 0.999419093132019, 0.9995205402374268, 0.9991029500961304, 0.9995137453079224, 0.15493349730968475, 0.017686473205685616, 0.827019453048706, 0.9990795254707336, 0.999150812625885, 0.9996387362480164, 0.999303936958313, 0.001769005786627531, 0.33375242352485657, 0.6639668345451355, 0.9993058443069458, 0.9989858865737915, 0.9998130798339844, 0.9994221329689026, 0.025173842906951904, 0.9739879369735718, 0.9991867542266846, 0.9992859959602356, 0.9995308518409729, 0.7973375916481018, 0.07780351489782333, 0.12442623823881149, 0.9994837641716003, 0.9983307719230652, 0.9989211559295654, 0.9981743097305298, 0.999614953994751, 0.9982772469520569, 0.9952313899993896, 0.0038155836518853903, 0.9997513890266418, 0.9981125593185425, 0.9993992447853088, 0.9982117414474487, 0.4736557602882385, 0.5254265666007996, 0.0003765149158425629, 0.0005647724028676748, 0.8012245297431946, 0.19836483895778656, 0.1840280443429947, 0.815612256526947, 0.5848067402839661, 0.41472870111465454, 0.00032707309583202004, 0.9997383952140808, 0.9998375773429871, 0.2736246585845947, 0.0076431469060480595, 0.7184558510780334, 0.9993131756782532, 0.9998519420623779, 0.9996169805526733, 0.999774158000946, 0.998907208442688, 0.999421238899231, 0.9983982443809509, 0.9996841549873352, 0.9987890124320984, 0.999620795249939, 0.9985836744308472, 0.07195612788200378, 0.33160915970802307, 0.5963534116744995, 0.9992749094963074, 0.999786376953125, 0.9989414811134338, 0.6867053508758545, 0.31291359663009644, 0.9992278218269348, 0.99912428855896, 0.9990713000297546, 0.9993588328361511, 0.9989935159683228, 0.999515950679779, 0.999414324760437, 0.9989389777183533, 0.9990615248680115, 0.021372180432081223, 0.9768343567848206, 0.017982203513383865, 0.9819229245185852, 0.9995399713516235, 0.4044664204120636, 0.5951654314994812, 0.9992314577102661, 0.9985630512237549, 0.9991059899330139, 0.9995973706245422, 0.9990236163139343, 0.9993868470191956, 0.9999720454216003, 0.9997645020484924, 0.99920654296875, 0.9956604242324829, 0.0036830841563642025, 0.9998213648796082, 0.999252438545227, 0.9995721578598022, 0.9995149970054626, 0.9996926188468933, 0.9992910027503967, 0.9996545910835266, 0.9994516372680664, 0.998954176902771, 0.9989981055259705, 0.9994205236434937, 0.9991559982299805, 0.9997568726539612, 0.999732255935669, 0.9998193979263306, 0.2842380404472351, 0.7148619294166565, 0.00032821943750604987, 0.00032821943750604987, 0.2570958137512207, 0.7427212595939636, 0.9992362260818481, 0.9995160698890686, 0.9993987083435059, 0.9995049834251404, 0.9997071027755737, 0.9990904331207275, 0.2267574816942215, 0.7726904153823853, 0.09244530647993088, 0.9069055914878845, 0.00042798754293471575, 0.9991883039474487, 0.13990889489650726, 0.1332876831293106, 0.72689288854599, 0.7940446734428406, 0.2022140622138977, 0.003571572946384549, 0.9993407726287842, 0.9989395141601562, 0.9975977540016174, 0.001066949451342225, 0.9995718002319336, 0.9986556768417358, 0.9988581538200378, 0.9998332858085632, 0.9993235468864441, 0.9997549057006836, 0.9995051026344299, 0.998553454875946, 0.9994840621948242, 0.9995558261871338, 0.9996657967567444, 0.9993054866790771, 0.9996180534362793, 0.1367233544588089, 0.8630921244621277, 8.301357593154535e-05, 0.999363362789154, 0.9996165037155151, 0.9996746182441711, 0.9996609091758728, 0.4868411719799042, 0.07744675874710083, 0.02250688150525093, 0.000115419905341696, 0.16966725885868073, 0.06659729033708572, 0.17682330310344696, 0.9999745488166809, 0.9994409680366516, 0.330537885427475, 0.668666422367096, 0.9996747970581055, 0.9994495511054993, 0.5184414386749268, 0.3711116909980774, 0.11035510152578354, 0.9997749328613281, 0.9987949132919312, 0.5920368432998657, 0.40315482020378113, 0.004541426431387663, 0.9990094304084778, 0.001104144612327218, 0.9981467127799988, 0.9984337091445923, 0.999535322189331, 0.9987476468086243, 0.9994794130325317, 0.9995099306106567, 0.9983884692192078, 0.9990299940109253, 0.32742273807525635, 0.6725049018859863, 0.9994027018547058, 0.08330023288726807, 0.0017587380716577172, 0.9147037267684937, 0.9993667602539062, 0.9983893036842346, 0.8645868897438049, 0.1354122906923294, 0.4429997205734253, 0.5568865537643433, 0.36604055762290955, 0.6338525414466858, 0.999213457107544, 0.9991652369499207, 0.9993559122085571, 0.9988726377487183, 0.9993240237236023, 0.9993998408317566, 0.9988430738449097, 0.9995998740196228, 0.9992828965187073, 0.9997485876083374, 0.9991332292556763, 0.24341310560703278, 0.756179690361023, 0.9993230104446411, 0.9988371133804321, 0.9993197917938232, 0.29397034645080566, 0.6937264800071716, 0.012237433344125748, 0.9995935559272766, 0.9994303584098816, 0.9986335039138794, 0.9992875456809998, 0.9993074536323547, 0.0005583763122558594, 0.9990816116333008, 0.9995869994163513, 0.9992116689682007, 0.9994150400161743, 0.9994208812713623, 0.9997031092643738, 0.9989451766014099, 0.4556545615196228, 0.5434711575508118, 0.000782911607529968, 0.6114288568496704, 0.3885834813117981, 0.998829185962677, 0.9991433024406433, 0.999047577381134, 0.9997264742851257, 0.9989877343177795, 0.9994291067123413, 0.997999906539917, 0.9992998838424683, 0.777662456035614, 0.22228331863880157, 0.9693665504455566, 0.029912950471043587, 0.00046738985111005604, 0.9996219277381897, 0.9997001886367798, 0.9993826150894165, 0.9994570016860962, 0.9992937445640564, 0.9991692900657654, 0.9989115595817566, 0.9993762373924255, 0.999389111995697, 0.9996243715286255, 0.999366044998169, 0.7273662686347961, 0.08464890718460083, 0.18772943317890167, 0.9992610812187195, 0.9984923601150513, 0.9998294711112976, 0.9988654255867004, 0.9994738698005676, 0.9996091723442078, 0.9996324181556702, 0.003257456235587597, 0.996781587600708, 0.9987524747848511, 0.9989979863166809, 0.9995795488357544, 0.9995107650756836, 0.9995248317718506, 0.8920353055000305, 0.10748568922281265, 0.3760821521282196, 0.6238161325454712, 0.9997438192367554, 0.9995684027671814, 0.9983788132667542, 0.9995022416114807, 0.9997524619102478, 0.99921053647995, 0.9992401003837585, 0.9990894794464111, 0.9994420409202576, 0.9991942048072815, 0.9984161257743835, 0.22929143905639648, 0.5426720380783081, 0.2213592380285263, 7.814977288944647e-05, 0.004337312653660774, 0.0022663434501737356, 0.9991331696510315, 0.9994683861732483, 0.9995558857917786, 0.9992250800132751, 0.9973977208137512, 0.0025011366233229637, 0.9996379017829895, 0.9990278482437134, 0.9987669587135315, 0.9989748597145081, 0.1649492383003235, 0.415958970785141, 0.281270831823349, 0.00034983933437615633, 0.13241419196128845, 0.004897750448435545, 0.9993069767951965, 0.38664710521698, 0.6130114197731018, 0.9990434646606445, 0.8126887083053589, 0.18725848197937012, 0.9993748068809509, 0.9983839392662048, 0.3507797420024872, 0.6490784883499146, 0.2947518527507782, 0.7049018144607544, 0.99924635887146, 0.9996178150177002, 0.9995280504226685, 0.9993914365768433, 0.9986647367477417, 0.2217256724834442, 0.7781486511230469, 0.9997260570526123, 0.9987801313400269, 0.4940046966075897, 0.5051059126853943, 0.000653013470582664, 0.9995291829109192, 0.7458943128585815, 0.2539677917957306, 0.9994715452194214, 0.9837201833724976, 0.01620626449584961, 0.99984210729599, 0.999367356300354, 0.9992275834083557, 0.9995774626731873, 0.9997605085372925, 0.9995329976081848, 0.9998651742935181, 0.9999105334281921, 0.9997991919517517, 0.9998531937599182, 0.9994120597839355, 0.999717652797699, 0.9998732805252075, 0.9998317360877991, 0.9998260736465454, 0.9997144937515259, 0.9995655417442322, 0.9997780919075012, 0.9994703531265259, 0.9998297095298767, 0.9995157718658447, 0.9998370409011841, 0.0007385647622868419, 0.468250036239624, 0.5295509099960327, 0.0012309412704780698], \"Term\": [\"'ll\", \"'m\", \"'m\", \"'s\", \"'s\", \"'s\", \"'s\", \"'ve\", \"...\", \"...\", \"...\", \"...\", \"...\", \"...\", \"...\", \"1\", \"1\", \"1\", \"1\", \"12\", \"2\", \"2\", \"2\", \"2\", \"2016\", \"2016\", \"2017\", \"2017\", \"2017\", \"2a\", \"2nd\", \"3\", \"4\", \"6\", \"abortion\", \"accident\", \"account\", \"account\", \"air\", \"alert\", \"amendment\", \"america\", \"america\", \"american\", \"amp\", \"announces\", \"another\", \"answer\", \"ap\", \"apartment\", \"arrest\", \"arrested\", \"asked\", \"attack\", \"attack\", \"away\", \"baby\", \"back\", \"back\", \"beat\", \"benghazi\", \"bill\", \"bill\", \"bill\", \"black\", \"black\", \"black\", \"bombing\", \"border\", \"boy\", \"breaking\", \"brussels\", \"bus\", \"business\", \"ca\", \"ca\", \"called\", \"campaign\", \"cancer\", \"car\", \"care\", \"case\", \"caught\", \"ccot\", \"ccot\", \"ccot\", \"change\", \"charge\", \"charged\", \"chief\", \"christian\", \"christmas\", \"citizen\", \"city\", \"city\", \"city\", \"claim\", \"clinton\", \"clinton\", \"clinton\", \"clinton\", \"clintonscandals\", \"clintonscandals\", \"close\", \"cnn\", \"college\", \"community\", \"company\", \"congress\", \"conservative\", \"continues\", \"control\", \"cop\", \"cosproject\", \"country\", \"county\", \"crash\", \"crime\", \"cruz\", \"day\", \"day\", \"day\", \"day\", \"day\", \"de\", \"dead\", \"death\", \"dem\", \"dems\", \"die\", \"district\", \"dog\", \"donald\", \"drop\", \"drug\", \"dy\", \"earthquake\", \"election\", \"email\", \"email\", \"email\", \"end\", \"enough\", \"ever\", \"explosion\", \"face\", \"face\", \"face\", \"facebook\", \"fake\", \"fatal\", \"father\", \"fbi\", \"fbi\", \"fed\", \"federal\", \"fight\", \"fire\", \"fire\", \"fire\", \"florida\", \"football\", \"force\", \"foreign\", \"found\", \"fraud\", \"free\", \"free\", \"friday\", \"fund\", \"game\", \"gas\", \"get\", \"get\", \"get\", \"get\", \"go\", \"go\", \"good\", \"good\", \"gop\", \"gop\", \"gop\", \"government\", \"govt\", \"group\", \"group\", \"group\", \"guilty\", \"gun\", \"head\", \"health\", \"hear\", \"heart\", \"held\", \"help\", \"hero\", \"high\", \"highway\", \"hillary\", \"hillary\", \"hillary\", \"hillaryclinton\", \"hit\", \"hold\", \"home\", \"home\", \"honor\", \"iceisis\", \"illegal\", \"injured\", \"injury\", \"inside\", \"investigate\", \"investigating\", \"investigation\", \"iran\", \"iran\", \"isi\", \"isi\", \"islamic\", \"islamkills\", \"islamkills\", \"issue\", \"jail\", \"john\", \"join\", \"judge\", \"ka\", \"kansa\", \"kc\", \"key\", \"kid\", \"kid\", \"killed\", \"killing\", \"know\", \"korea\", \"last\", \"latest\", \"law\", \"lawmaker\", \"lawsuit\", \"lawyer\", \"lead\", \"leader\", \"left\", \"liberal\", \"lie\", \"life\", \"life\", \"life\", \"life\", \"like\", \"like\", \"line\", \"local\", \"long\", \"look\", \"looking\", \"lost\", \"lot\", \"lot\", \"love\", \"love\", \"love\", \"lying\", \"maga\", \"maga\", \"maga\", \"man\", \"man\", \"man\", \"manhattan\", \"mass\", \"mean\", \"mean\", \"medium\", \"memorial\", \"military\", \"million\", \"missing\", \"missouri\", \"mom\", \"monday\", \"month\", \"mother\", \"mt\", \"much\", \"murder\", \"n't\", \"n't\", \"n't\", \"name\", \"nation\", \"national\", \"near\", \"new\", \"new\", \"new\", \"new\", \"new\", \"new\", \"new\", \"news\", \"next\", \"night\", \"night\", \"north\", \"nra\", \"obama\", \"obama\", \"obama\", \"officer\", \"ohio\", \"one\", \"one\", \"one\", \"opiceisis\", \"order\", \"order\", \"parent\", \"park\", \"part\", \"party\", \"past\", \"patrol\", \"pay\", \"people\", \"people\", \"person\", \"pjnet\", \"pjnet\", \"pjnet\", \"pleads\", \"point\", \"police\", \"police\", \"politics\", \"politics\", \"post\", \"post\", \"power\", \"press\", \"protect\", \"protest\", \"putin\", \"question\", \"race\", \"raise\", \"rape\", \"read\", \"real\", \"realdonaldtrump\", \"realdonaldtrump\", \"refugee\", \"release\", \"remember\", \"right\", \"right\", \"right\", \"road\", \"robbery\", \"robert\", \"royal\", \"rt\", \"rt\", \"run\", \"russia\", \"russian\", \"safe\", \"said\", \"sander\", \"saturday\", \"say\", \"say\", \"say\", \"school\", \"school\", \"search\", \"security\", \"seek\", \"senate\", \"sentenced\", \"session\", \"severe\", \"sex\", \"shooting\", \"shooting\", \"shot\", \"shot\", \"shot\", \"show\", \"sign\", \"since\", \"source\", \"south\", \"special\", \"speech\", \"sport\", \"stand\", \"star\", \"start\", \"state\", \"state\", \"state\", \"stolen\", \"store\", \"storm\", \"street\", \"student\", \"supporter\", \"supreme\", \"suspect\", \"suspect\", \"syria\", \"syrian\", \"take\", \"target\", \"targeted\", \"tax\", \"tax\", \"tcot\", \"tcot\", \"team\", \"teaparty\", \"ted\", \"teen\", \"terrorist\", \"test\", \"texas\", \"thank\", \"three\", \"town\", \"trash\", \"trump\", \"trump\", \"trump\", \"trump\", \"trump\", \"trump\", \"trust\", \"truth\", \"twitter\", \"two\", \"u\", \"u\", \"u.s.\", \"uk\", \"using\", \"veteran\", \"via\", \"via\", \"via\", \"via\", \"via\", \"via\", \"victim\", \"video\", \"video\", \"violence\", \"vote\", \"vote\", \"voter\", \"wake\", \"want\", \"want\", \"war\", \"war\", \"way\", \"weather\", \"week\", \"weekend\", \"welcome\", \"white\", \"white\", \"wichita\", \"wife\", \"win\", \"win\", \"win\", \"winning\", \"woman\", \"woman\", \"word\", \"would\", \"would\", \"year\", \"yes\", \"young\", \"youtube\", \"\\u00ab\", \"\\u00bb\", \"\\u0430\", \"\\u0432\", \"\\u0437\\u0430\", \"\\u0438\", \"\\u0438\\u0437\", \"\\u043a\\u0430\\u043a\", \"\\u043d\\u0430\", \"\\u043d\\u0435\", \"\\u043e\", \"\\u043f\\u043e\", \"\\u0440\\u043e\\u0441\\u0441\\u0438\\u0438\", \"\\u0441\", \"\\u0443\", \"\\u0447\\u0442\\u043e\", \"\\u044d\\u0442\\u043e\", \"\\u2018\", \"\\ufffd\", \"\\ufffd\", \"\\ufffd\", \"\\ufffd\"]}, \"R\": 30, \"lambda.step\": 0.01, \"plot.opts\": {\"xlab\": \"PC1\", \"ylab\": \"PC2\"}, \"topic.order\": [1, 4, 7, 2, 3, 5, 8, 6, 9, 10]};\n",
       "\n",
       "function LDAvis_load_lib(url, callback){\n",
       "  var s = document.createElement('script');\n",
       "  s.src = url;\n",
       "  s.async = true;\n",
       "  s.onreadystatechange = s.onload = callback;\n",
       "  s.onerror = function(){console.warn(\"failed to load library \" + url);};\n",
       "  document.getElementsByTagName(\"head\")[0].appendChild(s);\n",
       "}\n",
       "\n",
       "if(typeof(LDAvis) !== \"undefined\"){\n",
       "   // already loaded: just create the visualization\n",
       "   !function(LDAvis){\n",
       "       new LDAvis(\"#\" + \"ldavis_el3831153927892002159625987\", ldavis_el3831153927892002159625987_data);\n",
       "   }(LDAvis);\n",
       "}else if(typeof define === \"function\" && define.amd){\n",
       "   // require.js is available: use it to load d3/LDAvis\n",
       "   require.config({paths: {d3: \"https://cdnjs.cloudflare.com/ajax/libs/d3/3.5.5/d3.min\"}});\n",
       "   require([\"d3\"], function(d3){\n",
       "      window.d3 = d3;\n",
       "      LDAvis_load_lib(\"https://cdn.rawgit.com/bmabey/pyLDAvis/files/ldavis.v1.0.0.js\", function(){\n",
       "        new LDAvis(\"#\" + \"ldavis_el3831153927892002159625987\", ldavis_el3831153927892002159625987_data);\n",
       "      });\n",
       "    });\n",
       "}else{\n",
       "    // require.js not available: dynamically load d3 & LDAvis\n",
       "    LDAvis_load_lib(\"https://cdnjs.cloudflare.com/ajax/libs/d3/3.5.5/d3.min.js\", function(){\n",
       "         LDAvis_load_lib(\"https://cdn.rawgit.com/bmabey/pyLDAvis/files/ldavis.v1.0.0.js\", function(){\n",
       "                 new LDAvis(\"#\" + \"ldavis_el3831153927892002159625987\", ldavis_el3831153927892002159625987_data);\n",
       "            })\n",
       "         });\n",
       "}\n",
       "</script>"
      ],
      "text/plain": [
       "PreparedData(topic_coordinates=              x         y  topics  cluster       Freq\n",
       "topic                                                \n",
       "0     -0.294629  0.034950       1        1  17.254362\n",
       "3     -0.257286  0.077717       2        1  16.933910\n",
       "6      0.152432  0.250683       3        1  14.390466\n",
       "1     -0.152392 -0.034920       4        1   9.541903\n",
       "2      0.098880 -0.055354       5        1   8.686483\n",
       "4      0.059844 -0.122204       6        1   7.368148\n",
       "7      0.071942 -0.114706       7        1   7.136994\n",
       "5      0.058839 -0.171556       8        1   6.844178\n",
       "8      0.127661  0.049126       9        1   5.989678\n",
       "9      0.134709  0.086264      10        1   5.853884, topic_info=      Category          Freq        Term         Total  loglift  logprob\n",
       "term                                                                    \n",
       "1660   Default  51155.000000        news  51155.000000  30.0000  30.0000\n",
       "9048   Default  15673.000000       kansa  15673.000000  29.0000  29.0000\n",
       "6762   Default  13825.000000           в  13825.000000  28.0000  28.0000\n",
       "53     Default  24547.000000          's  24547.000000  27.0000  27.0000\n",
       "97     Default  25591.000000       trump  25591.000000  26.0000  26.0000\n",
       "3532   Default   7662.000000           ‘   7662.000000  25.0000  25.0000\n",
       "10     Default  12046.000000         n't  12046.000000  24.0000  24.0000\n",
       "6774   Default   7503.000000           и   7503.000000  23.0000  23.0000\n",
       "24     Default  11328.000000         ...  11328.000000  22.0000  22.0000\n",
       "16749  Default   6254.000000       pjnet   6254.000000  21.0000  21.0000\n",
       "603    Default   9748.000000      police   9748.000000  20.0000  20.0000\n",
       "31     Default   8838.000000     hillary   8838.000000  19.0000  19.0000\n",
       "52     Default   7196.000000           u   7196.000000  18.0000  18.0000\n",
       "6903   Default   6310.000000          на   6310.000000  17.0000  17.0000\n",
       "3007   Default   4226.000000         isi   4226.000000  16.0000  16.0000\n",
       "9      Default   9519.000000         man   9519.000000  15.0000  15.0000\n",
       "1073   Default   8767.000000     clinton   8767.000000  14.0000  14.0000\n",
       "74     Default   7808.000000       woman   7808.000000  13.0000  13.0000\n",
       "601    Default   5209.000000        city   5209.000000  12.0000  12.0000\n",
       "305    Default   9404.000000    politics   9404.000000  11.0000  11.0000\n",
       "6788   Default   4944.000000          не   4944.000000  10.0000  10.0000\n",
       "176    Default   5372.000000          rt   5372.000000   9.0000   9.0000\n",
       "304    Default   4587.000000        vote   4587.000000   8.0000   8.0000\n",
       "101    Default   3162.000000         car   3162.000000   7.0000   7.0000\n",
       "776    Default   3204.000000        dead   3204.000000   6.0000   6.0000\n",
       "1121   Default   7663.000000         say   7663.000000   5.0000   5.0000\n",
       "1585   Default   3110.000000        help   3110.000000   4.0000   4.0000\n",
       "6780   Default   4096.000000           с   4096.000000   3.0000   3.0000\n",
       "3641   Default   3378.000000          mt   3378.000000   2.0000   2.0000\n",
       "0      Default   6908.000000      people   6908.000000   1.0000   1.0000\n",
       "...        ...           ...         ...           ...      ...      ...\n",
       "108    Topic10   1562.376221    business   1563.201416   2.8375  -4.9333\n",
       "3562   Topic10   1548.748413    congress   1549.573608   2.8375  -4.9420\n",
       "8002   Topic10   1465.871094    targeted   1466.696899   2.8375  -4.9970\n",
       "10437  Topic10   1285.121338    district   1285.946533   2.8374  -5.1286\n",
       "3462   Topic10   1113.447144    military   1114.272339   2.8373  -5.2720\n",
       "8330   Topic10    987.865601    brussels    988.690735   2.8372  -5.3917\n",
       "1049   Topic10    902.472839        jail    903.297974   2.8372  -5.4821\n",
       "836    Topic10    878.605835        past    879.430969   2.8371  -5.5089\n",
       "6635   Topic10    827.967651    violence    828.792786   2.8371  -5.5683\n",
       "1150   Topic10    823.733887        drop    824.559021   2.8371  -5.5734\n",
       "1677   Topic10    775.131653       using    775.956787   2.8370  -5.6342\n",
       "3582   Topic10    701.729492        test    702.554626   2.8369  -5.7337\n",
       "11677  Topic10    697.019897        hero    697.845093   2.8369  -5.7404\n",
       "3293   Topic10    687.383118         2nd    688.208252   2.8369  -5.7544\n",
       "7665   Topic10    662.770081  earthquake    663.595276   2.8368  -5.7908\n",
       "3365   Topic10    634.089417   amendment    634.914612   2.8368  -5.8351\n",
       "2004   Topic10    611.788574      lawyer    612.613770   2.8367  -5.8709\n",
       "1732   Topic10    609.381287   announces    610.206421   2.8367  -5.8748\n",
       "8060   Topic10    596.020203     highway    596.845337   2.8367  -5.8970\n",
       "892    Topic10    582.959656    memorial    583.784790   2.8367  -5.9191\n",
       "3418   Topic10    575.086975       trash    575.912170   2.8366  -5.9327\n",
       "2162   Topic10    571.629089         key    572.454224   2.8366  -5.9388\n",
       "6395   Topic10    566.309143      severe    567.134338   2.8366  -5.9481\n",
       "1984   Topic10    561.082947        wake    561.908081   2.8366  -5.9574\n",
       "5265   Topic10    541.916504      robert    542.741638   2.8365  -5.9921\n",
       "10858  Topic10    540.046448      patrol    540.871643   2.8365  -5.9956\n",
       "1475   Topic10    541.462646       asked    542.295288   2.8365  -5.9930\n",
       "4833   Topic10   1524.459961        2017   1653.666260   2.7567  -4.9579\n",
       "25595  Topic10    773.728760  islamkills   1300.478760   2.3188  -5.6360\n",
       "86     Topic10    860.946899        2016   2192.592285   1.9033  -5.5292\n",
       "\n",
       "[429 rows x 6 columns], token_table=       Topic      Freq     Term\n",
       "term                           \n",
       "743        2  0.999385      'll\n",
       "4          1  0.118557       'm\n",
       "4          2  0.880984       'm\n",
       "53         1  0.210573       's\n",
       "53         2  0.632331       's\n",
       "53         4  0.156718       's\n",
       "53         6  0.000367       's\n",
       "208        2  0.999223      've\n",
       "24         1  0.133562      ...\n",
       "24         2  0.836860      ...\n",
       "24         3  0.005120      ...\n",
       "24         4  0.000618      ...\n",
       "24         5  0.000530      ...\n",
       "24         7  0.022687      ...\n",
       "24        10  0.000618      ...\n",
       "593        1  0.108364        1\n",
       "593        2  0.480558        1\n",
       "593        3  0.121210        1\n",
       "593        7  0.289850        1\n",
       "121        3  0.999678       12\n",
       "726        1  0.518299        2\n",
       "726        4  0.000393        2\n",
       "726        6  0.381594        2\n",
       "726        8  0.099529        2\n",
       "86         1  0.607044     2016\n",
       "86        10  0.392686     2016\n",
       "4833       5  0.074985     2017\n",
       "4833       9  0.002419     2017\n",
       "4833      10  0.921589     2017\n",
       "11502      4  0.999506       2a\n",
       "...      ...       ...      ...\n",
       "74         4  0.253968    woman\n",
       "236        7  0.999472     word\n",
       "272        2  0.983720    would\n",
       "272        4  0.016206    would\n",
       "1635       1  0.999842     year\n",
       "1109       9  0.999367      yes\n",
       "3547       6  0.999228    young\n",
       "2117       3  0.999577  youtube\n",
       "4572       9  0.999761        «\n",
       "4573       9  0.999533        »\n",
       "6860       3  0.999865        а\n",
       "6762       3  0.999911        в\n",
       "6848       3  0.999799       за\n",
       "6774       3  0.999853        и\n",
       "6785       3  0.999412       из\n",
       "12228      3  0.999718      как\n",
       "6903       3  0.999873       на\n",
       "6788       3  0.999832       не\n",
       "12270      3  0.999826        о\n",
       "6889       3  0.999714       по\n",
       "6925       3  0.999566   россии\n",
       "6780       3  0.999778        с\n",
       "6859       3  0.999470        у\n",
       "12123      3  0.999830      что\n",
       "6865       3  0.999516      это\n",
       "3532       7  0.999837        ‘\n",
       "67         1  0.000739        �\n",
       "67         2  0.468250        �\n",
       "67         5  0.529551        �\n",
       "67         7  0.001231        �\n",
       "\n",
       "[513 rows x 3 columns], R=30, lambda_step=0.01, plot_opts={'xlab': 'PC1', 'ylab': 'PC2'}, topic_order=[1, 4, 7, 2, 3, 5, 8, 6, 9, 10])"
      ]
     },
     "execution_count": 15,
     "metadata": {},
     "output_type": "execute_result"
    }
   ],
   "source": [
    "gensim.prepare(ldamodel, gen_corpus, dictionary)"
   ]
  },
  {
   "cell_type": "markdown",
   "metadata": {},
   "source": [
    "## Ideas / Todos\n",
    "\n",
    "* run this analysis on the full corpus (one file takes approximately 8-9 minutes to process)\n",
    "* cherry-pick some words to include into the stopword list\n",
    "* adapt the tokenizer to avoid splitting `#` symbols from twitter hashtags"
   ]
  },
  {
   "cell_type": "code",
   "execution_count": null,
   "metadata": {},
   "outputs": [],
   "source": []
  }
 ],
 "metadata": {
  "kernelspec": {
   "display_name": "Python 3",
   "language": "python",
   "name": "python3"
  },
  "language_info": {
   "codemirror_mode": {
    "name": "ipython",
    "version": 3
   },
   "file_extension": ".py",
   "mimetype": "text/x-python",
   "name": "python",
   "nbconvert_exporter": "python",
   "pygments_lexer": "ipython3",
   "version": "3.6.5"
  }
 },
 "nbformat": 4,
 "nbformat_minor": 2
}
