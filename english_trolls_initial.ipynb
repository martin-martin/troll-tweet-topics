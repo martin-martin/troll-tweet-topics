{
 "cells": [
  {
   "cell_type": "markdown",
   "metadata": {},
   "source": [
    "# Topic Modeling on English-language 'Russian Troll Tweets'\n",
    "\n",
    "Does topic modeling using LDA make sense on short-form data such as tweets?\n",
    "[Maybe yes](https://www.researchgate.net/post/What_is_a_good_way_to_perform_topic_modeling_on_short_text). Let's try."
   ]
  },
  {
   "cell_type": "code",
   "execution_count": 21,
   "metadata": {},
   "outputs": [],
   "source": [
    "import re\n",
    "import os\n",
    "import json\n",
    "import string\n",
    "import warnings\n",
    "import pandas as pd\n",
    "from nltk.tokenize.casual import TweetTokenizer\n",
    "from nltk.corpus import stopwords\n",
    "from nltk.stem.wordnet import WordNetLemmatizer\n",
    "from gensim.corpora import Dictionary\n",
    "from gensim.models import LdaModel\n",
    "import pyLDAvis\n",
    "from pyLDAvis import gensim"
   ]
  },
  {
   "cell_type": "code",
   "execution_count": 22,
   "metadata": {},
   "outputs": [],
   "source": [
    "# displaying the vis right in our notebook\n",
    "pyLDAvis.enable_notebook()"
   ]
  },
  {
   "cell_type": "markdown",
   "metadata": {},
   "source": [
    "## Import what we'll work with"
   ]
  },
  {
   "cell_type": "code",
   "execution_count": 23,
   "metadata": {},
   "outputs": [],
   "source": [
    "data_dir = 'data'\n",
    "files = os.listdir(data_dir)"
   ]
  },
  {
   "cell_type": "code",
   "execution_count": 24,
   "metadata": {},
   "outputs": [],
   "source": [
    "# change to loop over all of them\n",
    "df = pd.read_csv(f\"{data_dir}/{files[0]}\")"
   ]
  },
  {
   "cell_type": "markdown",
   "metadata": {},
   "source": [
    "## Inspect the data quickly"
   ]
  },
  {
   "cell_type": "code",
   "execution_count": 25,
   "metadata": {},
   "outputs": [
    {
     "data": {
      "text/html": [
       "<div>\n",
       "<style scoped>\n",
       "    .dataframe tbody tr th:only-of-type {\n",
       "        vertical-align: middle;\n",
       "    }\n",
       "\n",
       "    .dataframe tbody tr th {\n",
       "        vertical-align: top;\n",
       "    }\n",
       "\n",
       "    .dataframe thead th {\n",
       "        text-align: right;\n",
       "    }\n",
       "</style>\n",
       "<table border=\"1\" class=\"dataframe\">\n",
       "  <thead>\n",
       "    <tr style=\"text-align: right;\">\n",
       "      <th></th>\n",
       "      <th>external_author_id</th>\n",
       "      <th>author</th>\n",
       "      <th>content</th>\n",
       "      <th>region</th>\n",
       "      <th>language</th>\n",
       "      <th>publish_date</th>\n",
       "      <th>harvested_date</th>\n",
       "      <th>following</th>\n",
       "      <th>followers</th>\n",
       "      <th>updates</th>\n",
       "      <th>post_type</th>\n",
       "      <th>account_type</th>\n",
       "      <th>new_june_2018</th>\n",
       "      <th>retweet</th>\n",
       "      <th>account_category</th>\n",
       "    </tr>\n",
       "  </thead>\n",
       "  <tbody>\n",
       "    <tr>\n",
       "      <th>0</th>\n",
       "      <td>1.674084e+09</td>\n",
       "      <td>GAB1ALDANA</td>\n",
       "      <td>People are too toxic. I think I have people po...</td>\n",
       "      <td>United States</td>\n",
       "      <td>English</td>\n",
       "      <td>7/30/2016 20:15</td>\n",
       "      <td>7/30/2016 20:15</td>\n",
       "      <td>3395</td>\n",
       "      <td>2014</td>\n",
       "      <td>2150</td>\n",
       "      <td>RETWEET</td>\n",
       "      <td>Hashtager</td>\n",
       "      <td>0</td>\n",
       "      <td>1</td>\n",
       "      <td>HashtagGamer</td>\n",
       "    </tr>\n",
       "    <tr>\n",
       "      <th>1</th>\n",
       "      <td>1.674084e+09</td>\n",
       "      <td>GAB1ALDANA</td>\n",
       "      <td>#NowPlaying Don't Shoot (I'm a Man) by @DEVO -...</td>\n",
       "      <td>United States</td>\n",
       "      <td>English</td>\n",
       "      <td>7/30/2016 20:15</td>\n",
       "      <td>7/30/2016 20:15</td>\n",
       "      <td>3395</td>\n",
       "      <td>2014</td>\n",
       "      <td>2146</td>\n",
       "      <td>RETWEET</td>\n",
       "      <td>Hashtager</td>\n",
       "      <td>0</td>\n",
       "      <td>1</td>\n",
       "      <td>HashtagGamer</td>\n",
       "    </tr>\n",
       "    <tr>\n",
       "      <th>2</th>\n",
       "      <td>1.674084e+09</td>\n",
       "      <td>GAB1ALDANA</td>\n",
       "      <td>the 'I'm the most boring person in the world' ...</td>\n",
       "      <td>United States</td>\n",
       "      <td>English</td>\n",
       "      <td>7/30/2016 20:16</td>\n",
       "      <td>7/30/2016 20:16</td>\n",
       "      <td>3395</td>\n",
       "      <td>2013</td>\n",
       "      <td>2159</td>\n",
       "      <td>RETWEET</td>\n",
       "      <td>Hashtager</td>\n",
       "      <td>0</td>\n",
       "      <td>1</td>\n",
       "      <td>HashtagGamer</td>\n",
       "    </tr>\n",
       "    <tr>\n",
       "      <th>3</th>\n",
       "      <td>1.674084e+09</td>\n",
       "      <td>GAB1ALDANA</td>\n",
       "      <td>#MyAchillesHeel slippery floors https://t.co/R...</td>\n",
       "      <td>United States</td>\n",
       "      <td>Norwegian</td>\n",
       "      <td>7/30/2016 20:16</td>\n",
       "      <td>7/30/2016 20:16</td>\n",
       "      <td>3395</td>\n",
       "      <td>2013</td>\n",
       "      <td>2160</td>\n",
       "      <td>RETWEET</td>\n",
       "      <td>Hashtager</td>\n",
       "      <td>0</td>\n",
       "      <td>1</td>\n",
       "      <td>HashtagGamer</td>\n",
       "    </tr>\n",
       "    <tr>\n",
       "      <th>4</th>\n",
       "      <td>1.674084e+09</td>\n",
       "      <td>GAB1ALDANA</td>\n",
       "      <td>#MyAchillesHeel Boring narcissists.....nothing...</td>\n",
       "      <td>United States</td>\n",
       "      <td>English</td>\n",
       "      <td>7/30/2016 20:16</td>\n",
       "      <td>7/30/2016 20:16</td>\n",
       "      <td>3395</td>\n",
       "      <td>2013</td>\n",
       "      <td>2158</td>\n",
       "      <td>RETWEET</td>\n",
       "      <td>Hashtager</td>\n",
       "      <td>0</td>\n",
       "      <td>1</td>\n",
       "      <td>HashtagGamer</td>\n",
       "    </tr>\n",
       "  </tbody>\n",
       "</table>\n",
       "</div>"
      ],
      "text/plain": [
       "   external_author_id      author  \\\n",
       "0        1.674084e+09  GAB1ALDANA   \n",
       "1        1.674084e+09  GAB1ALDANA   \n",
       "2        1.674084e+09  GAB1ALDANA   \n",
       "3        1.674084e+09  GAB1ALDANA   \n",
       "4        1.674084e+09  GAB1ALDANA   \n",
       "\n",
       "                                             content         region  \\\n",
       "0  People are too toxic. I think I have people po...  United States   \n",
       "1  #NowPlaying Don't Shoot (I'm a Man) by @DEVO -...  United States   \n",
       "2  the 'I'm the most boring person in the world' ...  United States   \n",
       "3  #MyAchillesHeel slippery floors https://t.co/R...  United States   \n",
       "4  #MyAchillesHeel Boring narcissists.....nothing...  United States   \n",
       "\n",
       "    language     publish_date   harvested_date  following  followers  updates  \\\n",
       "0    English  7/30/2016 20:15  7/30/2016 20:15       3395       2014     2150   \n",
       "1    English  7/30/2016 20:15  7/30/2016 20:15       3395       2014     2146   \n",
       "2    English  7/30/2016 20:16  7/30/2016 20:16       3395       2013     2159   \n",
       "3  Norwegian  7/30/2016 20:16  7/30/2016 20:16       3395       2013     2160   \n",
       "4    English  7/30/2016 20:16  7/30/2016 20:16       3395       2013     2158   \n",
       "\n",
       "  post_type account_type  new_june_2018  retweet account_category  \n",
       "0   RETWEET    Hashtager              0        1     HashtagGamer  \n",
       "1   RETWEET    Hashtager              0        1     HashtagGamer  \n",
       "2   RETWEET    Hashtager              0        1     HashtagGamer  \n",
       "3   RETWEET    Hashtager              0        1     HashtagGamer  \n",
       "4   RETWEET    Hashtager              0        1     HashtagGamer  "
      ]
     },
     "execution_count": 25,
     "metadata": {},
     "output_type": "execute_result"
    }
   ],
   "source": [
    "df.head()"
   ]
  },
  {
   "cell_type": "code",
   "execution_count": 26,
   "metadata": {},
   "outputs": [
    {
     "data": {
      "text/plain": [
       "388452"
      ]
     },
     "execution_count": 26,
     "metadata": {},
     "output_type": "execute_result"
    }
   ],
   "source": [
    "len(df)"
   ]
  },
  {
   "cell_type": "markdown",
   "metadata": {},
   "source": [
    "## Filter for English language tweets\n",
    "\n",
    "We want to look at \"Russians covertly posing as English-speakers\", therefore we'll only look at tweets that have `English` as a `language`.\n",
    "\n",
    "Another option would be to search for `region` and select only those coming from `United States`, but IMO the previous filter would be more interesting."
   ]
  },
  {
   "cell_type": "code",
   "execution_count": 27,
   "metadata": {},
   "outputs": [],
   "source": [
    "en_df = df[df.language == 'English']"
   ]
  },
  {
   "cell_type": "code",
   "execution_count": 28,
   "metadata": {},
   "outputs": [
    {
     "data": {
      "text/html": [
       "<div>\n",
       "<style scoped>\n",
       "    .dataframe tbody tr th:only-of-type {\n",
       "        vertical-align: middle;\n",
       "    }\n",
       "\n",
       "    .dataframe tbody tr th {\n",
       "        vertical-align: top;\n",
       "    }\n",
       "\n",
       "    .dataframe thead th {\n",
       "        text-align: right;\n",
       "    }\n",
       "</style>\n",
       "<table border=\"1\" class=\"dataframe\">\n",
       "  <thead>\n",
       "    <tr style=\"text-align: right;\">\n",
       "      <th></th>\n",
       "      <th>external_author_id</th>\n",
       "      <th>author</th>\n",
       "      <th>content</th>\n",
       "      <th>region</th>\n",
       "      <th>language</th>\n",
       "      <th>publish_date</th>\n",
       "      <th>harvested_date</th>\n",
       "      <th>following</th>\n",
       "      <th>followers</th>\n",
       "      <th>updates</th>\n",
       "      <th>post_type</th>\n",
       "      <th>account_type</th>\n",
       "      <th>new_june_2018</th>\n",
       "      <th>retweet</th>\n",
       "      <th>account_category</th>\n",
       "    </tr>\n",
       "  </thead>\n",
       "  <tbody>\n",
       "    <tr>\n",
       "      <th>0</th>\n",
       "      <td>1.674084e+09</td>\n",
       "      <td>GAB1ALDANA</td>\n",
       "      <td>People are too toxic. I think I have people po...</td>\n",
       "      <td>United States</td>\n",
       "      <td>English</td>\n",
       "      <td>7/30/2016 20:15</td>\n",
       "      <td>7/30/2016 20:15</td>\n",
       "      <td>3395</td>\n",
       "      <td>2014</td>\n",
       "      <td>2150</td>\n",
       "      <td>RETWEET</td>\n",
       "      <td>Hashtager</td>\n",
       "      <td>0</td>\n",
       "      <td>1</td>\n",
       "      <td>HashtagGamer</td>\n",
       "    </tr>\n",
       "    <tr>\n",
       "      <th>1</th>\n",
       "      <td>1.674084e+09</td>\n",
       "      <td>GAB1ALDANA</td>\n",
       "      <td>#NowPlaying Don't Shoot (I'm a Man) by @DEVO -...</td>\n",
       "      <td>United States</td>\n",
       "      <td>English</td>\n",
       "      <td>7/30/2016 20:15</td>\n",
       "      <td>7/30/2016 20:15</td>\n",
       "      <td>3395</td>\n",
       "      <td>2014</td>\n",
       "      <td>2146</td>\n",
       "      <td>RETWEET</td>\n",
       "      <td>Hashtager</td>\n",
       "      <td>0</td>\n",
       "      <td>1</td>\n",
       "      <td>HashtagGamer</td>\n",
       "    </tr>\n",
       "    <tr>\n",
       "      <th>2</th>\n",
       "      <td>1.674084e+09</td>\n",
       "      <td>GAB1ALDANA</td>\n",
       "      <td>the 'I'm the most boring person in the world' ...</td>\n",
       "      <td>United States</td>\n",
       "      <td>English</td>\n",
       "      <td>7/30/2016 20:16</td>\n",
       "      <td>7/30/2016 20:16</td>\n",
       "      <td>3395</td>\n",
       "      <td>2013</td>\n",
       "      <td>2159</td>\n",
       "      <td>RETWEET</td>\n",
       "      <td>Hashtager</td>\n",
       "      <td>0</td>\n",
       "      <td>1</td>\n",
       "      <td>HashtagGamer</td>\n",
       "    </tr>\n",
       "    <tr>\n",
       "      <th>4</th>\n",
       "      <td>1.674084e+09</td>\n",
       "      <td>GAB1ALDANA</td>\n",
       "      <td>#MyAchillesHeel Boring narcissists.....nothing...</td>\n",
       "      <td>United States</td>\n",
       "      <td>English</td>\n",
       "      <td>7/30/2016 20:16</td>\n",
       "      <td>7/30/2016 20:16</td>\n",
       "      <td>3395</td>\n",
       "      <td>2013</td>\n",
       "      <td>2158</td>\n",
       "      <td>RETWEET</td>\n",
       "      <td>Hashtager</td>\n",
       "      <td>0</td>\n",
       "      <td>1</td>\n",
       "      <td>HashtagGamer</td>\n",
       "    </tr>\n",
       "    <tr>\n",
       "      <th>5</th>\n",
       "      <td>1.674084e+09</td>\n",
       "      <td>GAB1ALDANA</td>\n",
       "      <td>Your opinion on Hillary really matters to a no...</td>\n",
       "      <td>United States</td>\n",
       "      <td>English</td>\n",
       "      <td>7/30/2016 20:16</td>\n",
       "      <td>7/30/2016 20:16</td>\n",
       "      <td>3395</td>\n",
       "      <td>2014</td>\n",
       "      <td>2154</td>\n",
       "      <td>RETWEET</td>\n",
       "      <td>Hashtager</td>\n",
       "      <td>0</td>\n",
       "      <td>1</td>\n",
       "      <td>HashtagGamer</td>\n",
       "    </tr>\n",
       "  </tbody>\n",
       "</table>\n",
       "</div>"
      ],
      "text/plain": [
       "   external_author_id      author  \\\n",
       "0        1.674084e+09  GAB1ALDANA   \n",
       "1        1.674084e+09  GAB1ALDANA   \n",
       "2        1.674084e+09  GAB1ALDANA   \n",
       "4        1.674084e+09  GAB1ALDANA   \n",
       "5        1.674084e+09  GAB1ALDANA   \n",
       "\n",
       "                                             content         region language  \\\n",
       "0  People are too toxic. I think I have people po...  United States  English   \n",
       "1  #NowPlaying Don't Shoot (I'm a Man) by @DEVO -...  United States  English   \n",
       "2  the 'I'm the most boring person in the world' ...  United States  English   \n",
       "4  #MyAchillesHeel Boring narcissists.....nothing...  United States  English   \n",
       "5  Your opinion on Hillary really matters to a no...  United States  English   \n",
       "\n",
       "      publish_date   harvested_date  following  followers  updates post_type  \\\n",
       "0  7/30/2016 20:15  7/30/2016 20:15       3395       2014     2150   RETWEET   \n",
       "1  7/30/2016 20:15  7/30/2016 20:15       3395       2014     2146   RETWEET   \n",
       "2  7/30/2016 20:16  7/30/2016 20:16       3395       2013     2159   RETWEET   \n",
       "4  7/30/2016 20:16  7/30/2016 20:16       3395       2013     2158   RETWEET   \n",
       "5  7/30/2016 20:16  7/30/2016 20:16       3395       2014     2154   RETWEET   \n",
       "\n",
       "  account_type  new_june_2018  retweet account_category  \n",
       "0    Hashtager              0        1     HashtagGamer  \n",
       "1    Hashtager              0        1     HashtagGamer  \n",
       "2    Hashtager              0        1     HashtagGamer  \n",
       "4    Hashtager              0        1     HashtagGamer  \n",
       "5    Hashtager              0        1     HashtagGamer  "
      ]
     },
     "execution_count": 28,
     "metadata": {},
     "output_type": "execute_result"
    }
   ],
   "source": [
    "en_df.head()"
   ]
  },
  {
   "cell_type": "code",
   "execution_count": 29,
   "metadata": {},
   "outputs": [
    {
     "data": {
      "text/plain": [
       "300510"
      ]
     },
     "execution_count": 29,
     "metadata": {},
     "output_type": "execute_result"
    }
   ],
   "source": [
    "len(en_df)"
   ]
  },
  {
   "cell_type": "markdown",
   "metadata": {},
   "source": [
    "## Inspect the non-English tweets\n",
    "\n",
    "For good measure, we'll also take a look at what we are discarding."
   ]
  },
  {
   "cell_type": "code",
   "execution_count": 30,
   "metadata": {},
   "outputs": [],
   "source": [
    "other_df = df[df.language != 'English']"
   ]
  },
  {
   "cell_type": "code",
   "execution_count": 31,
   "metadata": {},
   "outputs": [
    {
     "data": {
      "text/plain": [
       "87942"
      ]
     },
     "execution_count": 31,
     "metadata": {},
     "output_type": "execute_result"
    }
   ],
   "source": [
    "len(other_df)"
   ]
  },
  {
   "cell_type": "code",
   "execution_count": 32,
   "metadata": {},
   "outputs": [
    {
     "data": {
      "text/plain": [
       "external_author_id    87942\n",
       "author                87942\n",
       "content               87942\n",
       "region                87335\n",
       "language              87942\n",
       "publish_date          87942\n",
       "harvested_date        87942\n",
       "following             87942\n",
       "followers             87942\n",
       "updates               87942\n",
       "post_type             46797\n",
       "account_type          87933\n",
       "new_june_2018         87942\n",
       "retweet               87942\n",
       "account_category      87942\n",
       "dtype: int64"
      ]
     },
     "execution_count": 32,
     "metadata": {},
     "output_type": "execute_result"
    }
   ],
   "source": [
    "other_df.count()"
   ]
  },
  {
   "cell_type": "markdown",
   "metadata": {},
   "source": [
    "## Text preprocessing and data cleaning\n",
    "\n",
    "Lesson learned from yesterday, let's only pull out what we really don't want to happen inside the function!"
   ]
  },
  {
   "cell_type": "code",
   "execution_count": 33,
   "metadata": {},
   "outputs": [],
   "source": [
    "# instantiating our multi-use tokenizer\n",
    "tknzr = TweetTokenizer()\n",
    "\n",
    "# creating the punctuation list we want to exclude\n",
    "punct = string.punctuation\n",
    "# adding additional common punctuation chars of the texts\n",
    "add_punct = \"\"\n",
    "punct += add_punct\n",
    "    \n",
    "# our extended stopwords list\n",
    "stpw = stopwords.words('english')\n",
    "add_stopwords = ['http', 'https']\n",
    "stpw.extend(add_stopwords)"
   ]
  },
  {
   "cell_type": "markdown",
   "metadata": {},
   "source": [
    "Finally it's time to introduce RegExp to boost our matching :)"
   ]
  },
  {
   "cell_type": "code",
   "execution_count": 34,
   "metadata": {},
   "outputs": [],
   "source": [
    "# matches two or more alpha characters\n",
    "# thus it should exclude things such as 's or numbers, or any single-letters floating around\n",
    "# however, there will still be a match if we run it on e.g. #usa\n",
    "# play here: https://regexr.com/\n",
    "regexp = re.compile(r'[a-z]{2,}')"
   ]
  },
  {
   "cell_type": "code",
   "execution_count": 42,
   "metadata": {},
   "outputs": [],
   "source": [
    "def preprocess(tweet, tokenizer, regexp, punct, stpw):\n",
    "    # remove capitalization\n",
    "    tweet = tweet.lower()\n",
    "    # tokenize\n",
    "    tokens = tokenizer.tokenize(tweet)\n",
    "    # remove punctuation ('t' stands for 'token' - we're looping over all tokens)\n",
    "    no_punct = (t for t in tokens if not t in punct)\n",
    "    # remove stopwords\n",
    "    no_stpw = (t for t in no_punct if not t in stpw)\n",
    "    # remove other strange character-letter-punctuation combinations\n",
    "    # NOTE: this will filter out things such as emojis and text-based emoticons\n",
    "    # TODO: adapt the RegExp above to keep matching those!\n",
    "    no_weirds = (t for t in no_stpw if re.search(regexp, t))\n",
    "    # lemmatize remaining tokens\n",
    "    lem = WordNetLemmatizer()\n",
    "    lem_tokens = [lem.lemmatize(t) for t in no_weirds]\n",
    "    return lem_tokens"
   ]
  },
  {
   "cell_type": "code",
   "execution_count": 43,
   "metadata": {},
   "outputs": [],
   "source": [
    "tweet_corpus = [preprocess(tweet, tknzr, regexp, punct, stpw) \n",
    "                for tweet in iter(df.content) \n",
    "                if type(tweet) == str]"
   ]
  },
  {
   "cell_type": "code",
   "execution_count": 44,
   "metadata": {},
   "outputs": [
    {
     "data": {
      "text/plain": [
       "[[\"i'm\",\n",
       "  'boring',\n",
       "  'person',\n",
       "  'world',\n",
       "  'starterpack',\n",
       "  '#pokemongo',\n",
       "  'https://t.co/u8woa1s3j7']]"
      ]
     },
     "execution_count": 44,
     "metadata": {},
     "output_type": "execute_result"
    }
   ],
   "source": [
    "tweet_corpus[2:3]"
   ]
  },
  {
   "cell_type": "markdown",
   "metadata": {},
   "source": [
    "## Topic modeling with `gensim`"
   ]
  },
  {
   "cell_type": "code",
   "execution_count": 45,
   "metadata": {},
   "outputs": [],
   "source": [
    "dictionary = Dictionary(tweet_corpus)\n",
    "gen_corpus = [dictionary.doc2bow(tweet) for tweet in tweet_corpus]"
   ]
  },
  {
   "cell_type": "code",
   "execution_count": 46,
   "metadata": {},
   "outputs": [],
   "source": [
    "warnings.filterwarnings(\"ignore\")\n",
    "ldamodel = LdaModel(corpus=gen_corpus, num_topics=10, id2word=dictionary)"
   ]
  },
  {
   "cell_type": "code",
   "execution_count": 47,
   "metadata": {},
   "outputs": [
    {
     "data": {
      "text/plain": [
       "[(0,\n",
       "  '0.026*\"в\" + 0.014*\"и\" + 0.012*\"на\" + 0.009*\"не\" + 0.008*\"с\" + 0.007*\"#isis\" + 0.005*\"что\" + 0.005*\"read\" + 0.005*\"vehicle\" + 0.004*\"а\"'),\n",
       " (1,\n",
       "  '0.014*\"case\" + 0.010*\"judge\" + 0.009*\"missing\" + 0.009*\"—\" + 0.008*\"refugee\" + 0.007*\"»\" + 0.007*\"«\" + 0.007*\"6\" + 0.006*\"12\" + 0.005*\"manhattan\"'),\n",
       " (2,\n",
       "  '0.036*\"kansa\" + 0.031*\"#news\" + 0.009*\"wichita\" + 0.009*\"“\" + 0.009*\"”\" + 0.008*\"man\" + 0.008*\"2\" + 0.008*\"know\" + 0.007*\"officer\" + 0.007*\"4\"'),\n",
       " (3,\n",
       "  '0.020*\"#pjnet\" + 0.017*\"mt\" + 0.009*\"change\" + 0.008*\"girl\" + 0.008*\"live\" + 0.007*\"leader\" + 0.007*\"join\" + 0.006*\"...\" + 0.005*\"accused\" + 0.005*\"speech\"'),\n",
       " (4,\n",
       "  '0.050*\"#news\" + 0.013*\"#tcot\" + 0.012*\"police\" + 0.011*\"school\" + 0.010*\"rt\" + 0.010*\"…\" + 0.007*\"county\" + 0.007*\"court\" + 0.006*\"#pjnet\" + 0.006*\"city\"'),\n",
       " (5,\n",
       "  '0.085*\"�\" + 0.009*\"️\" + 0.007*\"storm\" + 0.007*\"cruz\" + 0.007*\"weekend\" + 0.004*\"die\" + 0.004*\"investigate\" + 0.004*\"truck\" + 0.004*\"de\" + 0.004*\"r\"'),\n",
       " (6,\n",
       "  '0.013*\"state\" + 0.011*\"found\" + 0.009*\"week\" + 0.007*\"party\" + 0.006*\"official\" + 0.006*\"account\" + 0.005*\"terror\" + 0.005*\"fake\" + 0.005*\"targeted\" + 0.005*\"supporter\"'),\n",
       " (7,\n",
       "  '0.016*\"gun\" + 0.010*\"student\" + 0.008*\"kc\" + 0.008*\"lawmaker\" + 0.007*\"sander\" + 0.007*\"via\" + 0.006*\"2017\" + 0.006*\"seek\" + 0.006*\"story\" + 0.005*\"men\"'),\n",
       " (8,\n",
       "  '0.050*\"’\" + 0.033*\"#news\" + 0.019*\"trump\" + 0.019*\"‘\" + 0.014*\"obama\" + 0.010*\"#politics\" + 0.009*\"house\" + 0.007*\"dead\" + 0.007*\"law\" + 0.007*\"medium\"'),\n",
       " (9,\n",
       "  '0.017*\"trump\" + 0.011*\"#news\" + 0.010*\"hillary\" + 0.010*\"u\" + 0.010*\"’\" + 0.009*\"...\" + 0.009*\"man\" + 0.009*\"people\" + 0.008*\"say\" + 0.007*\"clinton\"')]"
      ]
     },
     "execution_count": 47,
     "metadata": {},
     "output_type": "execute_result"
    }
   ],
   "source": [
    "ldamodel.show_topics()"
   ]
  },
  {
   "cell_type": "markdown",
   "metadata": {},
   "source": [
    "## Visualize the resulting topics\n",
    "\n",
    "Here we are using `pyLDAvis` - the `import` needs to be explicit to work, so it might appear that this is part of the `gensim` package, but instead this is from `pyLDAvis`."
   ]
  },
  {
   "cell_type": "code",
   "execution_count": 48,
   "metadata": {},
   "outputs": [
    {
     "data": {
      "text/html": [
       "\n",
       "<link rel=\"stylesheet\" type=\"text/css\" href=\"https://cdn.rawgit.com/bmabey/pyLDAvis/files/ldavis.v1.0.0.css\">\n",
       "\n",
       "\n",
       "<div id=\"ldavis_el6100360114518163152523608\"></div>\n",
       "<script type=\"text/javascript\">\n",
       "\n",
       "var ldavis_el6100360114518163152523608_data = {\"mdsDat\": {\"x\": [-0.2700082861951603, 0.17583923889268913, -0.1794890034288974, -0.15822841688669365, -0.13886107266974362, 0.1440316213095655, 0.07306986091719124, 0.1533892397508986, 0.11255953045736426, 0.0876972878527871], \"y\": [-0.14779574182461666, -0.2450927477053609, -0.01240387174772262, 0.03406594077766803, 0.10085497643105144, 0.03573674683461042, 0.17653588058167693, -0.06945708390537716, 0.07161492777087922, 0.05594097278719093], \"topics\": [1, 2, 3, 4, 5, 6, 7, 8, 9, 10], \"cluster\": [1, 1, 1, 1, 1, 1, 1, 1, 1, 1], \"Freq\": [21.11594009399414, 14.711922645568848, 10.693599700927734, 9.826622009277344, 9.684828758239746, 7.8377509117126465, 6.767752170562744, 6.59313440322876, 6.479887008666992, 6.288565635681152]}, \"tinfo\": {\"Category\": [\"Default\", \"Default\", \"Default\", \"Default\", \"Default\", \"Default\", \"Default\", \"Default\", \"Default\", \"Default\", \"Default\", \"Default\", \"Default\", \"Default\", \"Default\", \"Default\", \"Default\", \"Default\", \"Default\", \"Default\", \"Default\", \"Default\", \"Default\", \"Default\", \"Default\", \"Default\", \"Default\", \"Default\", \"Default\", \"Default\", \"Topic1\", \"Topic1\", \"Topic1\", \"Topic1\", \"Topic1\", \"Topic1\", \"Topic1\", \"Topic1\", \"Topic1\", \"Topic1\", \"Topic1\", \"Topic1\", \"Topic1\", \"Topic1\", \"Topic1\", \"Topic1\", \"Topic1\", \"Topic1\", \"Topic1\", \"Topic1\", \"Topic1\", \"Topic1\", \"Topic1\", \"Topic1\", \"Topic1\", \"Topic1\", \"Topic1\", \"Topic1\", \"Topic1\", \"Topic1\", \"Topic1\", \"Topic1\", \"Topic1\", \"Topic1\", \"Topic1\", \"Topic1\", \"Topic1\", \"Topic1\", \"Topic1\", \"Topic1\", \"Topic1\", \"Topic1\", \"Topic1\", \"Topic1\", \"Topic1\", \"Topic1\", \"Topic1\", \"Topic1\", \"Topic1\", \"Topic1\", \"Topic1\", \"Topic1\", \"Topic1\", \"Topic1\", \"Topic1\", \"Topic1\", \"Topic1\", \"Topic1\", \"Topic1\", \"Topic1\", \"Topic1\", \"Topic2\", \"Topic2\", \"Topic2\", \"Topic2\", \"Topic2\", \"Topic2\", \"Topic2\", \"Topic2\", \"Topic2\", \"Topic2\", \"Topic2\", \"Topic2\", \"Topic2\", \"Topic2\", \"Topic2\", \"Topic2\", \"Topic2\", \"Topic2\", \"Topic2\", \"Topic2\", \"Topic2\", \"Topic2\", \"Topic2\", \"Topic2\", \"Topic2\", \"Topic2\", \"Topic2\", \"Topic2\", \"Topic2\", \"Topic2\", \"Topic2\", \"Topic2\", \"Topic3\", \"Topic3\", \"Topic3\", \"Topic3\", \"Topic3\", \"Topic3\", \"Topic3\", \"Topic3\", \"Topic3\", \"Topic3\", \"Topic3\", \"Topic3\", \"Topic3\", \"Topic3\", \"Topic3\", \"Topic3\", \"Topic3\", \"Topic3\", \"Topic3\", \"Topic3\", \"Topic3\", \"Topic3\", \"Topic3\", \"Topic3\", \"Topic3\", \"Topic3\", \"Topic3\", \"Topic3\", \"Topic3\", \"Topic3\", \"Topic3\", \"Topic3\", \"Topic3\", \"Topic3\", \"Topic3\", \"Topic3\", \"Topic3\", \"Topic3\", \"Topic3\", \"Topic3\", \"Topic3\", \"Topic3\", \"Topic3\", \"Topic3\", \"Topic3\", \"Topic3\", \"Topic4\", \"Topic4\", \"Topic4\", \"Topic4\", \"Topic4\", \"Topic4\", \"Topic4\", \"Topic4\", \"Topic4\", \"Topic4\", \"Topic4\", \"Topic4\", \"Topic4\", \"Topic4\", \"Topic4\", \"Topic4\", \"Topic4\", \"Topic4\", \"Topic4\", \"Topic4\", \"Topic4\", \"Topic4\", \"Topic4\", \"Topic4\", \"Topic4\", \"Topic4\", \"Topic4\", \"Topic4\", \"Topic4\", \"Topic4\", \"Topic4\", \"Topic4\", \"Topic4\", \"Topic4\", \"Topic4\", \"Topic4\", \"Topic4\", \"Topic4\", \"Topic4\", \"Topic4\", \"Topic4\", \"Topic4\", \"Topic4\", \"Topic4\", \"Topic4\", \"Topic4\", \"Topic4\", \"Topic4\", \"Topic4\", \"Topic5\", \"Topic5\", \"Topic5\", \"Topic5\", \"Topic5\", \"Topic5\", \"Topic5\", \"Topic5\", \"Topic5\", \"Topic5\", \"Topic5\", \"Topic5\", \"Topic5\", \"Topic5\", \"Topic5\", \"Topic5\", \"Topic5\", \"Topic5\", \"Topic5\", \"Topic5\", \"Topic5\", \"Topic5\", \"Topic5\", \"Topic5\", \"Topic5\", \"Topic5\", \"Topic5\", \"Topic5\", \"Topic5\", \"Topic5\", \"Topic5\", \"Topic5\", \"Topic5\", \"Topic5\", \"Topic5\", \"Topic5\", \"Topic5\", \"Topic5\", \"Topic5\", \"Topic5\", \"Topic5\", \"Topic5\", \"Topic5\", \"Topic5\", \"Topic5\", \"Topic5\", \"Topic5\", \"Topic5\", \"Topic6\", \"Topic6\", \"Topic6\", \"Topic6\", \"Topic6\", \"Topic6\", \"Topic6\", \"Topic6\", \"Topic6\", \"Topic6\", \"Topic6\", \"Topic6\", \"Topic6\", \"Topic6\", \"Topic6\", \"Topic6\", \"Topic6\", \"Topic6\", \"Topic6\", \"Topic6\", \"Topic6\", \"Topic6\", \"Topic6\", \"Topic6\", \"Topic6\", \"Topic6\", \"Topic6\", \"Topic6\", \"Topic6\", \"Topic6\", \"Topic6\", \"Topic6\", \"Topic6\", \"Topic6\", \"Topic6\", \"Topic6\", \"Topic7\", \"Topic7\", \"Topic7\", \"Topic7\", \"Topic7\", \"Topic7\", \"Topic7\", \"Topic7\", \"Topic7\", \"Topic7\", \"Topic7\", \"Topic7\", \"Topic7\", \"Topic7\", \"Topic7\", \"Topic7\", \"Topic7\", \"Topic7\", \"Topic7\", \"Topic7\", \"Topic7\", \"Topic7\", \"Topic7\", \"Topic7\", \"Topic7\", \"Topic7\", \"Topic7\", \"Topic7\", \"Topic7\", \"Topic7\", \"Topic7\", \"Topic7\", \"Topic7\", \"Topic7\", \"Topic8\", \"Topic8\", \"Topic8\", \"Topic8\", \"Topic8\", \"Topic8\", \"Topic8\", \"Topic8\", \"Topic8\", \"Topic8\", \"Topic8\", \"Topic8\", \"Topic8\", \"Topic8\", \"Topic8\", \"Topic8\", \"Topic8\", \"Topic8\", \"Topic8\", \"Topic8\", \"Topic8\", \"Topic8\", \"Topic8\", \"Topic8\", \"Topic8\", \"Topic8\", \"Topic8\", \"Topic8\", \"Topic8\", \"Topic8\", \"Topic8\", \"Topic8\", \"Topic9\", \"Topic9\", \"Topic9\", \"Topic9\", \"Topic9\", \"Topic9\", \"Topic9\", \"Topic9\", \"Topic9\", \"Topic9\", \"Topic9\", \"Topic9\", \"Topic9\", \"Topic9\", \"Topic9\", \"Topic9\", \"Topic9\", \"Topic9\", \"Topic9\", \"Topic9\", \"Topic9\", \"Topic9\", \"Topic9\", \"Topic9\", \"Topic9\", \"Topic9\", \"Topic9\", \"Topic9\", \"Topic9\", \"Topic9\", \"Topic9\", \"Topic10\", \"Topic10\", \"Topic10\", \"Topic10\", \"Topic10\", \"Topic10\", \"Topic10\", \"Topic10\", \"Topic10\", \"Topic10\", \"Topic10\", \"Topic10\", \"Topic10\", \"Topic10\", \"Topic10\", \"Topic10\", \"Topic10\", \"Topic10\", \"Topic10\", \"Topic10\", \"Topic10\", \"Topic10\", \"Topic10\", \"Topic10\", \"Topic10\", \"Topic10\", \"Topic10\", \"Topic10\", \"Topic10\", \"Topic10\", \"Topic10\", \"Topic10\", \"Topic10\", \"Topic10\", \"Topic10\"], \"Freq\": [24955.0, 51243.0, 25871.0, 14325.0, 14190.0, 22246.0, 6923.0, 7732.0, 6998.0, 6450.0, 6904.0, 6630.0, 8043.0, 10508.0, 10328.0, 4027.0, 5117.0, 6830.0, 3816.0, 5067.0, 8501.0, 3391.0, 3854.0, 7748.0, 8527.0, 3707.0, 3531.0, 4268.0, 3505.0, 3492.0, 4904.5986328125, 4124.6123046875, 3599.688720703125, 3435.277587890625, 3346.72314453125, 3089.541015625, 3050.8828125, 2988.80517578125, 2787.29931640625, 2580.46240234375, 2551.044189453125, 2412.7265625, 2618.94287109375, 2388.32763671875, 2086.829345703125, 2048.611572265625, 2046.0062255859375, 1989.6351318359375, 1982.5084228515625, 1946.24462890625, 1927.52880859375, 2083.18701171875, 1902.9537353515625, 2486.235595703125, 1889.6358642578125, 1829.79931640625, 2131.0322265625, 1734.2330322265625, 1737.729248046875, 1755.21875, 6819.47509765625, 7997.54345703125, 4707.31396484375, 4228.85205078125, 3251.058837890625, 3178.8251953125, 2270.571044921875, 2560.94287109375, 2211.2353515625, 3367.19677734375, 3909.148193359375, 3353.851318359375, 4370.21435546875, 7884.345703125, 3777.748779296875, 6103.56201171875, 13743.18359375, 4054.576416015625, 7080.2265625, 7174.96435546875, 4369.25927734375, 5101.16943359375, 3256.720703125, 5675.0771484375, 3177.522216796875, 7537.453125, 8536.3779296875, 3681.567138671875, 3630.05859375, 3390.406494140625, 3365.254638671875, 5066.7978515625, 7731.150390625, 3724.009765625, 2898.0947265625, 2777.968017578125, 6448.7724609375, 2527.299560546875, 2274.193115234375, 2165.878173828125, 2078.303955078125, 1969.725830078125, 1895.2200927734375, 1851.681884765625, 1917.5242919921875, 1768.4090576171875, 1751.120849609375, 1805.8016357421875, 1713.8515625, 1650.02587890625, 1553.9722900390625, 1545.9375, 1473.0517578125, 1419.3421630859375, 1384.12353515625, 1347.0494384765625, 1355.1898193359375, 1330.2650146484375, 1312.3502197265625, 1280.0916748046875, 1209.4803466796875, 14173.4130859375, 4264.21484375, 14324.3271484375, 3492.0419921875, 3505.111572265625, 3410.666748046875, 3111.100341796875, 2710.378662109375, 2296.61328125, 2269.6669921875, 1997.8858642578125, 1741.8924560546875, 1665.67041015625, 1518.478271484375, 1870.7559814453125, 1472.47265625, 1424.867919921875, 1332.2322998046875, 1317.25927734375, 1303.5384521484375, 1209.1229248046875, 1157.269775390625, 1118.509765625, 1065.5113525390625, 989.8796997070312, 968.455322265625, 964.959716796875, 909.9771728515625, 908.71630859375, 904.0866088867188, 898.1386108398438, 839.26123046875, 2660.995361328125, 1257.3131103515625, 1869.9029541015625, 2096.490234375, 2433.174072265625, 3177.1494140625, 12350.46484375, 1450.712890625, 2489.927978515625, 3193.183837890625, 2561.186279296875, 2149.951171875, 1645.17919921875, 1603.980712890625, 1459.834716796875, 1374.364990234375, 6922.34375, 2652.72705078125, 2619.1689453125, 2598.398193359375, 2356.17431640625, 1737.990234375, 1231.9205322265625, 1205.03955078125, 1194.9788818359375, 1178.0318603515625, 1129.554443359375, 1077.3538818359375, 1032.1766357421875, 1026.109375, 1020.8994750976562, 1019.3495483398438, 961.123291015625, 877.6828002929688, 860.6272583007812, 858.2669677734375, 810.0084838867188, 805.5567016601562, 782.140625, 747.608642578125, 744.6943359375, 747.7715454101562, 740.033447265625, 726.9006958007812, 724.9334106445312, 717.9840087890625, 1031.4996337890625, 904.8357543945312, 3124.723876953125, 18160.326171875, 5297.40478515625, 1418.397705078125, 12157.814453125, 7009.9794921875, 3503.005126953125, 1730.23388671875, 1685.6839599609375, 1565.4576416015625, 1295.20654296875, 2397.23583984375, 1491.674560546875, 1361.1129150390625, 1289.7452392578125, 1610.2113037109375, 1425.6551513671875, 3853.18212890625, 3706.15869140625, 3530.92724609375, 1882.248291015625, 1512.9649658203125, 1474.49755859375, 1440.2841796875, 1439.4368896484375, 1348.4971923828125, 2570.602783203125, 1175.0633544921875, 1117.8985595703125, 1090.55029296875, 1077.440673828125, 1072.2608642578125, 1001.225341796875, 986.5289916992188, 978.128173828125, 934.0115356445312, 930.2861938476562, 909.3612060546875, 885.2901000976562, 862.9774169921875, 863.45556640625, 779.2168579101562, 771.6019287109375, 769.6085815429688, 860.4490966796875, 1271.0567626953125, 729.2986450195312, 2478.12744140625, 2051.163818359375, 4512.37841796875, 1475.7734375, 1913.2445068359375, 18192.736328125, 1498.5860595703125, 4316.43798828125, 1366.8616943359375, 1987.6781005859375, 1861.561767578125, 2122.594482421875, 2344.073974609375, 1345.100830078125, 1716.0272216796875, 1214.2462158203125, 1316.3934326171875, 1263.2994384765625, 24954.513671875, 2766.96728515625, 2144.837158203125, 2087.423095703125, 1913.77294921875, 1190.3026123046875, 1189.673583984375, 1086.18701171875, 933.4237060546875, 916.5145263671875, 914.8551025390625, 896.3247680664062, 858.7968139648438, 820.8999633789062, 788.1219482421875, 741.4155883789062, 730.4413452148438, 726.2388305664062, 725.146728515625, 682.5694580078125, 676.965087890625, 660.7637329101562, 650.8447875976562, 634.989501953125, 625.2073974609375, 613.1865844726562, 609.4024658203125, 603.234619140625, 584.6622924804688, 580.046142578125, 1123.407470703125, 837.0458374023438, 695.3659057617188, 1252.893798828125, 898.1283569335938, 656.6582641601562, 2780.47412109375, 1638.8233642578125, 1465.816650390625, 1219.9022216796875, 1194.798095703125, 1175.1072998046875, 1161.3812255859375, 1159.9918212890625, 1151.9215087890625, 1123.024169921875, 1097.1143798828125, 1087.365234375, 1064.243408203125, 1049.3106689453125, 1049.315673828125, 1047.8306884765625, 1002.3263549804688, 985.931396484375, 965.6314697265625, 963.1812744140625, 924.9546508789062, 922.517822265625, 847.8803100585938, 844.8814697265625, 832.558349609375, 780.946533203125, 755.9393920898438, 734.989501953125, 728.5670776367188, 727.5947875976562, 2200.2041015625, 1550.9124755859375, 3239.7109375, 817.4808349609375, 3390.576171875, 2386.482666015625, 2146.96630859375, 2135.865966796875, 2082.311767578125, 1750.0428466796875, 1742.3914794921875, 1480.205078125, 1138.1409912109375, 1113.3734130859375, 1041.6485595703125, 983.8976440429688, 966.4661254882812, 892.0686645507812, 872.6135864257812, 858.9773559570312, 853.9160766601562, 846.7274780273438, 796.6351928710938, 789.435791015625, 781.2691650390625, 774.502685546875, 769.2484130859375, 763.76171875, 760.3818359375, 759.7496948242188, 757.6480712890625, 754.1629638671875, 719.0556030273438, 712.140869140625, 1658.7801513671875, 742.1145629882812, 3815.32470703125, 2450.801513671875, 1929.322998046875, 1887.0128173828125, 1615.597900390625, 1482.97412109375, 1404.925537109375, 1333.3397216796875, 1287.42431640625, 1262.54150390625, 1212.0888671875, 1182.123291015625, 1029.455322265625, 998.7214965820312, 997.3323974609375, 975.3897705078125, 937.7661743164062, 921.7823486328125, 912.133544921875, 897.3868408203125, 881.9864501953125, 828.6546020507812, 825.186279296875, 797.2747192382812, 747.6012573242188, 743.763671875, 735.3538818359375, 727.1920166015625, 717.5347290039062, 713.1959838867188, 1611.3846435546875, 4026.806396484375, 2095.84619140625, 1889.0738525390625, 1796.6942138671875, 1595.82275390625, 1533.396240234375, 1252.4525146484375, 1173.1439208984375, 1151.9224853515625, 1125.917236328125, 1121.6160888671875, 1082.653076171875, 1046.2562255859375, 1035.0054931640625, 1007.2279052734375, 952.0263061523438, 911.2445068359375, 905.31005859375, 863.6024780273438, 861.6484985351562, 846.6785278320312, 813.7406005859375, 766.740966796875, 726.2499389648438, 747.611572265625, 692.3530883789062, 684.4537353515625, 654.132568359375, 640.41455078125, 605.0595092773438, 652.2601928710938, 4653.12841796875, 1123.2310791015625, 1414.97509765625, 921.4721069335938], \"Term\": [\"\\ufffd\", \"#news\", \"\\u2019\", \"kansa\", \"\\u0432\", \"trump\", \"\\u2018\", \"\\u0438\", \"#pjnet\", \"\\u043d\\u0430\", \"obama\", \"state\", \"hillary\", \"police\", \"man\", \"mt\", \"#tcot\", \"people\", \"gun\", \"\\u043d\\u0435\", \"#politics\", \"case\", \"school\", \"say\", \"clinton\", \"rt\", \"\\u2026\", \"\\u0441\", \"wichita\", \"\\u201c\", \"like\", \"killed\", \"vote\", \"need\", \"bill\", \"would\", \"look\", \"life\", \"donald\", \"suspect\", \"see\", \"tax\", \"never\", \"think\", \"give\", \"isi\", \"election\", \"two\", \"poll\", \"victim\", \"game\", \"still\", \"charged\", \"#2a\", \"missouri\", \"boy\", \"love\", \"going\", \"god\", \"even\", \"people\", \"hillary\", \"year\", \"make\", \"black\", \"back\", \"great\", \"good\", \"plan\", \"america\", \"time\", \"right\", \"one\", \"u\", \"american\", \"say\", \"trump\", \"day\", \"man\", \"...\", \"get\", \"woman\", \"president\", \"clinton\", \"want\", \"\\u2019\", \"#news\", \"#politics\", \"police\", \"state\", \"new\", \"\\u043d\\u0435\", \"\\u0438\", \"#isis\", \"\\u0447\\u0442\\u043e\", \"read\", \"\\u043d\\u0430\", \"vehicle\", \"\\u0430\", \"hold\", \"\\u043f\\u043e\", \"\\u0443\", \"saying\", \"terrorism\", \"\\u043e\", \"\\u043a\\u0430\\u043a\", \"special\", \"\\u0437\\u0430\", \"\\u044d\\u0442\\u043e\", \"abortion\", \"\\u0440\\u043e\\u0441\\u0441\\u0438\\u0438\", \"finally\", \"james\", \"\\u0438\\u0437\", \"class\", \"message\", \"\\u0434\\u043b\\u044f\", \"hero\", \"planned\", \"middle\", \"dollar\", \"\\u0432\", \"\\u0441\", \"kansa\", \"\\u201c\", \"wichita\", \"\\u201d\", \"know\", \"officer\", \"campaign\", \"car\", \"country\", \"royal\", \"5\", \"teen\", \"way\", \"top\", \"said\", \"weather\", \"killing\", \"stand\", \"beat\", \"away\", \"sign\", \"tweet\", \"street\", \"cnn\", \"protest\", \"v\", \"lost\", \"father\", \"close\", \"rape\", \"4\", \"claim\", \"..\", \"1\", \"crash\", \"2\", \"#news\", \"thing\", \"shooting\", \"man\", \"police\", \"new\", \"city\", \"obama\", \"woman\", \"3\", \"\\u2018\", \"dead\", \"law\", \"medium\", \"gop\", \"breaking\", \"group\", \"park\", \"left\", \"texas\", \"twitter\", \"remember\", \"supreme\", \"return\", \"federal\", \"office\", \"islam\", \"policy\", \"begin\", \"washington\", \"accident\", \"investigating\", \"honor\", \"oklahoma\", \"month\", \"#job\", \"hurt\", \"three\", \"young\", \"friday\", \"friend\", \"called\", \"house\", \"\\u2019\", \"obama\", \"senate\", \"#news\", \"trump\", \"#politics\", \"news\", \"call\", \"first\", \"million\", \"clinton\", \"white\", \"help\", \"muslim\", \"say\", \"new\", \"school\", \"rt\", \"\\u2026\", \"dy\", \"chief\", \"high\", \"support\", \"near\", \"charge\", \"county\", \"north\", \"bomb\", \"team\", \"crime\", \"south\", \"#p2\", \"service\", \"release\", \"#wakeupamerica\", \"investigation\", \"congress\", \"criminal\", \"latest\", \"race\", \"john\", \"save\", \"drug\", \"obama's\", \"injured\", \"fraud\", \"court\", \"#ccot\", \"#tcot\", \"fbi\", \"2016\", \"#news\", \"arrested\", \"police\", \"threat\", \"topeka\", \"fire\", \"city\", \"#pjnet\", \"win\", \"new\", \"death\", \"#politics\", \"2\", \"\\ufffd\", \"\\ufe0f\", \"storm\", \"cruz\", \"weekend\", \"investigate\", \"truck\", \"r\", \"inside\", \"un\", \"#nra\", \"ted\", \"winning\", \"thousand\", \"70\", \"corruption\", \"e\", \"cannot\", \"tv\", \"worst\", \"warning\", \"involved\", \"fair\", \"leak\", \"biggest\", \"scam\", \"loses\", \"vet\", \"birthday\", \"rip\", \"de\", \"#americafirst\", \"der\", \"die\", \"le\", \"und\", \"found\", \"party\", \"account\", \"terror\", \"fake\", \"targeted\", \"supporter\", \"california\", \"florida\", \"governor\", \"arrest\", \"son\", \"#opiceisis\", \"#iceisis\", \"#targets\", \"university\", \"20\", \"college\", \"political\", \"try\", \"plane\", \"mother\", \"islamic\", \"nation\", \"system\", \"mass\", \"airport\", \"100\", \"stay\", \"fired\", \"week\", \"official\", \"state\", \"liberal\", \"case\", \"judge\", \"missing\", \"\\u2014\", \"refugee\", \"\\u00bb\", \"\\u00ab\", \"12\", \"manhattan\", \"christian\", \"ohio\", \"syrian\", \"democratic\", \"30\", \"putin\", \"immigrant\", \"series\", \"michael\", \"50\", \"weapon\", \"breitbart\", \"obamacare\", \"seen\", \"demand\", \"result\", \"pm\", \"custody\", \"tried\", \"term\", \"light\", \"6\", \"apple\", \"gun\", \"student\", \"kc\", \"lawmaker\", \"sander\", \"2017\", \"seek\", \"story\", \"men\", \"force\", \"sentenced\", \"driver\", \"christmas\", \"pleads\", \"presidential\", \"conservative\", \"air\", \"bush\", \"leaf\", \"veteran\", \"foundation\", \"facebook\", \"deadly\", \"town\", \"super\", \"peace\", \"taking\", \"drop\", \"johnson\", \"@youtube\", \"via\", \"mt\", \"change\", \"girl\", \"live\", \"leader\", \"join\", \"accused\", \"speech\", \"fall\", \"patriot\", \"freedom\", \"enlist\", \"photo\", \"district\", \"move\", \"#cosproject\", \"rain\", \"coming\", \"assault\", \"recall\", \"ask\", \"illegal\", \"16\", \"sheriff\", \"https://t.co/rrzgbccxbo\", \"teacher\", \"others\", \"govt\", \"crew\", \"session\", \"13\", \"#pjnet\", \"\\u2013\", \"...\", \"help\"], \"Total\": [24955.0, 51243.0, 25871.0, 14325.0, 14190.0, 22246.0, 6923.0, 7732.0, 6998.0, 6450.0, 6904.0, 6630.0, 8043.0, 10508.0, 10328.0, 4027.0, 5117.0, 6830.0, 3816.0, 5067.0, 8501.0, 3391.0, 3854.0, 7748.0, 8527.0, 3707.0, 3531.0, 4268.0, 3505.0, 3492.0, 4905.48193359375, 4125.46044921875, 3600.536376953125, 3436.14453125, 3347.57177734375, 3090.388916015625, 3051.73046875, 2989.65576171875, 2788.150146484375, 2581.31005859375, 2551.90087890625, 2413.57421875, 2619.864013671875, 2389.175048828125, 2087.677001953125, 2049.459228515625, 2046.8538818359375, 1990.48291015625, 1983.3560791015625, 1947.096435546875, 1928.3817138671875, 2084.11328125, 1903.801513671875, 2487.3466796875, 1890.483642578125, 1830.6470947265625, 2132.067138671875, 1735.080810546875, 1738.581298828125, 1756.0811767578125, 6830.8701171875, 8043.35302734375, 4711.1064453125, 4232.380859375, 3257.0595703125, 3186.636962890625, 2271.966552734375, 2621.943359375, 2241.05615234375, 3669.0673828125, 4385.02783203125, 3677.23193359375, 5078.755859375, 10467.8671875, 4301.298828125, 7748.46875, 22246.298828125, 4814.67724609375, 10328.4833984375, 10566.720703125, 5421.6640625, 7053.4482421875, 3658.14306640625, 8527.72265625, 3652.875244140625, 25871.349609375, 51243.171875, 8501.681640625, 10508.4345703125, 6630.90185546875, 8755.7041015625, 5067.54052734375, 7732.52783203125, 3724.7509765625, 2898.836181640625, 2778.708984375, 6450.5947265625, 2528.041259765625, 2274.93408203125, 2166.619384765625, 2079.048828125, 1970.466796875, 1895.96142578125, 1852.423095703125, 1918.293701171875, 1769.150634765625, 1751.862060546875, 1806.5753173828125, 1714.592529296875, 1650.76708984375, 1554.7135009765625, 1546.6787109375, 1473.79296875, 1420.0908203125, 1384.86474609375, 1347.7906494140625, 1355.9371337890625, 1331.00634765625, 1313.09130859375, 1280.8328857421875, 1210.2215576171875, 14190.8271484375, 4268.11328125, 14325.18359375, 3492.898193359375, 3505.97265625, 3411.52294921875, 3111.957275390625, 2711.235107421875, 2297.469482421875, 2270.523681640625, 1998.7421875, 1742.748779296875, 1666.526611328125, 1519.3345947265625, 1871.8211669921875, 1473.3294677734375, 1425.7242431640625, 1333.088623046875, 1318.115478515625, 1304.394775390625, 1209.9791259765625, 1158.126220703125, 1119.365966796875, 1066.3675537109375, 990.7360229492188, 969.3115844726562, 965.8159790039062, 910.8334350585938, 909.5726928710938, 904.94287109375, 899.00732421875, 840.1174926757812, 2681.882568359375, 1261.9976806640625, 1917.7652587890625, 2958.568359375, 3692.546875, 5848.8681640625, 51243.171875, 1944.4710693359375, 5165.736328125, 10328.4833984375, 10508.4345703125, 8755.7041015625, 4614.19873046875, 6904.34521484375, 7053.4482421875, 2929.784423828125, 6923.201171875, 2653.584716796875, 2620.0263671875, 2599.255859375, 2357.03173828125, 1738.84765625, 1232.7779541015625, 1205.89697265625, 1195.83642578125, 1178.889404296875, 1130.4119873046875, 1078.21142578125, 1033.0340576171875, 1026.9669189453125, 1021.7568969726562, 1020.2069702148438, 961.9808349609375, 878.5402221679688, 861.4846801757812, 859.1244506835938, 810.8660888671875, 806.4141845703125, 782.9981689453125, 748.4661865234375, 745.5517578125, 748.6348266601562, 740.8909301757812, 727.7581787109375, 725.7908935546875, 718.8414916992188, 1033.30029296875, 905.9271240234375, 3571.07958984375, 25871.349609375, 6904.34521484375, 1552.515869140625, 51243.171875, 22246.298828125, 8501.681640625, 2780.75537109375, 2685.19091796875, 2675.191650390625, 1980.036376953125, 8527.72265625, 3006.241943359375, 2730.2275390625, 2539.694580078125, 7748.46875, 8755.7041015625, 3854.042724609375, 3707.019287109375, 3531.82666015625, 1883.1090087890625, 1513.82568359375, 1475.3681640625, 1441.1448974609375, 1440.297607421875, 1349.35791015625, 2572.48046875, 1175.9239501953125, 1118.75927734375, 1091.4111328125, 1078.301513671875, 1073.1214599609375, 1002.0861206054688, 987.3897094726562, 978.9888916015625, 934.8724365234375, 931.1469116210938, 910.2219848632812, 886.15087890625, 863.838134765625, 864.320068359375, 780.0775756835938, 772.462646484375, 770.4692993164062, 861.4237670898438, 1272.52880859375, 730.1594848632812, 2483.393310546875, 2091.505615234375, 5117.06591796875, 1565.5130615234375, 2273.531982421875, 51243.171875, 1993.1236572265625, 10508.4345703125, 1781.247314453125, 3555.4794921875, 3518.875244140625, 4614.19873046875, 6998.0556640625, 2803.317138671875, 8755.7041015625, 3552.689208984375, 8501.681640625, 5848.8681640625, 24955.326171875, 2767.838134765625, 2145.649169921875, 2088.235107421875, 1914.5850830078125, 1191.1148681640625, 1190.4857177734375, 1086.9993896484375, 934.2359619140625, 917.3267822265625, 915.6675415039062, 897.1370239257812, 859.6090698242188, 821.7122192382812, 788.934814453125, 742.2279052734375, 731.2537231445312, 727.0512084960938, 725.958984375, 683.3817138671875, 677.77734375, 661.5759887695312, 651.6570434570312, 635.8017578125, 626.0196533203125, 613.9988403320312, 610.2147216796875, 604.046875, 585.4745483398438, 580.8583984375, 1125.0438232421875, 840.88916015625, 699.599853515625, 1520.4197998046875, 1095.20068359375, 708.5785522460938, 2781.322509765625, 1639.671875, 1466.6651611328125, 1220.750732421875, 1195.6466064453125, 1175.9556884765625, 1162.229736328125, 1160.84033203125, 1152.7734375, 1123.8726806640625, 1097.9630126953125, 1088.2137451171875, 1065.0919189453125, 1050.1590576171875, 1050.1640625, 1048.6790771484375, 1003.1749267578125, 986.7799072265625, 966.4800415039062, 964.02978515625, 925.8035888671875, 923.3663330078125, 848.7288818359375, 845.7300415039062, 833.4068603515625, 781.7951049804688, 756.7879028320312, 735.8380737304688, 729.4155883789062, 728.4432983398438, 2204.54541015625, 2038.8709716796875, 6630.90185546875, 1727.7459716796875, 3391.388671875, 2387.295166015625, 2147.77880859375, 2136.678466796875, 2083.124267578125, 1750.855224609375, 1743.203857421875, 1481.019287109375, 1138.9534912109375, 1114.1859130859375, 1042.4610595703125, 984.7101440429688, 967.2786254882812, 892.8811645507812, 873.4260864257812, 859.7898559570312, 854.7285766601562, 847.5399780273438, 797.447998046875, 790.248291015625, 782.081787109375, 775.315185546875, 770.0609130859375, 764.57421875, 761.1943359375, 760.5623779296875, 758.4605712890625, 754.9754638671875, 719.8681030273438, 712.953369140625, 1667.6124267578125, 744.8031005859375, 3816.166748046875, 2451.6435546875, 1930.165283203125, 1887.8548583984375, 1616.4398193359375, 1483.816162109375, 1405.767578125, 1334.1817626953125, 1288.2662353515625, 1263.3834228515625, 1212.930908203125, 1182.96533203125, 1030.2972412109375, 999.5635375976562, 998.1744384765625, 976.2318115234375, 938.6082153320312, 922.6243896484375, 912.9755859375, 898.2288818359375, 882.8285522460938, 829.497802734375, 826.0283203125, 798.1167602539062, 748.4432983398438, 744.605712890625, 736.1959228515625, 728.0340576171875, 718.3767700195312, 714.0380859375, 5907.61962890625, 4027.654541015625, 2096.6943359375, 1889.921875, 1797.5426025390625, 1596.6708984375, 1534.2442626953125, 1253.300537109375, 1173.991943359375, 1152.7705078125, 1126.7652587890625, 1122.4642333984375, 1083.5010986328125, 1047.104248046875, 1035.8536376953125, 1008.075927734375, 952.8743896484375, 912.0925903320312, 906.1580810546875, 864.4505615234375, 862.49658203125, 847.526611328125, 814.637939453125, 767.5890502929688, 727.0979614257812, 748.5005493164062, 693.2011108398438, 685.3018188476562, 654.980712890625, 641.2626342773438, 605.9075317382812, 653.2643432617188, 6998.0556640625, 1770.181640625, 10566.720703125, 2730.2275390625], \"loglift\": [30.0, 29.0, 28.0, 27.0, 26.0, 25.0, 24.0, 23.0, 22.0, 21.0, 20.0, 19.0, 18.0, 17.0, 16.0, 15.0, 14.0, 13.0, 12.0, 11.0, 10.0, 9.0, 8.0, 7.0, 6.0, 5.0, 4.0, 3.0, 2.0, 1.0, 1.5549999475479126, 1.554900050163269, 1.554900050163269, 1.554900050163269, 1.554900050163269, 1.554900050163269, 1.554900050163269, 1.554900050163269, 1.554800033569336, 1.554800033569336, 1.554800033569336, 1.554800033569336, 1.554800033569336, 1.554800033569336, 1.5547000169754028, 1.5547000169754028, 1.5547000169754028, 1.5547000169754028, 1.5547000169754028, 1.5547000169754028, 1.5547000169754028, 1.5547000169754028, 1.5547000169754028, 1.5547000169754028, 1.5547000169754028, 1.5547000169754028, 1.5547000169754028, 1.5547000169754028, 1.5547000169754028, 1.5547000169754028, 1.5535000562667847, 1.549399971961975, 1.5542999505996704, 1.5542999505996704, 1.5533000230789185, 1.5527000427246094, 1.5544999837875366, 1.531599998474121, 1.541700005531311, 1.4693000316619873, 1.4402999877929688, 1.4630999565124512, 1.4048999547958374, 1.2717000246047974, 1.4254000186920166, 1.316499948501587, 1.0735000371932983, 1.3832999467849731, 1.1775000095367432, 1.1679999828338623, 1.3393000364303589, 1.2310999631881714, 1.4388999938964844, 1.1478999853134155, 1.4156999588012695, 0.32190001010894775, -0.2371000051498413, 0.7182000279426575, 0.49219998717308044, 0.8844000101089478, 0.5989000201225281, 1.9163999557495117, 1.9163000583648682, 1.9163000583648682, 1.9163000583648682, 1.916200041770935, 1.916200041770935, 1.916200041770935, 1.916200041770935, 1.916200041770935, 1.916200041770935, 1.916100025177002, 1.916100025177002, 1.916100025177002, 1.916100025177002, 1.916100025177002, 1.916100025177002, 1.916100025177002, 1.916100025177002, 1.916100025177002, 1.9160000085830688, 1.9160000085830688, 1.9160000085830688, 1.9160000085830688, 1.9160000085830688, 1.9160000085830688, 1.9160000085830688, 1.9160000085830688, 1.9158999919891357, 1.9158999919891357, 1.9158999919891357, 1.9153000116348267, 1.9155999422073364, 2.2355000972747803, 2.235300064086914, 2.235300064086914, 2.235300064086914, 2.2351999282836914, 2.2351999282836914, 2.2351999282836914, 2.235100030899048, 2.235100030899048, 2.234999895095825, 2.234999895095825, 2.234999895095825, 2.234999895095825, 2.2348999977111816, 2.2348999977111816, 2.2348999977111816, 2.2348999977111816, 2.2348999977111816, 2.234800100326538, 2.234800100326538, 2.234800100326538, 2.2346999645233154, 2.2346999645233154, 2.234600067138672, 2.234600067138672, 2.234600067138672, 2.234600067138672, 2.234600067138672, 2.234600067138672, 2.234499931335449, 2.2276999950408936, 2.231800079345703, 2.2102999687194824, 1.8911000490188599, 1.8184000253677368, 1.6253000497817993, 0.8126000165939331, 1.9426000118255615, 1.5056999921798706, 1.0615999698638916, 0.8238000273704529, 0.8313000202178955, 1.204200029373169, 0.7759000062942505, 0.6603000164031982, 1.478600025177002, 2.319999933242798, 2.3197999000549316, 2.319700002670288, 2.319700002670288, 2.319700002670288, 2.3196001052856445, 2.3194000720977783, 2.3194000720977783, 2.3194000720977783, 2.3192999362945557, 2.3192999362945557, 2.3192999362945557, 2.319200038909912, 2.319200038909912, 2.319200038909912, 2.319200038909912, 2.319200038909912, 2.3190999031066895, 2.3190999031066895, 2.3190999031066895, 2.319000005722046, 2.319000005722046, 2.319000005722046, 2.3189001083374023, 2.3189001083374023, 2.3189001083374023, 2.3189001083374023, 2.3189001083374023, 2.3189001083374023, 2.3189001083374023, 2.3183000087738037, 2.3189001083374023, 2.1865999698638916, 1.9661999940872192, 2.0550999641418457, 2.2297000885009766, 0.8815000057220459, 1.1651999950408936, 1.43340003490448, 1.8456000089645386, 1.8545000553131104, 1.7841999530792236, 1.8955999612808228, 1.0511000156402588, 1.6193000078201294, 1.6239999532699585, 1.6425000429153442, 0.7488999962806702, 0.5049999952316284, 2.334399938583374, 2.334399938583374, 2.334399938583374, 2.334199905395508, 2.3340001106262207, 2.3340001106262207, 2.3340001106262207, 2.3340001106262207, 2.3340001106262207, 2.333899974822998, 2.333899974822998, 2.3338000774383545, 2.3338000774383545, 2.3338000774383545, 2.3338000774383545, 2.3338000774383545, 2.333699941635132, 2.333699941635132, 2.333699941635132, 2.333699941635132, 2.333699941635132, 2.3336000442504883, 2.3336000442504883, 2.3336000442504883, 2.3334999084472656, 2.3334999084472656, 2.3334999084472656, 2.3334999084472656, 2.3334999084472656, 2.333400011062622, 2.3324999809265137, 2.3150999546051025, 2.208899974822998, 2.275599956512451, 2.162100076675415, 1.2990000247955322, 2.0494000911712646, 1.4449000358581543, 2.0697999000549316, 1.753100037574768, 1.6979000568389893, 1.5580999851226807, 1.2409000396728516, 1.6002999544143677, 0.7049000263214111, 1.2610000371932983, 0.4691999852657318, 0.8021000027656555, 2.5462000370025635, 2.5459001064300537, 2.545799970626831, 2.545799970626831, 2.545799970626831, 2.5455000400543213, 2.5455000400543213, 2.5455000400543213, 2.545300006866455, 2.545300006866455, 2.545300006866455, 2.545300006866455, 2.545300006866455, 2.5452001094818115, 2.5452001094818115, 2.545099973678589, 2.545099973678589, 2.545099973678589, 2.545099973678589, 2.5450000762939453, 2.5450000762939453, 2.5450000762939453, 2.5450000762939453, 2.5448999404907227, 2.5448999404907227, 2.5448999404907227, 2.5448999404907227, 2.5448999404907227, 2.544800043106079, 2.544800043106079, 2.544800043106079, 2.541599988937378, 2.54010009765625, 2.3526999950408936, 2.3478000164031982, 2.470099925994873, 2.692699909210205, 2.692500114440918, 2.6923999786376953, 2.6923000812530518, 2.6923000812530518, 2.6923000812530518, 2.6923000812530518, 2.6923000812530518, 2.6923000812530518, 2.692199945449829, 2.692199945449829, 2.692199945449829, 2.692199945449829, 2.692199945449829, 2.692199945449829, 2.692199945449829, 2.692199945449829, 2.6921000480651855, 2.6921000480651855, 2.6921000480651855, 2.6921000480651855, 2.6921000480651855, 2.691999912261963, 2.691999912261963, 2.691999912261963, 2.6919000148773193, 2.6919000148773193, 2.691800117492676, 2.691800117492676, 2.691800117492676, 2.690999984741211, 2.4193999767303467, 1.976699948310852, 1.944700002670288, 2.718899965286255, 2.7188000679016113, 2.7188000679016113, 2.7188000679016113, 2.7188000679016113, 2.7186999320983887, 2.7186999320983887, 2.718600034713745, 2.718400001525879, 2.718400001525879, 2.718400001525879, 2.7183001041412354, 2.7183001041412354, 2.7181999683380127, 2.7181999683380127, 2.7181999683380127, 2.7181999683380127, 2.7181999683380127, 2.718100070953369, 2.718100070953369, 2.718100070953369, 2.718100070953369, 2.718100070953369, 2.718100070953369, 2.718100070953369, 2.718100070953369, 2.718100070953369, 2.718100070953369, 2.7179999351501465, 2.7179999351501465, 2.7137999534606934, 2.7155001163482666, 2.7362000942230225, 2.7360999584198, 2.7360000610351562, 2.7360000610351562, 2.7358999252319336, 2.7358999252319336, 2.7358999252319336, 2.73580002784729, 2.73580002784729, 2.73580002784729, 2.73580002784729, 2.73580002784729, 2.735599994659424, 2.735599994659424, 2.735599994659424, 2.735599994659424, 2.735599994659424, 2.735599994659424, 2.7355000972747803, 2.7355000972747803, 2.7355000972747803, 2.7355000972747803, 2.7353999614715576, 2.7353999614715576, 2.735300064086914, 2.735300064086914, 2.735300064086914, 2.735300064086914, 2.735300064086914, 2.735300064086914, 1.4372999668121338, 2.766200065612793, 2.7660000324249268, 2.7660000324249268, 2.7660000324249268, 2.765899896621704, 2.765899896621704, 2.7657999992370605, 2.765700101852417, 2.765700101852417, 2.765700101852417, 2.765700101852417, 2.765700101852417, 2.7655999660491943, 2.7655999660491943, 2.7655999660491943, 2.765500068664551, 2.765500068664551, 2.765500068664551, 2.765500068664551, 2.765500068664551, 2.765399932861328, 2.7653000354766846, 2.7653000354766846, 2.7653000354766846, 2.765199899673462, 2.765199899673462, 2.765199899673462, 2.7651000022888184, 2.7651000022888184, 2.765000104904175, 2.764899969100952, 2.358299970626831, 2.3115999698638916, 0.7558000087738037, 1.680299997329712], \"logprob\": [30.0, 29.0, 28.0, 27.0, 26.0, 25.0, 24.0, 23.0, 22.0, 21.0, 20.0, 19.0, 18.0, 17.0, 16.0, 15.0, 14.0, 13.0, 12.0, 11.0, 10.0, 9.0, 8.0, 7.0, 6.0, 5.0, 4.0, 3.0, 2.0, 1.0, -5.077199935913086, -5.250400066375732, -5.386499881744385, -5.433300018310547, -5.459400177001953, -5.539400100708008, -5.5518999099731445, -5.572500228881836, -5.642300128936768, -5.719399929046631, -5.730899810791016, -5.786600112915039, -5.704599857330322, -5.796800136566162, -5.931700229644775, -5.950200080871582, -5.951499938964844, -5.979400157928467, -5.982999801635742, -6.001500129699707, -6.011099815368652, -5.933499813079834, -6.02400016784668, -5.7565999031066895, -6.031000137329102, -6.063199996948242, -5.910799980163574, -6.116799831390381, -6.114799976348877, -6.104800224304199, -4.747600078582764, -4.588200092315674, -5.118299961090088, -5.225399971008301, -5.488399982452393, -5.510900020599365, -5.847300052642822, -5.7270002365112305, -5.873799800872803, -5.4532999992370605, -5.304100036621094, -5.457300186157227, -5.192599773406982, -4.602499961853027, -5.338200092315674, -4.858500003814697, -4.046800136566162, -5.267499923706055, -4.710100173950195, -4.696800231933594, -5.192800045013428, -5.037899971008301, -5.486700057983398, -4.931300163269043, -5.511300086975098, -4.647500038146973, -4.5229997634887695, -5.363999843597412, -5.3780999183654785, -5.446400165557861, -5.45389986038208, -4.683300018310547, -4.260700225830078, -4.991199970245361, -5.242000102996826, -5.284299850463867, -4.4421000480651855, -5.378900051116943, -5.484399795532227, -5.533199787139893, -5.57450008392334, -5.6280999183654785, -5.6666998863220215, -5.689899921417236, -5.65500020980835, -5.735899925231934, -5.745699882507324, -5.715000152587891, -5.767300128936768, -5.805200099945068, -5.865200042724609, -5.8703999519348145, -5.918700218200684, -5.9558000564575195, -5.980899810791016, -6.0081000328063965, -6.002099990844727, -6.020599842071533, -6.034200191497803, -6.059100151062012, -6.115799903869629, -3.654599905014038, -4.8557000160217285, -3.325000047683716, -4.736499786376953, -4.732800006866455, -4.7600998878479, -4.8520002365112305, -4.9899001121521, -5.155600070953369, -5.167399883270264, -5.294899940490723, -5.432000160217285, -5.476799964904785, -5.569300174713135, -5.360599994659424, -5.599999904632568, -5.632900238037109, -5.700099945068359, -5.711400032043457, -5.72189998626709, -5.797100067138672, -5.84089994430542, -5.875, -5.923500061035156, -5.997200012207031, -6.019000053405762, -6.02269983291626, -6.081299781799316, -6.082699775695801, -6.087800025939941, -6.094399929046631, -6.162199974060059, -5.008299827575684, -5.757999897003174, -5.361100196838379, -5.246699810028076, -5.097799777984619, -4.830999851226807, -3.473299980163574, -5.6149001121521, -5.074699878692627, -4.826000213623047, -5.046500205993652, -5.221499919891357, -5.489099979400635, -5.514500141143799, -5.608699798583984, -5.669000148773193, -3.9677000045776367, -4.9268999099731445, -4.939599990844727, -4.947500228881836, -5.045400142669678, -5.349699974060059, -5.693900108337402, -5.71589994430542, -5.724299907684326, -5.73859977722168, -5.780600070953369, -5.827899932861328, -5.870800018310547, -5.876699924468994, -5.881800174713135, -5.883299827575684, -5.9421000480651855, -6.032899856567383, -6.052499771118164, -6.055300235748291, -6.1132001876831055, -6.11870002746582, -6.148200035095215, -6.193299770355225, -6.197199821472168, -6.1930999755859375, -6.203499794006348, -6.221399784088135, -6.224100112915039, -6.233799934387207, -5.871399879455566, -6.002399921417236, -4.7631001472473145, -3.003200054168701, -4.235199928283691, -5.5528998374938965, -3.4045000076293945, -3.9551000595092773, -4.648799896240234, -5.3541998863220215, -5.380300045013428, -5.4542999267578125, -5.643799781799316, -5.02810001373291, -5.502500057220459, -5.594099998474121, -5.6479997634887695, -5.42609977722168, -5.547800064086914, -4.539000034332275, -4.577899932861328, -4.626299858093262, -5.25540018081665, -5.473800182342529, -5.499599933624268, -5.523099899291992, -5.52370023727417, -5.588900089263916, -4.94379997253418, -5.726600170135498, -5.776500225067139, -5.801199913024902, -5.813300132751465, -5.8180999755859375, -5.88670015335083, -5.901500225067139, -5.909999847412109, -5.956200122833252, -5.96019983291626, -5.982900142669678, -6.009699821472168, -6.035299777984619, -6.0346999168396, -6.137400150299072, -6.147200107574463, -6.149799823760986, -6.0381999015808105, -5.648099899291992, -6.20359992980957, -4.980400085449219, -5.16949987411499, -4.381100177764893, -5.498700141906738, -5.239099979400635, -2.9869000911712646, -5.483399868011475, -4.42549991607666, -5.575399875640869, -5.200900077819824, -5.266499996185303, -5.135300159454346, -5.035999774932861, -5.591400146484375, -5.347899913787842, -5.69379997253418, -5.61299991607666, -5.654200077056885, -2.459199905395508, -4.6585001945495605, -4.9131999015808105, -4.940400123596191, -5.027200222015381, -5.502099990844727, -5.502600193023682, -5.593599796295166, -5.745200157165527, -5.763500213623047, -5.7652997970581055, -5.785799980163574, -5.828499794006348, -5.873700141906738, -5.914400100708008, -5.975500106811523, -5.9903998374938965, -5.996200084686279, -5.997700214385986, -6.058199882507324, -6.066400051116943, -6.090700149536133, -6.105800151824951, -6.13040018081665, -6.145999908447266, -6.16540002822876, -6.171599864959717, -6.181700229644775, -6.2129998207092285, -6.220900058746338, -5.559899806976318, -5.8541998863220215, -6.039599895477295, -5.450799942016602, -5.783699989318848, -6.09689998626709, -4.506899833679199, -5.0355000495910645, -5.14709997177124, -5.330699920654297, -5.351500034332275, -5.368199825286865, -5.379899978637695, -5.381100177764893, -5.3881001472473145, -5.41349983215332, -5.436800003051758, -5.445799827575684, -5.467299938201904, -5.481400012969971, -5.481400012969971, -5.482800006866455, -5.527200222015381, -5.543700218200684, -5.564499855041504, -5.566999912261963, -5.607500076293945, -5.610199928283691, -5.694499969482422, -5.6981000900268555, -5.712800025939941, -5.776800155639648, -5.809299945831299, -5.837399959564209, -5.846199989318848, -5.847499847412109, -4.741000175476074, -5.090700149536133, -4.354000091552734, -5.730999946594238, -4.282400131225586, -4.633600234985352, -4.739299774169922, -4.744500160217285, -4.769899845123291, -4.943699836730957, -4.9481000900268555, -5.111199855804443, -5.374000072479248, -5.395999908447266, -5.462600231170654, -5.519599914550781, -5.537499904632568, -5.617599964141846, -5.639599800109863, -5.655399799346924, -5.661300182342529, -5.6697998046875, -5.7307000160217285, -5.739799976348877, -5.750199794769287, -5.758900165557861, -5.765699863433838, -5.772900104522705, -5.777299880981445, -5.77810001373291, -5.780900001525879, -5.7855000495910645, -5.833199977874756, -5.842899799346924, -4.997300148010254, -5.801599979400635, -4.146999835968018, -4.589600086212158, -4.82889986038208, -4.851099967956543, -5.00629997253418, -5.0920000076293945, -5.146100044250488, -5.198400020599365, -5.233399868011475, -5.252900123596191, -5.293700218200684, -5.318699836730957, -5.456999778747559, -5.487299919128418, -5.488699913024902, -5.511000156402588, -5.550300121307373, -5.567500114440918, -5.578000068664551, -5.594299793243408, -5.611599922180176, -5.673999786376953, -5.678199768066406, -5.712600231170654, -5.776899814605713, -5.782100200653076, -5.793499946594238, -5.804599761962891, -5.817999839782715, -5.823999881744385, -5.008999824523926, -4.0630998611450195, -4.716100215911865, -4.820000171661377, -4.870100021362305, -4.988699913024902, -5.028600215911865, -5.230999946594238, -5.29640007019043, -5.314599990844727, -5.337500095367432, -5.341300010681152, -5.376699924468994, -5.410900115966797, -5.4217000007629395, -5.44890022277832, -5.505199909210205, -5.548999786376953, -5.555600166320801, -5.602700233459473, -5.605000019073486, -5.622499942779541, -5.662199974060059, -5.721700191497803, -5.775899887084961, -5.747000217437744, -5.823699951171875, -5.83519983291626, -5.880499839782715, -5.901700019836426, -5.958499908447266, -5.883399963378906, -3.9184999465942383, -5.339900016784668, -5.109000205993652, -5.537899971008301]}, \"token.table\": {\"Topic\": [1, 3, 6, 1, 5, 10, 7, 2, 4, 1, 3, 4, 5, 10, 6, 7, 5, 5, 10, 1, 4, 5, 7, 1, 5, 5, 2, 3, 5, 1, 2, 3, 4, 5, 6, 7, 8, 9, 10, 2, 3, 4, 6, 7, 8, 10, 10, 2, 3, 4, 5, 8, 9, 10, 7, 2, 5, 9, 1, 2, 3, 4, 5, 8, 9, 8, 2, 3, 6, 3, 8, 6, 8, 6, 9, 2, 4, 7, 10, 9, 7, 1, 10, 1, 3, 2, 8, 7, 3, 5, 10, 10, 3, 1, 5, 10, 3, 4, 6, 1, 6, 1, 3, 4, 5, 1, 4, 8, 9, 7, 3, 4, 4, 3, 6, 3, 8, 10, 5, 1, 5, 8, 9, 1, 3, 5, 3, 9, 2, 1, 3, 4, 3, 3, 7, 10, 5, 9, 6, 3, 4, 5, 5, 7, 1, 3, 9, 10, 5, 5, 6, 8, 1, 3, 4, 5, 3, 6, 4, 9, 1, 3, 4, 5, 8, 8, 6, 9, 1, 4, 6, 9, 10, 2, 1, 9, 9, 5, 5, 6, 1, 10, 1, 9, 6, 7, 10, 3, 5, 7, 4, 2, 1, 5, 10, 7, 4, 5, 7, 7, 9, 7, 9, 5, 10, 4, 4, 10, 1, 1, 3, 10, 1, 1, 1, 1, 3, 5, 4, 7, 10, 1, 3, 4, 9, 3, 4, 7, 10, 2, 5, 1, 3, 4, 2, 4, 3, 4, 10, 4, 10, 8, 1, 5, 6, 6, 4, 5, 6, 1, 4, 7, 2, 5, 9, 10, 8, 3, 9, 1, 3, 3, 5, 4, 9, 4, 6, 10, 9, 6, 4, 5, 7, 10, 1, 8, 1, 10, 1, 6, 3, 1, 1, 3, 1, 3, 5, 8, 7, 4, 9, 2, 8, 2, 4, 7, 8, 1, 4, 7, 10, 10, 3, 4, 7, 7, 5, 1, 1, 1, 3, 4, 5, 7, 9, 3, 4, 5, 5, 3, 4, 5, 5, 8, 4, 3, 7, 9, 8, 4, 1, 3, 4, 10, 4, 7, 10, 9, 1, 3, 10, 1, 4, 7, 2, 9, 8, 1, 3, 5, 4, 7, 1, 1, 3, 9, 3, 8, 6, 5, 10, 3, 2, 10, 8, 5, 4, 8, 4, 1, 5, 6, 3, 5, 3, 9, 5, 1, 3, 4, 5, 7, 2, 6, 5, 1, 9, 8, 1, 4, 9, 8, 5, 10, 10, 1, 3, 3, 7, 5, 2, 10, 3, 1, 7, 7, 1, 6, 9, 3, 9, 9, 5, 7, 4, 1, 8, 7, 9, 7, 1, 10, 5, 6, 3, 8, 7, 2, 4, 3, 4, 1, 6, 1, 5, 4, 1, 3, 4, 5, 3, 1, 2, 3, 4, 5, 6, 7, 8, 9, 10, 9, 8, 6, 1, 3, 4, 7, 9, 7, 6, 3, 4, 1, 1, 3, 4, 5, 7, 10, 6, 6, 9, 7, 3, 2, 6, 9, 1, 3, 4, 9, 1, 1, 1, 3, 4, 5, 6, 4, 3, 8, 3, 7, 10, 6, 1, 3, 4, 3, 3, 5, 7, 9, 6, 1, 3, 4, 5, 6, 1, 1, 3, 4, 8, 8, 2, 2, 8, 2, 2, 2, 8, 2, 2, 2, 8, 2, 2, 2, 2, 2, 8, 2, 2, 2, 3, 4, 10, 8, 4, 1, 3, 4, 5, 3, 3, 5, 6, 6], \"Freq\": [0.9994586110115051, 0.003567652078345418, 0.9953749179840088, 0.01912497915327549, 0.9806332588195801, 0.9990823864936829, 0.9988963007926941, 0.9997983574867249, 0.9991520047187805, 0.1665782928466797, 0.2410077154636383, 0.2372608780860901, 0.35503265261650085, 9.757397492649034e-05, 0.9992709755897522, 0.9989748001098633, 0.9989161491394043, 0.33495017886161804, 0.6648989915847778, 0.43309077620506287, 0.41203612089157104, 0.1547929048538208, 0.9988915324211121, 0.11803638935089111, 0.8817552924156189, 0.9990667700767517, 0.0005214402335695922, 0.9750932455062866, 0.023986252024769783, 0.6790186166763306, 0.04050452634692192, 0.08772825449705124, 0.0018927347846329212, 0.03492095693945885, 0.012492049485445023, 9.463674359722063e-05, 9.463674359722063e-05, 0.009369037114083767, 0.13391098380088806, 0.08213432133197784, 0.7084507346153259, 0.20854681730270386, 0.0006760026444680989, 0.9988610744476318, 0.9993117451667786, 0.9980645775794983, 0.9992325901985168, 0.06736346334218979, 0.5431820154190063, 0.12532338500022888, 0.2159392088651657, 0.047188617289066315, 0.000683892983943224, 0.000170973245985806, 0.9988287687301636, 0.15834394097328186, 0.8414220809936523, 0.9994499683380127, 0.2822733223438263, 0.04471318796277046, 0.4689764976501465, 0.008533051237463951, 0.1324329525232315, 0.020138001069426537, 0.04232393205165863, 0.9990131258964539, 0.006711703259497881, 0.9922134876251221, 0.0007457447936758399, 0.9996840357780457, 0.9994382262229919, 0.004797277972102165, 0.9948354959487915, 0.99881511926651, 0.9985461831092834, 0.999535322189331, 0.998931884765625, 0.999546468257904, 0.9989622831344604, 0.999351978302002, 0.9989588856697083, 0.9176719188690186, 0.08203719556331635, 0.8783393502235413, 0.12159118056297302, 0.0026852735318243504, 0.9962364435195923, 0.9991229176521301, 0.24785216152668, 0.75208580493927, 0.9993786215782166, 0.999478816986084, 0.9990275502204895, 0.9976034164428711, 0.0018828627653419971, 0.00031381045118905604, 0.9991908073425293, 0.9994373917579651, 0.9983711838722229, 0.9998291730880737, 0.9991894364356995, 0.9981395602226257, 0.0012281015515327454, 0.0006140507757663727, 0.9993213415145874, 0.9996465444564819, 0.9995124936103821, 0.9986168146133423, 0.9993232488632202, 0.9992761015892029, 0.37204059958457947, 0.6278883218765259, 0.9989765882492065, 0.99979567527771, 0.9985541701316833, 0.9997693300247192, 0.9998853802680969, 0.9996688365936279, 0.9989936351776123, 0.9995790123939514, 0.9994545578956604, 0.9989356398582458, 0.9987409114837646, 0.18334710597991943, 0.3565082550048828, 0.46010154485702515, 0.996039867401123, 0.0031695780344307423, 0.999375581741333, 0.6654766201972961, 0.053355392068624496, 0.28108325600624084, 0.9988794922828674, 0.9986469149589539, 0.9992096424102783, 0.9987220168113708, 0.9986574649810791, 0.998738169670105, 0.998345673084259, 0.9996286630630493, 0.0003887298807967454, 0.9994245171546936, 0.9978282451629639, 0.0016106993425637484, 0.34041544795036316, 0.6588948369026184, 0.0002708157990127802, 0.9980310201644897, 0.9987930059432983, 0.998701274394989, 0.9994085431098938, 0.9993927478790283, 0.8422163724899292, 0.14663496613502502, 0.002492378931492567, 0.008515628054738045, 0.0008888542652130127, 0.9981833100318909, 0.9997796416282654, 0.9987550973892212, 0.3684532940387726, 0.031243937090039253, 0.25839582085609436, 0.34171298146247864, 0.9992489814758301, 0.9986781477928162, 0.9934250116348267, 0.0057175541296601295, 0.10063010454177856, 0.0006577130989171565, 0.8241145014762878, 0.07432157546281815, 0.9991759061813354, 0.9989906549453735, 0.9995874762535095, 0.9991839528083801, 0.9985796809196472, 0.9993909001350403, 0.9994110465049744, 0.9982855319976807, 0.999582827091217, 0.9995375275611877, 0.999384343624115, 0.9993999004364014, 0.9989917278289795, 0.9994592070579529, 0.9993315935134888, 0.9989581108093262, 0.9428219199180603, 0.0568503737449646, 0.9992592334747314, 0.9995611906051636, 0.38023513555526733, 0.5291463732719421, 0.09065396338701248, 0.9993914365768433, 0.5850048065185547, 0.2141902595758438, 0.20035947859287262, 0.9993290901184082, 0.9996964931488037, 0.9995244741439819, 0.9990614652633667, 0.998412013053894, 0.9995864033699036, 0.9988293647766113, 0.9977738261222839, 0.0009677728521637619, 0.9998020529747009, 0.8058411478996277, 0.1940363645553589, 0.9995121955871582, 0.9996756911277771, 0.9996656179428101, 0.9993770718574524, 0.9767563939094543, 0.01601865328848362, 0.006865136791020632, 0.9995622634887695, 0.999223530292511, 0.9985026717185974, 0.999574601650238, 0.0004401473270263523, 0.9993689656257629, 0.999694287776947, 0.0018313492182642221, 0.4984932541847229, 0.16189126670360565, 0.3373345136642456, 0.9992439150810242, 0.9990726709365845, 0.994361400604248, 0.004848724231123924, 0.0007459575426764786, 0.9997141361236572, 0.998725175857544, 0.1248922049999237, 0.8750855326652527, 0.9993312358856201, 0.9987974762916565, 0.9992169141769409, 0.9990813136100769, 0.0007858368335291743, 0.9987986087799072, 0.9986770153045654, 0.999064028263092, 0.9994863867759705, 0.9987682700157166, 0.9991293549537659, 0.9997759461402893, 0.9989804029464722, 0.9991412162780762, 0.9994619488716125, 0.9986186027526855, 0.9994755387306213, 0.999189019203186, 0.9994574785232544, 0.9999173879623413, 0.9993962645530701, 0.9998883605003357, 0.999153733253479, 0.9996923804283142, 0.9990297555923462, 0.9996082782745361, 0.9995471835136414, 0.17896263301372528, 0.8199410438537598, 0.9995797872543335, 0.9989314079284668, 0.9987390041351318, 0.9993005394935608, 0.32354292273521423, 0.47287043929100037, 0.20315486192703247, 0.9997806549072266, 0.9986627697944641, 0.9999017715454102, 0.9996981620788574, 0.999760627746582, 0.9980093240737915, 0.9993703961372375, 0.999499499797821, 0.9992011785507202, 0.0007088208803907037, 0.6854830384254456, 0.30914509296417236, 0.0052282605320215225, 0.9991628527641296, 0.9989829659461975, 0.9995168447494507, 0.9990171194076538, 0.9994133710861206, 0.9993628859519958, 0.9993497133255005, 0.6540284156799316, 0.34544819593429565, 0.9996373653411865, 0.999744176864624, 0.9992599487304688, 0.999603271484375, 0.9989327192306519, 0.9998375177383423, 0.3252359628677368, 0.507935106754303, 0.16694921255111694, 0.9991368055343628, 0.99909907579422, 0.9996669292449951, 0.9996702075004578, 0.3843208849430084, 0.24555420875549316, 0.16286525130271912, 0.1959865242242813, 0.011078491806983948, 0.00011421125964261591, 0.3045935034751892, 0.6221331357955933, 0.07300174981355667, 0.9992142915725708, 0.2323174625635147, 0.7671980261802673, 0.0002896726655308157, 0.9983472228050232, 0.9995934963226318, 0.9988169074058533, 0.9995444416999817, 0.760715126991272, 0.2388576865196228, 0.9995577335357666, 0.9993771314620972, 0.8604469299316406, 0.13920731842517853, 0.00019689861801452935, 0.9981003999710083, 0.9992561936378479, 0.9995902180671692, 0.9993208646774292, 0.9991865158081055, 0.9982622861862183, 0.0016103365924209356, 0.998945415019989, 0.9865884184837341, 0.012940327636897564, 0.9991320371627808, 0.999168872833252, 0.9994361996650696, 0.9992606043815613, 0.34543681144714355, 0.243708997964859, 0.4107176959514618, 0.9993851184844971, 0.9995033144950867, 0.9998204708099365, 0.8903424143791199, 0.10961845517158508, 0.9988234043121338, 0.9991551637649536, 0.9995121955871582, 0.9990805983543396, 0.9984726905822754, 0.998802125453949, 0.9986698627471924, 0.9997448325157166, 0.9994242787361145, 0.9994602799415588, 0.9989898800849915, 0.9988764524459839, 0.9984309673309326, 0.9990584850311279, 0.9120991230010986, 0.08756586909294128, 0.998522162437439, 0.999570369720459, 0.9997250437736511, 0.9994919896125793, 0.9997279047966003, 0.9994010925292969, 0.787768542766571, 0.0033555016852915287, 0.20778298377990723, 0.0009034043177962303, 0.00012905776384286582, 0.999492883682251, 0.9983732104301453, 0.9997294545173645, 0.9996469616889954, 0.9994539618492126, 0.9986222982406616, 0.08566740155220032, 0.9133561849594116, 0.9992325305938721, 0.9991475939750671, 0.9996052980422974, 0.9985021948814392, 0.9984899163246155, 0.5178351998329163, 0.4820222854614258, 0.999673068523407, 0.9988846182823181, 0.9989549517631531, 0.9995079040527344, 0.9991550445556641, 0.9996973276138306, 0.511242687702179, 0.488621324300766, 0.999430239200592, 0.999465823173523, 0.9996974468231201, 0.9991142153739929, 0.9992570877075195, 0.9997375011444092, 0.9994077086448669, 0.9992055892944336, 0.9989418983459473, 0.9989989995956421, 0.9994924664497375, 0.9992788434028625, 0.9995118379592896, 0.9983755350112915, 0.9991872906684875, 0.9997620582580566, 0.9982672929763794, 0.9996232986450195, 0.9987326264381409, 0.9991216063499451, 0.9987940788269043, 0.9993849992752075, 0.9997715950012207, 0.9992455840110779, 0.7462183833122253, 0.25353938341140747, 0.9995082020759583, 0.9991332292556763, 0.2324213981628418, 0.7674397826194763, 0.998958170413971, 0.8914424777030945, 0.10627070814371109, 0.0006841461872681975, 0.001368292374536395, 0.9990976452827454, 0.063001349568367, 0.0005625120247714221, 0.21403582394123077, 0.08100173622369766, 0.5591369867324829, 0.006468888372182846, 0.0315006747841835, 0.003937584348022938, 0.01575033739209175, 0.02475052885711193, 0.9986007809638977, 0.9987079501152039, 0.9995920062065125, 0.6177656650543213, 0.060953959822654724, 0.31510859727859497, 0.005978522356599569, 0.000179805196239613, 0.9989317655563354, 0.998678982257843, 0.9996553063392639, 0.9996355175971985, 0.9997574090957642, 0.7531620264053345, 0.12151472270488739, 0.03429542854428291, 0.08721929788589478, 9.553044219501317e-05, 0.003630156861618161, 0.9996437430381775, 0.927208423614502, 0.07197508215904236, 0.9993524551391602, 0.9990849494934082, 0.999588131904602, 0.998266875743866, 0.9986318945884705, 0.504433274269104, 0.05636788159608841, 0.16639527678489685, 0.27269867062568665, 0.9994369149208069, 0.9998510479927063, 0.8699995875358582, 0.007665194571018219, 0.0005475138896144927, 0.12154808640480042, 0.9988530874252319, 0.9986911416053772, 0.9995613098144531, 0.9984203577041626, 0.9991833567619324, 0.9979381561279297, 0.001814433024264872, 0.9996944069862366, 0.48299506306648254, 0.02029111422598362, 0.49630069732666016, 0.9997225999832153, 0.40238043665885925, 0.47978875041007996, 0.11700424551963806, 0.0003567202656995505, 0.9992914795875549, 0.7231923937797546, 0.20699095726013184, 0.06493277847766876, 0.0048203375190496445, 0.9994414448738098, 0.9998741745948792, 0.9991283416748047, 0.0006367930909618735, 0.9989103078842163, 0.9993094205856323, 0.9995115399360657, 0.9995893836021423, 0.9987437725067139, 0.0011979569680988789, 0.9993088841438293, 0.9996815323829651, 0.9998024106025696, 0.00012932381650898606, 0.9992318749427795, 0.9993495941162109, 0.9997527599334717, 0.00015502446331083775, 0.999893307685852, 0.999846875667572, 0.9994955062866211, 0.9995410442352295, 0.9990362524986267, 0.0007028866675682366, 0.9997631311416626, 0.9997115731239319, 0.9996544122695923, 0.00677896523848176, 0.35815533995628357, 0.6343981623649597, 0.9996824860572815, 0.9998264908790588, 0.2913261353969574, 0.0059911832213401794, 0.7019347548484802, 0.0006957503501325846, 0.999742865562439, 0.9998466968536377, 0.999765932559967, 0.999697208404541, 0.9999869465827942], \"Term\": [\"#2a\", \"#americafirst\", \"#americafirst\", \"#ccot\", \"#ccot\", \"#cosproject\", \"#iceisis\", \"#isis\", \"#job\", \"#news\", \"#news\", \"#news\", \"#news\", \"#news\", \"#nra\", \"#opiceisis\", \"#p2\", \"#pjnet\", \"#pjnet\", \"#politics\", \"#politics\", \"#politics\", \"#targets\", \"#tcot\", \"#tcot\", \"#wakeupamerica\", \"..\", \"..\", \"..\", \"...\", \"...\", \"...\", \"...\", \"...\", \"...\", \"...\", \"...\", \"...\", \"...\", \"1\", \"1\", \"1\", \"1\", \"100\", \"12\", \"13\", \"16\", \"2\", \"2\", \"2\", \"2\", \"2\", \"2\", \"2\", \"20\", \"2016\", \"2016\", \"2017\", \"3\", \"3\", \"3\", \"3\", \"3\", \"3\", \"3\", \"30\", \"4\", \"4\", \"4\", \"5\", \"50\", \"6\", \"6\", \"70\", \"@youtube\", \"abortion\", \"accident\", \"account\", \"accused\", \"air\", \"airport\", \"america\", \"america\", \"american\", \"american\", \"apple\", \"apple\", \"arrest\", \"arrested\", \"arrested\", \"ask\", \"assault\", \"away\", \"back\", \"back\", \"back\", \"beat\", \"begin\", \"biggest\", \"bill\", \"birthday\", \"black\", \"black\", \"black\", \"bomb\", \"boy\", \"breaking\", \"breitbart\", \"bush\", \"california\", \"call\", \"call\", \"called\", \"campaign\", \"cannot\", \"car\", \"case\", \"change\", \"charge\", \"charged\", \"chief\", \"christian\", \"christmas\", \"city\", \"city\", \"city\", \"claim\", \"claim\", \"class\", \"clinton\", \"clinton\", \"clinton\", \"close\", \"cnn\", \"college\", \"coming\", \"congress\", \"conservative\", \"corruption\", \"country\", \"county\", \"county\", \"court\", \"court\", \"crash\", \"crash\", \"crash\", \"crew\", \"crime\", \"criminal\", \"cruz\", \"custody\", \"day\", \"day\", \"day\", \"day\", \"de\", \"de\", \"dead\", \"deadly\", \"death\", \"death\", \"death\", \"death\", \"demand\", \"democratic\", \"der\", \"der\", \"die\", \"die\", \"die\", \"die\", \"district\", \"dollar\", \"donald\", \"driver\", \"drop\", \"drug\", \"dy\", \"e\", \"election\", \"enlist\", \"even\", \"facebook\", \"fair\", \"fake\", \"fall\", \"father\", \"fbi\", \"fbi\", \"federal\", \"finally\", \"fire\", \"fire\", \"fire\", \"fired\", \"first\", \"first\", \"first\", \"florida\", \"force\", \"found\", \"foundation\", \"fraud\", \"freedom\", \"friday\", \"friend\", \"friend\", \"game\", \"get\", \"get\", \"girl\", \"give\", \"god\", \"going\", \"good\", \"good\", \"good\", \"gop\", \"governor\", \"govt\", \"great\", \"great\", \"group\", \"gun\", \"help\", \"help\", \"help\", \"help\", \"hero\", \"high\", \"hillary\", \"hillary\", \"hillary\", \"hold\", \"honor\", \"house\", \"house\", \"https://t.co/rrzgbccxbo\", \"hurt\", \"illegal\", \"immigrant\", \"injured\", \"injured\", \"inside\", \"investigate\", \"investigating\", \"investigation\", \"involved\", \"isi\", \"islam\", \"islamic\", \"james\", \"john\", \"johnson\", \"join\", \"judge\", \"kansa\", \"kc\", \"killed\", \"killing\", \"know\", \"latest\", \"law\", \"lawmaker\", \"le\", \"le\", \"leader\", \"leaf\", \"leak\", \"left\", \"liberal\", \"liberal\", \"liberal\", \"life\", \"light\", \"like\", \"live\", \"look\", \"loses\", \"lost\", \"love\", \"make\", \"make\", \"man\", \"man\", \"man\", \"manhattan\", \"mass\", \"medium\", \"men\", \"message\", \"michael\", \"middle\", \"million\", \"million\", \"missing\", \"missouri\", \"month\", \"mother\", \"move\", \"mt\", \"muslim\", \"muslim\", \"muslim\", \"nation\", \"near\", \"need\", \"never\", \"new\", \"new\", \"new\", \"new\", \"new\", \"new\", \"news\", \"news\", \"news\", \"north\", \"obama\", \"obama\", \"obama\", \"obama's\", \"obamacare\", \"office\", \"officer\", \"official\", \"official\", \"ohio\", \"oklahoma\", \"one\", \"one\", \"one\", \"others\", \"park\", \"party\", \"patriot\", \"peace\", \"people\", \"people\", \"photo\", \"plan\", \"plan\", \"plane\", \"planned\", \"pleads\", \"pm\", \"police\", \"police\", \"police\", \"policy\", \"political\", \"poll\", \"president\", \"president\", \"presidential\", \"protest\", \"putin\", \"r\", \"race\", \"rain\", \"rape\", \"read\", \"recall\", \"refugee\", \"release\", \"remember\", \"result\", \"return\", \"right\", \"right\", \"rip\", \"royal\", \"rt\", \"said\", \"sander\", \"save\", \"say\", \"say\", \"say\", \"say\", \"say\", \"saying\", \"scam\", \"school\", \"see\", \"seek\", \"seen\", \"senate\", \"senate\", \"sentenced\", \"series\", \"service\", \"session\", \"sheriff\", \"shooting\", \"shooting\", \"sign\", \"son\", \"south\", \"special\", \"speech\", \"stand\", \"state\", \"state\", \"stay\", \"still\", \"storm\", \"story\", \"street\", \"student\", \"super\", \"support\", \"supporter\", \"supreme\", \"suspect\", \"syrian\", \"system\", \"taking\", \"targeted\", \"tax\", \"teacher\", \"team\", \"ted\", \"teen\", \"term\", \"terror\", \"terrorism\", \"texas\", \"thing\", \"thing\", \"think\", \"thousand\", \"threat\", \"threat\", \"three\", \"time\", \"time\", \"time\", \"time\", \"top\", \"topeka\", \"topeka\", \"topeka\", \"topeka\", \"topeka\", \"topeka\", \"topeka\", \"topeka\", \"topeka\", \"topeka\", \"town\", \"tried\", \"truck\", \"trump\", \"trump\", \"trump\", \"trump\", \"trump\", \"try\", \"tv\", \"tweet\", \"twitter\", \"two\", \"u\", \"u\", \"u\", \"u\", \"u\", \"u\", \"un\", \"und\", \"und\", \"university\", \"v\", \"vehicle\", \"vet\", \"veteran\", \"via\", \"via\", \"via\", \"via\", \"victim\", \"vote\", \"want\", \"want\", \"want\", \"want\", \"warning\", \"washington\", \"way\", \"weapon\", \"weather\", \"week\", \"week\", \"weekend\", \"white\", \"white\", \"white\", \"wichita\", \"win\", \"win\", \"win\", \"win\", \"winning\", \"woman\", \"woman\", \"woman\", \"woman\", \"worst\", \"would\", \"year\", \"year\", \"young\", \"\\u00ab\", \"\\u00bb\", \"\\u0430\", \"\\u0432\", \"\\u0432\", \"\\u0434\\u043b\\u044f\", \"\\u0437\\u0430\", \"\\u0438\", \"\\u0438\", \"\\u0438\\u0437\", \"\\u043a\\u0430\\u043a\", \"\\u043d\\u0430\", \"\\u043d\\u0430\", \"\\u043d\\u0435\", \"\\u043e\", \"\\u043f\\u043e\", \"\\u0440\\u043e\\u0441\\u0441\\u0438\\u0438\", \"\\u0441\", \"\\u0441\", \"\\u0443\", \"\\u0447\\u0442\\u043e\", \"\\u044d\\u0442\\u043e\", \"\\u2013\", \"\\u2013\", \"\\u2013\", \"\\u2014\", \"\\u2018\", \"\\u2019\", \"\\u2019\", \"\\u2019\", \"\\u2019\", \"\\u201c\", \"\\u201d\", \"\\u2026\", \"\\ufe0f\", \"\\ufffd\"]}, \"R\": 30, \"lambda.step\": 0.01, \"plot.opts\": {\"xlab\": \"PC1\", \"ylab\": \"PC2\"}, \"topic.order\": [10, 1, 3, 9, 5, 6, 7, 2, 8, 4]};\n",
       "\n",
       "function LDAvis_load_lib(url, callback){\n",
       "  var s = document.createElement('script');\n",
       "  s.src = url;\n",
       "  s.async = true;\n",
       "  s.onreadystatechange = s.onload = callback;\n",
       "  s.onerror = function(){console.warn(\"failed to load library \" + url);};\n",
       "  document.getElementsByTagName(\"head\")[0].appendChild(s);\n",
       "}\n",
       "\n",
       "if(typeof(LDAvis) !== \"undefined\"){\n",
       "   // already loaded: just create the visualization\n",
       "   !function(LDAvis){\n",
       "       new LDAvis(\"#\" + \"ldavis_el6100360114518163152523608\", ldavis_el6100360114518163152523608_data);\n",
       "   }(LDAvis);\n",
       "}else if(typeof define === \"function\" && define.amd){\n",
       "   // require.js is available: use it to load d3/LDAvis\n",
       "   require.config({paths: {d3: \"https://cdnjs.cloudflare.com/ajax/libs/d3/3.5.5/d3.min\"}});\n",
       "   require([\"d3\"], function(d3){\n",
       "      window.d3 = d3;\n",
       "      LDAvis_load_lib(\"https://cdn.rawgit.com/bmabey/pyLDAvis/files/ldavis.v1.0.0.js\", function(){\n",
       "        new LDAvis(\"#\" + \"ldavis_el6100360114518163152523608\", ldavis_el6100360114518163152523608_data);\n",
       "      });\n",
       "    });\n",
       "}else{\n",
       "    // require.js not available: dynamically load d3 & LDAvis\n",
       "    LDAvis_load_lib(\"https://cdnjs.cloudflare.com/ajax/libs/d3/3.5.5/d3.min.js\", function(){\n",
       "         LDAvis_load_lib(\"https://cdn.rawgit.com/bmabey/pyLDAvis/files/ldavis.v1.0.0.js\", function(){\n",
       "                 new LDAvis(\"#\" + \"ldavis_el6100360114518163152523608\", ldavis_el6100360114518163152523608_data);\n",
       "            })\n",
       "         });\n",
       "}\n",
       "</script>"
      ],
      "text/plain": [
       "PreparedData(topic_coordinates=              x         y  topics  cluster       Freq\n",
       "topic                                                \n",
       "9     -0.270008 -0.147796       1        1  21.115940\n",
       "0      0.175839 -0.245093       2        1  14.711923\n",
       "2     -0.179489 -0.012404       3        1  10.693600\n",
       "8     -0.158228  0.034066       4        1   9.826622\n",
       "4     -0.138861  0.100855       5        1   9.684829\n",
       "5      0.144032  0.035737       6        1   7.837751\n",
       "6      0.073070  0.176536       7        1   6.767752\n",
       "1      0.153389 -0.069457       8        1   6.593134\n",
       "7      0.112560  0.071615       9        1   6.479887\n",
       "3      0.087697  0.055941      10        1   6.288566, topic_info=      Category          Freq                     Term         Total  loglift  \\\n",
       "term                                                                           \n",
       "34     Default  24955.000000                        �  24955.000000  30.0000   \n",
       "9948   Default  51243.000000                    #news  51243.000000  29.0000   \n",
       "511    Default  25871.000000                        ’  25871.000000  28.0000   \n",
       "9152   Default  14325.000000                    kansa  14325.000000  27.0000   \n",
       "6828   Default  14190.000000                        в  14190.000000  26.0000   \n",
       "92     Default  22246.000000                    trump  22246.000000  25.0000   \n",
       "3559   Default   6923.000000                        ‘   6923.000000  24.0000   \n",
       "6839   Default   7732.000000                        и   7732.000000  23.0000   \n",
       "10818  Default   6998.000000                   #pjnet   6998.000000  22.0000   \n",
       "6966   Default   6450.000000                       на   6450.000000  21.0000   \n",
       "403    Default   6904.000000                    obama   6904.000000  20.0000   \n",
       "868    Default   6630.000000                    state   6630.000000  19.0000   \n",
       "28     Default   8043.000000                  hillary   8043.000000  18.0000   \n",
       "608    Default  10508.000000                   police  10508.000000  17.0000   \n",
       "10     Default  10328.000000                      man  10328.000000  16.0000   \n",
       "3667   Default   4027.000000                       mt   4027.000000  15.0000   \n",
       "10377  Default   5117.000000                    #tcot   5117.000000  14.0000   \n",
       "0      Default   6830.000000                   people   6830.000000  13.0000   \n",
       "3446   Default   3816.000000                      gun   3816.000000  12.0000   \n",
       "6853   Default   5067.000000                       не   5067.000000  11.0000   \n",
       "8329   Default   8501.000000                #politics   8501.000000  10.0000   \n",
       "6663   Default   3391.000000                     case   3391.000000   9.0000   \n",
       "1920   Default   3854.000000                   school   3854.000000   8.0000   \n",
       "1131   Default   7748.000000                      say   7748.000000   7.0000   \n",
       "1082   Default   8527.000000                  clinton   8527.000000   6.0000   \n",
       "169    Default   3707.000000                       rt   3707.000000   5.0000   \n",
       "198    Default   3531.000000                        …   3531.000000   4.0000   \n",
       "6845   Default   4268.000000                        с   4268.000000   3.0000   \n",
       "92560  Default   3505.000000                  wichita   3505.000000   2.0000   \n",
       "231    Default   3492.000000                        “   3492.000000   1.0000   \n",
       "...        ...           ...                      ...           ...      ...   \n",
       "361    Topic10   1533.396240                     join   1534.244263   2.7659   \n",
       "8805   Topic10   1252.452515                  accused   1253.300537   2.7658   \n",
       "510    Topic10   1173.143921                   speech   1173.991943   2.7657   \n",
       "1609   Topic10   1151.922485                     fall   1152.770508   2.7657   \n",
       "11191  Topic10   1125.917236                  patriot   1126.765259   2.7657   \n",
       "1377   Topic10   1121.616089                  freedom   1122.464233   2.7657   \n",
       "8521   Topic10   1082.653076                   enlist   1083.501099   2.7657   \n",
       "1022   Topic10   1046.256226                    photo   1047.104248   2.7656   \n",
       "10552  Topic10   1035.005493                 district   1035.853638   2.7656   \n",
       "435    Topic10   1007.227905                     move   1008.075928   2.7656   \n",
       "16984  Topic10    952.026306              #cosproject    952.874390   2.7655   \n",
       "690    Topic10    911.244507                     rain    912.092590   2.7655   \n",
       "822    Topic10    905.310059                   coming    906.158081   2.7655   \n",
       "11196  Topic10    863.602478                  assault    864.450562   2.7655   \n",
       "6382   Topic10    861.648499                   recall    862.496582   2.7655   \n",
       "1077   Topic10    846.678528                      ask    847.526611   2.7654   \n",
       "3129   Topic10    813.740601                  illegal    814.637939   2.7653   \n",
       "1833   Topic10    766.740967                       16    767.589050   2.7653   \n",
       "8259   Topic10    726.249939                  sheriff    727.097961   2.7653   \n",
       "16846  Topic10    747.611572  https://t.co/rrzgbccxbo    748.500549   2.7652   \n",
       "670    Topic10    692.353088                  teacher    693.201111   2.7652   \n",
       "926    Topic10    684.453735                   others    685.301819   2.7652   \n",
       "10291  Topic10    654.132568                     govt    654.980713   2.7651   \n",
       "10560  Topic10    640.414551                     crew    641.262634   2.7651   \n",
       "1479   Topic10    605.059509                  session    605.907532   2.7650   \n",
       "1619   Topic10    652.260193                       13    653.264343   2.7649   \n",
       "10818  Topic10   4653.128418                   #pjnet   6998.055664   2.3583   \n",
       "3711   Topic10   1123.231079                        –   1770.181641   2.3116   \n",
       "22     Topic10   1414.975098                      ...  10566.720703   0.7558   \n",
       "1603   Topic10    921.472107                     help   2730.227539   1.6803   \n",
       "\n",
       "       logprob  \n",
       "term            \n",
       "34     30.0000  \n",
       "9948   29.0000  \n",
       "511    28.0000  \n",
       "9152   27.0000  \n",
       "6828   26.0000  \n",
       "92     25.0000  \n",
       "3559   24.0000  \n",
       "6839   23.0000  \n",
       "10818  22.0000  \n",
       "6966   21.0000  \n",
       "403    20.0000  \n",
       "868    19.0000  \n",
       "28     18.0000  \n",
       "608    17.0000  \n",
       "10     16.0000  \n",
       "3667   15.0000  \n",
       "10377  14.0000  \n",
       "0      13.0000  \n",
       "3446   12.0000  \n",
       "6853   11.0000  \n",
       "8329   10.0000  \n",
       "6663    9.0000  \n",
       "1920    8.0000  \n",
       "1131    7.0000  \n",
       "1082    6.0000  \n",
       "169     5.0000  \n",
       "198     4.0000  \n",
       "6845    3.0000  \n",
       "92560   2.0000  \n",
       "231     1.0000  \n",
       "...        ...  \n",
       "361    -5.0286  \n",
       "8805   -5.2310  \n",
       "510    -5.2964  \n",
       "1609   -5.3146  \n",
       "11191  -5.3375  \n",
       "1377   -5.3413  \n",
       "8521   -5.3767  \n",
       "1022   -5.4109  \n",
       "10552  -5.4217  \n",
       "435    -5.4489  \n",
       "16984  -5.5052  \n",
       "690    -5.5490  \n",
       "822    -5.5556  \n",
       "11196  -5.6027  \n",
       "6382   -5.6050  \n",
       "1077   -5.6225  \n",
       "3129   -5.6622  \n",
       "1833   -5.7217  \n",
       "8259   -5.7759  \n",
       "16846  -5.7470  \n",
       "670    -5.8237  \n",
       "926    -5.8352  \n",
       "10291  -5.8805  \n",
       "10560  -5.9017  \n",
       "1479   -5.9585  \n",
       "1619   -5.8834  \n",
       "10818  -3.9185  \n",
       "3711   -5.3399  \n",
       "22     -5.1090  \n",
       "1603   -5.5379  \n",
       "\n",
       "[434 rows x 6 columns], token_table=        Topic      Freq            Term\n",
       "term                                   \n",
       "11634       1  0.999459             #2a\n",
       "17479       3  0.003568   #americafirst\n",
       "17479       6  0.995375   #americafirst\n",
       "16855       1  0.019125           #ccot\n",
       "16855       5  0.980633           #ccot\n",
       "16984      10  0.999082     #cosproject\n",
       "17001       7  0.998896        #iceisis\n",
       "3735        2  0.999798           #isis\n",
       "196319      4  0.999152            #job\n",
       "9948        1  0.166578           #news\n",
       "9948        3  0.241008           #news\n",
       "9948        4  0.237261           #news\n",
       "9948        5  0.355033           #news\n",
       "9948       10  0.000098           #news\n",
       "51          6  0.999271            #nra\n",
       "17002       7  0.998975      #opiceisis\n",
       "8902        5  0.998916             #p2\n",
       "10818       5  0.334950          #pjnet\n",
       "10818      10  0.664899          #pjnet\n",
       "8329        1  0.433091       #politics\n",
       "8329        4  0.412036       #politics\n",
       "8329        5  0.154793       #politics\n",
       "17003       7  0.998892        #targets\n",
       "10377       1  0.118036           #tcot\n",
       "10377       5  0.881755           #tcot\n",
       "9786        5  0.999067  #wakeupamerica\n",
       "1060        2  0.000521              ..\n",
       "1060        3  0.975093              ..\n",
       "1060        5  0.023986              ..\n",
       "22          1  0.679019             ...\n",
       "...       ...       ...             ...\n",
       "6913        2  0.999682              за\n",
       "6839        2  0.999802               и\n",
       "6839        8  0.000129               и\n",
       "6850        2  0.999232              из\n",
       "12363       2  0.999350             как\n",
       "6966        2  0.999753              на\n",
       "6966        8  0.000155              на\n",
       "6853        2  0.999893              не\n",
       "12405       2  0.999847               о\n",
       "6952        2  0.999496              по\n",
       "6988        2  0.999541          россии\n",
       "6845        2  0.999036               с\n",
       "6845        8  0.000703               с\n",
       "6922        2  0.999763               у\n",
       "12258       2  0.999712             что\n",
       "6928        2  0.999654             это\n",
       "3711        3  0.006779               –\n",
       "3711        4  0.358155               –\n",
       "3711       10  0.634398               –\n",
       "3117        8  0.999682               —\n",
       "3559        4  0.999826               ‘\n",
       "511         1  0.291326               ’\n",
       "511         3  0.005991               ’\n",
       "511         4  0.701935               ’\n",
       "511         5  0.000696               ’\n",
       "231         3  0.999743               “\n",
       "232         3  0.999847               ”\n",
       "198         5  0.999766               …\n",
       "536         6  0.999697               ️\n",
       "34          6  0.999987               �\n",
       "\n",
       "[550 rows x 3 columns], R=30, lambda_step=0.01, plot_opts={'xlab': 'PC1', 'ylab': 'PC2'}, topic_order=[10, 1, 3, 9, 5, 6, 7, 2, 8, 4])"
      ]
     },
     "execution_count": 48,
     "metadata": {},
     "output_type": "execute_result"
    }
   ],
   "source": [
    "gensim.prepare(ldamodel, gen_corpus, dictionary)"
   ]
  },
  {
   "cell_type": "markdown",
   "metadata": {},
   "source": [
    "## Ideas / Todos\n",
    "\n",
    "* run this analysis on the full corpus (one file takes approximately 8-9 minutes to process)\n",
    "* cherry-pick some words to include into the stopword list\n",
    "* adapt the tokenizer to avoid splitting `#` symbols from twitter hashtags"
   ]
  },
  {
   "cell_type": "code",
   "execution_count": null,
   "metadata": {},
   "outputs": [],
   "source": []
  }
 ],
 "metadata": {
  "kernelspec": {
   "display_name": "Python 3",
   "language": "python",
   "name": "python3"
  },
  "language_info": {
   "codemirror_mode": {
    "name": "ipython",
    "version": 3
   },
   "file_extension": ".py",
   "mimetype": "text/x-python",
   "name": "python",
   "nbconvert_exporter": "python",
   "pygments_lexer": "ipython3",
   "version": "3.6.5"
  }
 },
 "nbformat": 4,
 "nbformat_minor": 2
}
